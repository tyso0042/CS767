{
  "nbformat": 4,
  "nbformat_minor": 0,
  "metadata": {
    "colab": {
      "name": "CS767_WR_Projections_Fantasy_Football_FINAL.ipynb",
      "provenance": [],
      "collapsed_sections": [
        "PbCXCZsqhc-d",
        "mD8-uKAloCT1",
        "2uILa_Eqs3Pj",
        "pmwfyV3G02-L",
        "93XXHahQ4f4n",
        "F-a19qSq4WHO",
        "b1j81R33DtX3"
      ],
      "toc_visible": true
    },
    "kernelspec": {
      "name": "python3",
      "display_name": "Python 3"
    },
    "accelerator": "GPU"
  },
  "cells": [
    {
      "cell_type": "markdown",
      "metadata": {
        "id": "kuMS-9ihmHw3",
        "colab_type": "text"
      },
      "source": [
        "# Input Data Information"
      ]
    },
    {
      "cell_type": "markdown",
      "metadata": {
        "id": "LGjyuzMpl4F4",
        "colab_type": "text"
      },
      "source": [
        "# Package Import"
      ]
    },
    {
      "cell_type": "code",
      "metadata": {
        "colab_type": "code",
        "id": "nAUiH_QCQcg6",
        "colab": {
          "base_uri": "https://localhost:8080/",
          "height": 34
        },
        "outputId": "f7f13757-cafd-4d46-e143-8115a407b709"
      },
      "source": [
        "# Load libraries\n",
        "import numpy as np\n",
        "from keras import models\n",
        "from keras import layers\n",
        "from keras import optimizers\n",
        "from keras import activations \n",
        "from keras.layers import Dropout\n",
        "from keras.constraints import maxnorm\n",
        "\n",
        "from keras.wrappers.scikit_learn import KerasRegressor\n",
        "from sklearn.model_selection import GridSearchCV\n",
        "\n",
        "import time\n",
        "\n",
        "import datetime, os\n",
        "\n",
        "import numpy as np\n",
        "import pandas as pd\n",
        "import sklearn\n",
        "from sklearn import model_selection\n",
        "from sklearn import preprocessing\n",
        "\n",
        "\n",
        "from __future__ import absolute_import, division, print_function, unicode_literals\n",
        "import pathlib\n",
        "import matplotlib.pyplot as plt\n",
        "import seaborn as sns"
      ],
      "execution_count": 2,
      "outputs": [
        {
          "output_type": "stream",
          "text": [
            "Using TensorFlow backend.\n"
          ],
          "name": "stderr"
        }
      ]
    },
    {
      "cell_type": "markdown",
      "metadata": {
        "id": "qqggKRKT3FaH",
        "colab_type": "text"
      },
      "source": [
        "# mounting Google Drive\n",
        "from google.colab import drive\n",
        "drive.mount('/content/drive')"
      ]
    },
    {
      "cell_type": "code",
      "metadata": {
        "id": "xJzURk9Spnug",
        "colab_type": "code",
        "colab": {}
      },
      "source": [
        "# settings\n",
        "pd.options.display.max_rows = 20\n",
        "pd.options.display.float_format = '{:.4f}'.format"
      ],
      "execution_count": 0,
      "outputs": []
    },
    {
      "cell_type": "markdown",
      "metadata": {
        "id": "-K54U6c61nlg",
        "colab_type": "text"
      },
      "source": [
        "# CS767 Final Presentation - Patrick Tyson"
      ]
    },
    {
      "cell_type": "markdown",
      "metadata": {
        "colab_type": "text",
        "id": "GXHVZ8mrrroc"
      },
      "source": [
        "## Data Sources\n",
        "This data set is pulled from several different sources:\n",
        "\n",
        "1.   All play-by-play data is pulled from the nflscrapR .csv files available on the project's GitHub page (https://github.com/ryurko/nflscrapR-data/tree/master/play_by_play_data/regular_season)\n",
        "\n",
        "2.   All games data is pulled from the nflscrapR .csv files available on the project's GitHub page (https://github.com/ryurko/nflscrapR-data/tree/master/games_data/regular_season)\n",
        "\n",
        "3. All roster or player data is pulled from the nflscrapR .csv files available on the project's GitHub page (https://github.com/ryurko/nflscrapR-data/tree/master/roster_data/regular_season)\n",
        "\n",
        "4. All data related to the NFL Draft is from Pro-Football-Reference (https://www.pro-football-reference.com/play-index/draft-finder.cgi)\n",
        "\n",
        "5. All data related to the NFL Combine is from Pro-Football-Reference (https://www.pro-football-reference.com/play-index/nfl-combine-results.cgi)\n",
        "\n",
        "\n",
        "\n",
        "\n",
        "\n"
      ]
    },
    {
      "cell_type": "markdown",
      "metadata": {
        "id": "j8bUJruFrskC",
        "colab_type": "text"
      },
      "source": [
        "## Data Aggregation\n",
        "After this data was pulled together, I used aggregation and summary tools from Alteryx to prep the data for feeding the Neural Network. I spent many hours trying via Python to accomplish this task, but ran into countless issues with Pandas groupby and agg functions, and was unable to find a simple way to compute multi-row calculations like 3-game averages. This is how I typically work through projects in Python or R, prepare the data quickly and easily in Alteyrx, then run Python/R on the cleansed data file. I did ask Dr. Braude about using external tools to prepare our data file, and he stressed that the training of the Neural Network is more important in this process than the preparation of the data set.  "
      ]
    },
    {
      "cell_type": "markdown",
      "metadata": {
        "id": "UvwXWmQHme1q",
        "colab_type": "text"
      },
      "source": [
        "# Data Import and Preparation"
      ]
    },
    {
      "cell_type": "markdown",
      "metadata": {
        "id": "WsiC4bvJrDWN",
        "colab_type": "text"
      },
      "source": [
        "## Importing File"
      ]
    },
    {
      "cell_type": "code",
      "metadata": {
        "id": "jSwatkph4Afb",
        "colab_type": "code",
        "outputId": "6c382d5f-17f8-4483-860c-505ab56f9651",
        "colab": {
          "resources": {
            "http://localhost:8080/nbextensions/google.colab/files.js": {
              "data": "Ly8gQ29weXJpZ2h0IDIwMTcgR29vZ2xlIExMQwovLwovLyBMaWNlbnNlZCB1bmRlciB0aGUgQXBhY2hlIExpY2Vuc2UsIFZlcnNpb24gMi4wICh0aGUgIkxpY2Vuc2UiKTsKLy8geW91IG1heSBub3QgdXNlIHRoaXMgZmlsZSBleGNlcHQgaW4gY29tcGxpYW5jZSB3aXRoIHRoZSBMaWNlbnNlLgovLyBZb3UgbWF5IG9idGFpbiBhIGNvcHkgb2YgdGhlIExpY2Vuc2UgYXQKLy8KLy8gICAgICBodHRwOi8vd3d3LmFwYWNoZS5vcmcvbGljZW5zZXMvTElDRU5TRS0yLjAKLy8KLy8gVW5sZXNzIHJlcXVpcmVkIGJ5IGFwcGxpY2FibGUgbGF3IG9yIGFncmVlZCB0byBpbiB3cml0aW5nLCBzb2Z0d2FyZQovLyBkaXN0cmlidXRlZCB1bmRlciB0aGUgTGljZW5zZSBpcyBkaXN0cmlidXRlZCBvbiBhbiAiQVMgSVMiIEJBU0lTLAovLyBXSVRIT1VUIFdBUlJBTlRJRVMgT1IgQ09ORElUSU9OUyBPRiBBTlkgS0lORCwgZWl0aGVyIGV4cHJlc3Mgb3IgaW1wbGllZC4KLy8gU2VlIHRoZSBMaWNlbnNlIGZvciB0aGUgc3BlY2lmaWMgbGFuZ3VhZ2UgZ292ZXJuaW5nIHBlcm1pc3Npb25zIGFuZAovLyBsaW1pdGF0aW9ucyB1bmRlciB0aGUgTGljZW5zZS4KCi8qKgogKiBAZmlsZW92ZXJ2aWV3IEhlbHBlcnMgZm9yIGdvb2dsZS5jb2xhYiBQeXRob24gbW9kdWxlLgogKi8KKGZ1bmN0aW9uKHNjb3BlKSB7CmZ1bmN0aW9uIHNwYW4odGV4dCwgc3R5bGVBdHRyaWJ1dGVzID0ge30pIHsKICBjb25zdCBlbGVtZW50ID0gZG9jdW1lbnQuY3JlYXRlRWxlbWVudCgnc3BhbicpOwogIGVsZW1lbnQudGV4dENvbnRlbnQgPSB0ZXh0OwogIGZvciAoY29uc3Qga2V5IG9mIE9iamVjdC5rZXlzKHN0eWxlQXR0cmlidXRlcykpIHsKICAgIGVsZW1lbnQuc3R5bGVba2V5XSA9IHN0eWxlQXR0cmlidXRlc1trZXldOwogIH0KICByZXR1cm4gZWxlbWVudDsKfQoKLy8gTWF4IG51bWJlciBvZiBieXRlcyB3aGljaCB3aWxsIGJlIHVwbG9hZGVkIGF0IGEgdGltZS4KY29uc3QgTUFYX1BBWUxPQURfU0laRSA9IDEwMCAqIDEwMjQ7Ci8vIE1heCBhbW91bnQgb2YgdGltZSB0byBibG9jayB3YWl0aW5nIGZvciB0aGUgdXNlci4KY29uc3QgRklMRV9DSEFOR0VfVElNRU9VVF9NUyA9IDMwICogMTAwMDsKCmZ1bmN0aW9uIF91cGxvYWRGaWxlcyhpbnB1dElkLCBvdXRwdXRJZCkgewogIGNvbnN0IHN0ZXBzID0gdXBsb2FkRmlsZXNTdGVwKGlucHV0SWQsIG91dHB1dElkKTsKICBjb25zdCBvdXRwdXRFbGVtZW50ID0gZG9jdW1lbnQuZ2V0RWxlbWVudEJ5SWQob3V0cHV0SWQpOwogIC8vIENhY2hlIHN0ZXBzIG9uIHRoZSBvdXRwdXRFbGVtZW50IHRvIG1ha2UgaXQgYXZhaWxhYmxlIGZvciB0aGUgbmV4dCBjYWxsCiAgLy8gdG8gdXBsb2FkRmlsZXNDb250aW51ZSBmcm9tIFB5dGhvbi4KICBvdXRwdXRFbGVtZW50LnN0ZXBzID0gc3RlcHM7CgogIHJldHVybiBfdXBsb2FkRmlsZXNDb250aW51ZShvdXRwdXRJZCk7Cn0KCi8vIFRoaXMgaXMgcm91Z2hseSBhbiBhc3luYyBnZW5lcmF0b3IgKG5vdCBzdXBwb3J0ZWQgaW4gdGhlIGJyb3dzZXIgeWV0KSwKLy8gd2hlcmUgdGhlcmUgYXJlIG11bHRpcGxlIGFzeW5jaHJvbm91cyBzdGVwcyBhbmQgdGhlIFB5dGhvbiBzaWRlIGlzIGdvaW5nCi8vIHRvIHBvbGwgZm9yIGNvbXBsZXRpb24gb2YgZWFjaCBzdGVwLgovLyBUaGlzIHVzZXMgYSBQcm9taXNlIHRvIGJsb2NrIHRoZSBweXRob24gc2lkZSBvbiBjb21wbGV0aW9uIG9mIGVhY2ggc3RlcCwKLy8gdGhlbiBwYXNzZXMgdGhlIHJlc3VsdCBvZiB0aGUgcHJldmlvdXMgc3RlcCBhcyB0aGUgaW5wdXQgdG8gdGhlIG5leHQgc3RlcC4KZnVuY3Rpb24gX3VwbG9hZEZpbGVzQ29udGludWUob3V0cHV0SWQpIHsKICBjb25zdCBvdXRwdXRFbGVtZW50ID0gZG9jdW1lbnQuZ2V0RWxlbWVudEJ5SWQob3V0cHV0SWQpOwogIGNvbnN0IHN0ZXBzID0gb3V0cHV0RWxlbWVudC5zdGVwczsKCiAgY29uc3QgbmV4dCA9IHN0ZXBzLm5leHQob3V0cHV0RWxlbWVudC5sYXN0UHJvbWlzZVZhbHVlKTsKICByZXR1cm4gUHJvbWlzZS5yZXNvbHZlKG5leHQudmFsdWUucHJvbWlzZSkudGhlbigodmFsdWUpID0+IHsKICAgIC8vIENhY2hlIHRoZSBsYXN0IHByb21pc2UgdmFsdWUgdG8gbWFrZSBpdCBhdmFpbGFibGUgdG8gdGhlIG5leHQKICAgIC8vIHN0ZXAgb2YgdGhlIGdlbmVyYXRvci4KICAgIG91dHB1dEVsZW1lbnQubGFzdFByb21pc2VWYWx1ZSA9IHZhbHVlOwogICAgcmV0dXJuIG5leHQudmFsdWUucmVzcG9uc2U7CiAgfSk7Cn0KCi8qKgogKiBHZW5lcmF0b3IgZnVuY3Rpb24gd2hpY2ggaXMgY2FsbGVkIGJldHdlZW4gZWFjaCBhc3luYyBzdGVwIG9mIHRoZSB1cGxvYWQKICogcHJvY2Vzcy4KICogQHBhcmFtIHtzdHJpbmd9IGlucHV0SWQgRWxlbWVudCBJRCBvZiB0aGUgaW5wdXQgZmlsZSBwaWNrZXIgZWxlbWVudC4KICogQHBhcmFtIHtzdHJpbmd9IG91dHB1dElkIEVsZW1lbnQgSUQgb2YgdGhlIG91dHB1dCBkaXNwbGF5LgogKiBAcmV0dXJuIHshSXRlcmFibGU8IU9iamVjdD59IEl0ZXJhYmxlIG9mIG5leHQgc3RlcHMuCiAqLwpmdW5jdGlvbiogdXBsb2FkRmlsZXNTdGVwKGlucHV0SWQsIG91dHB1dElkKSB7CiAgY29uc3QgaW5wdXRFbGVtZW50ID0gZG9jdW1lbnQuZ2V0RWxlbWVudEJ5SWQoaW5wdXRJZCk7CiAgaW5wdXRFbGVtZW50LmRpc2FibGVkID0gZmFsc2U7CgogIGNvbnN0IG91dHB1dEVsZW1lbnQgPSBkb2N1bWVudC5nZXRFbGVtZW50QnlJZChvdXRwdXRJZCk7CiAgb3V0cHV0RWxlbWVudC5pbm5lckhUTUwgPSAnJzsKCiAgY29uc3QgcGlja2VkUHJvbWlzZSA9IG5ldyBQcm9taXNlKChyZXNvbHZlKSA9PiB7CiAgICBpbnB1dEVsZW1lbnQuYWRkRXZlbnRMaXN0ZW5lcignY2hhbmdlJywgKGUpID0+IHsKICAgICAgcmVzb2x2ZShlLnRhcmdldC5maWxlcyk7CiAgICB9KTsKICB9KTsKCiAgY29uc3QgY2FuY2VsID0gZG9jdW1lbnQuY3JlYXRlRWxlbWVudCgnYnV0dG9uJyk7CiAgaW5wdXRFbGVtZW50LnBhcmVudEVsZW1lbnQuYXBwZW5kQ2hpbGQoY2FuY2VsKTsKICBjYW5jZWwudGV4dENvbnRlbnQgPSAnQ2FuY2VsIHVwbG9hZCc7CiAgY29uc3QgY2FuY2VsUHJvbWlzZSA9IG5ldyBQcm9taXNlKChyZXNvbHZlKSA9PiB7CiAgICBjYW5jZWwub25jbGljayA9ICgpID0+IHsKICAgICAgcmVzb2x2ZShudWxsKTsKICAgIH07CiAgfSk7CgogIC8vIENhbmNlbCB1cGxvYWQgaWYgdXNlciBoYXNuJ3QgcGlja2VkIGFueXRoaW5nIGluIHRpbWVvdXQuCiAgY29uc3QgdGltZW91dFByb21pc2UgPSBuZXcgUHJvbWlzZSgocmVzb2x2ZSkgPT4gewogICAgc2V0VGltZW91dCgoKSA9PiB7CiAgICAgIHJlc29sdmUobnVsbCk7CiAgICB9LCBGSUxFX0NIQU5HRV9USU1FT1VUX01TKTsKICB9KTsKCiAgLy8gV2FpdCBmb3IgdGhlIHVzZXIgdG8gcGljayB0aGUgZmlsZXMuCiAgY29uc3QgZmlsZXMgPSB5aWVsZCB7CiAgICBwcm9taXNlOiBQcm9taXNlLnJhY2UoW3BpY2tlZFByb21pc2UsIHRpbWVvdXRQcm9taXNlLCBjYW5jZWxQcm9taXNlXSksCiAgICByZXNwb25zZTogewogICAgICBhY3Rpb246ICdzdGFydGluZycsCiAgICB9CiAgfTsKCiAgaWYgKCFmaWxlcykgewogICAgcmV0dXJuIHsKICAgICAgcmVzcG9uc2U6IHsKICAgICAgICBhY3Rpb246ICdjb21wbGV0ZScsCiAgICAgIH0KICAgIH07CiAgfQoKICBjYW5jZWwucmVtb3ZlKCk7CgogIC8vIERpc2FibGUgdGhlIGlucHV0IGVsZW1lbnQgc2luY2UgZnVydGhlciBwaWNrcyBhcmUgbm90IGFsbG93ZWQuCiAgaW5wdXRFbGVtZW50LmRpc2FibGVkID0gdHJ1ZTsKCiAgZm9yIChjb25zdCBmaWxlIG9mIGZpbGVzKSB7CiAgICBjb25zdCBsaSA9IGRvY3VtZW50LmNyZWF0ZUVsZW1lbnQoJ2xpJyk7CiAgICBsaS5hcHBlbmQoc3BhbihmaWxlLm5hbWUsIHtmb250V2VpZ2h0OiAnYm9sZCd9KSk7CiAgICBsaS5hcHBlbmQoc3BhbigKICAgICAgICBgKCR7ZmlsZS50eXBlIHx8ICduL2EnfSkgLSAke2ZpbGUuc2l6ZX0gYnl0ZXMsIGAgKwogICAgICAgIGBsYXN0IG1vZGlmaWVkOiAkewogICAgICAgICAgICBmaWxlLmxhc3RNb2RpZmllZERhdGUgPyBmaWxlLmxhc3RNb2RpZmllZERhdGUudG9Mb2NhbGVEYXRlU3RyaW5nKCkgOgogICAgICAgICAgICAgICAgICAgICAgICAgICAgICAgICAgICAnbi9hJ30gLSBgKSk7CiAgICBjb25zdCBwZXJjZW50ID0gc3BhbignMCUgZG9uZScpOwogICAgbGkuYXBwZW5kQ2hpbGQocGVyY2VudCk7CgogICAgb3V0cHV0RWxlbWVudC5hcHBlbmRDaGlsZChsaSk7CgogICAgY29uc3QgZmlsZURhdGFQcm9taXNlID0gbmV3IFByb21pc2UoKHJlc29sdmUpID0+IHsKICAgICAgY29uc3QgcmVhZGVyID0gbmV3IEZpbGVSZWFkZXIoKTsKICAgICAgcmVhZGVyLm9ubG9hZCA9IChlKSA9PiB7CiAgICAgICAgcmVzb2x2ZShlLnRhcmdldC5yZXN1bHQpOwogICAgICB9OwogICAgICByZWFkZXIucmVhZEFzQXJyYXlCdWZmZXIoZmlsZSk7CiAgICB9KTsKICAgIC8vIFdhaXQgZm9yIHRoZSBkYXRhIHRvIGJlIHJlYWR5LgogICAgbGV0IGZpbGVEYXRhID0geWllbGQgewogICAgICBwcm9taXNlOiBmaWxlRGF0YVByb21pc2UsCiAgICAgIHJlc3BvbnNlOiB7CiAgICAgICAgYWN0aW9uOiAnY29udGludWUnLAogICAgICB9CiAgICB9OwoKICAgIC8vIFVzZSBhIGNodW5rZWQgc2VuZGluZyB0byBhdm9pZCBtZXNzYWdlIHNpemUgbGltaXRzLiBTZWUgYi82MjExNTY2MC4KICAgIGxldCBwb3NpdGlvbiA9IDA7CiAgICB3aGlsZSAocG9zaXRpb24gPCBmaWxlRGF0YS5ieXRlTGVuZ3RoKSB7CiAgICAgIGNvbnN0IGxlbmd0aCA9IE1hdGgubWluKGZpbGVEYXRhLmJ5dGVMZW5ndGggLSBwb3NpdGlvbiwgTUFYX1BBWUxPQURfU0laRSk7CiAgICAgIGNvbnN0IGNodW5rID0gbmV3IFVpbnQ4QXJyYXkoZmlsZURhdGEsIHBvc2l0aW9uLCBsZW5ndGgpOwogICAgICBwb3NpdGlvbiArPSBsZW5ndGg7CgogICAgICBjb25zdCBiYXNlNjQgPSBidG9hKFN0cmluZy5mcm9tQ2hhckNvZGUuYXBwbHkobnVsbCwgY2h1bmspKTsKICAgICAgeWllbGQgewogICAgICAgIHJlc3BvbnNlOiB7CiAgICAgICAgICBhY3Rpb246ICdhcHBlbmQnLAogICAgICAgICAgZmlsZTogZmlsZS5uYW1lLAogICAgICAgICAgZGF0YTogYmFzZTY0LAogICAgICAgIH0sCiAgICAgIH07CiAgICAgIHBlcmNlbnQudGV4dENvbnRlbnQgPQogICAgICAgICAgYCR7TWF0aC5yb3VuZCgocG9zaXRpb24gLyBmaWxlRGF0YS5ieXRlTGVuZ3RoKSAqIDEwMCl9JSBkb25lYDsKICAgIH0KICB9CgogIC8vIEFsbCBkb25lLgogIHlpZWxkIHsKICAgIHJlc3BvbnNlOiB7CiAgICAgIGFjdGlvbjogJ2NvbXBsZXRlJywKICAgIH0KICB9Owp9CgpzY29wZS5nb29nbGUgPSBzY29wZS5nb29nbGUgfHwge307CnNjb3BlLmdvb2dsZS5jb2xhYiA9IHNjb3BlLmdvb2dsZS5jb2xhYiB8fCB7fTsKc2NvcGUuZ29vZ2xlLmNvbGFiLl9maWxlcyA9IHsKICBfdXBsb2FkRmlsZXMsCiAgX3VwbG9hZEZpbGVzQ29udGludWUsCn07Cn0pKHNlbGYpOwo=",
              "ok": true,
              "headers": [
                [
                  "content-type",
                  "application/javascript"
                ]
              ],
              "status": 200,
              "status_text": ""
            }
          },
          "base_uri": "https://localhost:8080/",
          "height": 74
        }
      },
      "source": [
        "from google.colab import files\n",
        "uploaded = files.upload()"
      ],
      "execution_count": 5,
      "outputs": [
        {
          "output_type": "display_data",
          "data": {
            "text/html": [
              "\n",
              "     <input type=\"file\" id=\"files-5e6a71a3-98e7-4ac7-96c9-c8db234cbf49\" name=\"files[]\" multiple disabled />\n",
              "     <output id=\"result-5e6a71a3-98e7-4ac7-96c9-c8db234cbf49\">\n",
              "      Upload widget is only available when the cell has been executed in the\n",
              "      current browser session. Please rerun this cell to enable.\n",
              "      </output>\n",
              "      <script src=\"/nbextensions/google.colab/files.js\"></script> "
            ],
            "text/plain": [
              "<IPython.core.display.HTML object>"
            ]
          },
          "metadata": {
            "tags": []
          }
        },
        {
          "output_type": "stream",
          "text": [
            "Saving CS767_NN_Input_Data_trimmed.csv to CS767_NN_Input_Data_trimmed.csv\n"
          ],
          "name": "stdout"
        }
      ]
    },
    {
      "cell_type": "code",
      "metadata": {
        "id": "L91-W5m44QOo",
        "colab_type": "code",
        "colab": {}
      },
      "source": [
        "import io \n",
        "df = pd.read_csv(io.BytesIO(uploaded['CS767_NN_Input_Data_trimmed.csv']))"
      ],
      "execution_count": 0,
      "outputs": []
    },
    {
      "cell_type": "markdown",
      "metadata": {
        "id": "MfCVrDByykB-",
        "colab_type": "text"
      },
      "source": [
        "## Data Segmentation"
      ]
    },
    {
      "cell_type": "code",
      "metadata": {
        "id": "jS3uBUaZtZoM",
        "colab_type": "code",
        "colab": {}
      },
      "source": [
        "# Training - Test (70-15-15%)\n",
        "train, val_and_test = sklearn.model_selection.train_test_split(df, test_size=0.3, random_state=456, shuffle=True)\n",
        "\n",
        "# Need to split val and test (30%) up\n",
        "val, test = sklearn.model_selection.train_test_split(val_and_test, test_size=0.5, random_state=456, shuffle=True)"
      ],
      "execution_count": 0,
      "outputs": []
    },
    {
      "cell_type": "code",
      "metadata": {
        "id": "mTWBRwOq0gCe",
        "colab_type": "code",
        "colab": {}
      },
      "source": [
        "# Neural Network DATA \n",
        "Xtrain = train.iloc[:,7:43].astype(np.float32)\n",
        "Xval = val.iloc[:,7:43].astype(np.float32)\n",
        "Xtest = test.iloc[:,7:43].astype(np.float32)\n",
        "Ytrain = train.iloc[:,-1].astype(np.float32).values.reshape(-1,1)\n",
        "Yval = val.iloc[:,-1].astype(np.float32).values.reshape(-1,1)\n",
        "Ytest = test.iloc[:,-1].astype(np.float32).values.reshape(-1,1)\n",
        "#Xtrain"
      ],
      "execution_count": 0,
      "outputs": []
    },
    {
      "cell_type": "markdown",
      "metadata": {
        "id": "se8XUycOq6vd",
        "colab_type": "text"
      },
      "source": [
        "## Data Normalization - Standard Scaler"
      ]
    },
    {
      "cell_type": "code",
      "metadata": {
        "id": "4I-nBEU8oWdJ",
        "colab_type": "code",
        "outputId": "489e636d-3202-4dca-c7c8-9e7024002dba",
        "colab": {
          "base_uri": "https://localhost:8080/",
          "height": 34
        }
      },
      "source": [
        "# Getting Summary Statistics for Rescaling Outputs\n",
        "train_mean = np.mean(Ytrain)\n",
        "train_mdn = np.median(Ytrain)\n",
        "train_stdev = np.std(Ytrain)\n",
        "val_mean = np.mean(Yval)\n",
        "val_mdn = np.median(Yval)\n",
        "val_stdev = np.std(Yval)\n",
        "test_mean = np.mean(Ytest)\n",
        "test_mdn = np.median(Ytest)\n",
        "test_stdev = np.std(Ytest)\n",
        "train_mean"
      ],
      "execution_count": 0,
      "outputs": [
        {
          "output_type": "execute_result",
          "data": {
            "text/plain": [
              "7.821415"
            ]
          },
          "metadata": {
            "tags": []
          },
          "execution_count": 11
        }
      ]
    },
    {
      "cell_type": "code",
      "metadata": {
        "id": "Jqm9zduBsFca",
        "colab_type": "code",
        "colab": {}
      },
      "source": [
        "# Normalizing data using Standard Scaler\n",
        "scaler = preprocessing.StandardScaler()\n",
        "#scaler = preprocessing.RobustScaler()\n",
        "\n",
        "# Normalizing training, validation, and test data individually\n",
        "Xtrain_norm = scaler.fit_transform(Xtrain)\n",
        "Xval_norm = scaler.fit_transform(Xval)\n",
        "Xtest_norm = scaler.fit_transform(Xtest)\n",
        "Ytrain_norm = scaler.fit_transform(Ytrain)\n",
        "Yval_norm = scaler.fit_transform(Yval)\n",
        "Ytest_norm = scaler.fit_transform(Ytest)"
      ],
      "execution_count": 0,
      "outputs": []
    },
    {
      "cell_type": "markdown",
      "metadata": {
        "id": "u9hT66hGRCZ1",
        "colab_type": "text"
      },
      "source": [
        "# Building Initial Neural Network\n",
        "\n",
        "All \"Building Initial Neural Network\" tuning subsections adaptaed from: https://machinelearningmastery.com/grid-search-hyperparameters-deep-learning-models-python-keras/"
      ]
    },
    {
      "cell_type": "markdown",
      "metadata": {
        "id": "iVvacvDUCa1S",
        "colab_type": "text"
      },
      "source": [
        "## Model Structure Hyperparameters"
      ]
    },
    {
      "cell_type": "code",
      "metadata": {
        "id": "1U5qQgC41Gln",
        "colab_type": "code",
        "colab": {}
      },
      "source": [
        "n_inputs = len(Xtrain_norm)\n",
        "n_features = len(Xtrain_norm[0])\n",
        "n_hidden1 = len(Xtrain_norm[0])\n",
        "n_hidden2 = 15\n",
        "n_hidden3 = 10\n",
        "n_outputs = 1\n",
        "\n",
        "n_epochs = 50"
      ],
      "execution_count": 0,
      "outputs": []
    },
    {
      "cell_type": "markdown",
      "metadata": {
        "id": "qUblKxStRUV8",
        "colab_type": "text"
      },
      "source": [
        "## Model Structure Function"
      ]
    },
    {
      "cell_type": "code",
      "metadata": {
        "id": "OSYI5Y_IHmi4",
        "colab_type": "code",
        "colab": {}
      },
      "source": [
        "# Create function returning a compiled network\n",
        "def create_network():\n",
        "    \n",
        "    # Start neural network\n",
        "    network = models.Sequential()\n",
        "\n",
        "    # Add layer with a ReLU activation function and bias\n",
        "    network.add(layers.Dense(units=n_hidden1, activation='relu', use_bias=True, input_shape=(n_features,)))\n",
        "\n",
        "    # Add layer with a ReLU activation function and bias\n",
        "    network.add(layers.Dense(units=n_hidden2, activation='relu', use_bias=True))\n",
        "\n",
        "    # Add layer with ReLU activation function and bias\n",
        "    network.add(layers.Dense(units=n_hidden3, activation='relu', use_bias=True))\n",
        "\n",
        "    # Add output layer with ReLU activation function\n",
        "    network.add(layers.Dense(units=n_outputs, activation='relu'))\n",
        "\n",
        "    # Compile neural network\n",
        "    network.compile(optimizer='Adam',\n",
        "                    loss='mean_squared_error',\n",
        "                    metrics=['mean_squared_error', 'mean_absolute_error'])\n",
        "    \n",
        "    # Return compiled network\n",
        "    return network"
      ],
      "execution_count": 0,
      "outputs": []
    },
    {
      "cell_type": "markdown",
      "metadata": {
        "id": "_FY4BNOXRcho",
        "colab_type": "text"
      },
      "source": [
        "## Creating Model"
      ]
    },
    {
      "cell_type": "code",
      "metadata": {
        "id": "xIRfNscKHmn2",
        "colab_type": "code",
        "colab": {}
      },
      "source": [
        "# Set random seed\n",
        "np.random.seed(123)\n",
        "\n",
        "# create model\n",
        "nn = KerasRegressor(build_fn=create_network)"
      ],
      "execution_count": 0,
      "outputs": []
    },
    {
      "cell_type": "code",
      "metadata": {
        "id": "oGNYmdLBRATe",
        "colab_type": "code",
        "outputId": "7054af50-728b-4219-90d3-31d223b1b348",
        "colab": {
          "base_uri": "https://localhost:8080/",
          "height": 706
        }
      },
      "source": [
        "history = nn.fit(x = Xtrain_norm, verbose=0, y = Ytrain_norm,\n",
        "       epochs=n_epochs\n",
        "       , validation_data = (Xval_norm, Yval_norm)\n",
        ")\n",
        "hist = pd.DataFrame(history.history)\n",
        "hist['epoch'] = history.epoch\n",
        "hist"
      ],
      "execution_count": 0,
      "outputs": [
        {
          "output_type": "execute_result",
          "data": {
            "text/html": [
              "<div>\n",
              "<style scoped>\n",
              "    .dataframe tbody tr th:only-of-type {\n",
              "        vertical-align: middle;\n",
              "    }\n",
              "\n",
              "    .dataframe tbody tr th {\n",
              "        vertical-align: top;\n",
              "    }\n",
              "\n",
              "    .dataframe thead th {\n",
              "        text-align: right;\n",
              "    }\n",
              "</style>\n",
              "<table border=\"1\" class=\"dataframe\">\n",
              "  <thead>\n",
              "    <tr style=\"text-align: right;\">\n",
              "      <th></th>\n",
              "      <th>val_loss</th>\n",
              "      <th>val_mean_squared_error</th>\n",
              "      <th>val_mean_absolute_error</th>\n",
              "      <th>loss</th>\n",
              "      <th>mean_squared_error</th>\n",
              "      <th>mean_absolute_error</th>\n",
              "      <th>epoch</th>\n",
              "    </tr>\n",
              "  </thead>\n",
              "  <tbody>\n",
              "    <tr>\n",
              "      <th>0</th>\n",
              "      <td>0.9157</td>\n",
              "      <td>0.9157</td>\n",
              "      <td>0.7728</td>\n",
              "      <td>0.9342</td>\n",
              "      <td>0.9342</td>\n",
              "      <td>0.7792</td>\n",
              "      <td>0</td>\n",
              "    </tr>\n",
              "    <tr>\n",
              "      <th>1</th>\n",
              "      <td>0.9032</td>\n",
              "      <td>0.9032</td>\n",
              "      <td>0.7758</td>\n",
              "      <td>0.8940</td>\n",
              "      <td>0.8940</td>\n",
              "      <td>0.7693</td>\n",
              "      <td>1</td>\n",
              "    </tr>\n",
              "    <tr>\n",
              "      <th>2</th>\n",
              "      <td>0.9010</td>\n",
              "      <td>0.9010</td>\n",
              "      <td>0.7728</td>\n",
              "      <td>0.8819</td>\n",
              "      <td>0.8819</td>\n",
              "      <td>0.7675</td>\n",
              "      <td>2</td>\n",
              "    </tr>\n",
              "    <tr>\n",
              "      <th>3</th>\n",
              "      <td>0.9001</td>\n",
              "      <td>0.9001</td>\n",
              "      <td>0.7745</td>\n",
              "      <td>0.8741</td>\n",
              "      <td>0.8741</td>\n",
              "      <td>0.7634</td>\n",
              "      <td>3</td>\n",
              "    </tr>\n",
              "    <tr>\n",
              "      <th>4</th>\n",
              "      <td>0.9013</td>\n",
              "      <td>0.9013</td>\n",
              "      <td>0.7745</td>\n",
              "      <td>0.8694</td>\n",
              "      <td>0.8694</td>\n",
              "      <td>0.7625</td>\n",
              "      <td>4</td>\n",
              "    </tr>\n",
              "    <tr>\n",
              "      <th>5</th>\n",
              "      <td>0.8982</td>\n",
              "      <td>0.8982</td>\n",
              "      <td>0.7748</td>\n",
              "      <td>0.8637</td>\n",
              "      <td>0.8637</td>\n",
              "      <td>0.7602</td>\n",
              "      <td>5</td>\n",
              "    </tr>\n",
              "    <tr>\n",
              "      <th>6</th>\n",
              "      <td>0.9007</td>\n",
              "      <td>0.9007</td>\n",
              "      <td>0.7763</td>\n",
              "      <td>0.8610</td>\n",
              "      <td>0.8610</td>\n",
              "      <td>0.7598</td>\n",
              "      <td>6</td>\n",
              "    </tr>\n",
              "    <tr>\n",
              "      <th>7</th>\n",
              "      <td>0.9017</td>\n",
              "      <td>0.9017</td>\n",
              "      <td>0.7773</td>\n",
              "      <td>0.8571</td>\n",
              "      <td>0.8571</td>\n",
              "      <td>0.7592</td>\n",
              "      <td>7</td>\n",
              "    </tr>\n",
              "    <tr>\n",
              "      <th>8</th>\n",
              "      <td>0.9033</td>\n",
              "      <td>0.9033</td>\n",
              "      <td>0.7792</td>\n",
              "      <td>0.8531</td>\n",
              "      <td>0.8531</td>\n",
              "      <td>0.7570</td>\n",
              "      <td>8</td>\n",
              "    </tr>\n",
              "    <tr>\n",
              "      <th>9</th>\n",
              "      <td>0.9052</td>\n",
              "      <td>0.9052</td>\n",
              "      <td>0.7763</td>\n",
              "      <td>0.8508</td>\n",
              "      <td>0.8508</td>\n",
              "      <td>0.7547</td>\n",
              "      <td>9</td>\n",
              "    </tr>\n",
              "    <tr>\n",
              "      <th>...</th>\n",
              "      <td>...</td>\n",
              "      <td>...</td>\n",
              "      <td>...</td>\n",
              "      <td>...</td>\n",
              "      <td>...</td>\n",
              "      <td>...</td>\n",
              "      <td>...</td>\n",
              "    </tr>\n",
              "    <tr>\n",
              "      <th>40</th>\n",
              "      <td>1.0192</td>\n",
              "      <td>1.0192</td>\n",
              "      <td>0.8201</td>\n",
              "      <td>0.7159</td>\n",
              "      <td>0.7159</td>\n",
              "      <td>0.7040</td>\n",
              "      <td>40</td>\n",
              "    </tr>\n",
              "    <tr>\n",
              "      <th>41</th>\n",
              "      <td>1.0406</td>\n",
              "      <td>1.0406</td>\n",
              "      <td>0.8344</td>\n",
              "      <td>0.7090</td>\n",
              "      <td>0.7090</td>\n",
              "      <td>0.6982</td>\n",
              "      <td>41</td>\n",
              "    </tr>\n",
              "    <tr>\n",
              "      <th>42</th>\n",
              "      <td>1.0614</td>\n",
              "      <td>1.0614</td>\n",
              "      <td>0.8426</td>\n",
              "      <td>0.7137</td>\n",
              "      <td>0.7137</td>\n",
              "      <td>0.7036</td>\n",
              "      <td>42</td>\n",
              "    </tr>\n",
              "    <tr>\n",
              "      <th>43</th>\n",
              "      <td>1.0295</td>\n",
              "      <td>1.0295</td>\n",
              "      <td>0.8236</td>\n",
              "      <td>0.7141</td>\n",
              "      <td>0.7141</td>\n",
              "      <td>0.7000</td>\n",
              "      <td>43</td>\n",
              "    </tr>\n",
              "    <tr>\n",
              "      <th>44</th>\n",
              "      <td>1.0452</td>\n",
              "      <td>1.0452</td>\n",
              "      <td>0.8310</td>\n",
              "      <td>0.7012</td>\n",
              "      <td>0.7012</td>\n",
              "      <td>0.6955</td>\n",
              "      <td>44</td>\n",
              "    </tr>\n",
              "    <tr>\n",
              "      <th>45</th>\n",
              "      <td>1.0429</td>\n",
              "      <td>1.0429</td>\n",
              "      <td>0.8306</td>\n",
              "      <td>0.7001</td>\n",
              "      <td>0.7001</td>\n",
              "      <td>0.6956</td>\n",
              "      <td>45</td>\n",
              "    </tr>\n",
              "    <tr>\n",
              "      <th>46</th>\n",
              "      <td>1.0462</td>\n",
              "      <td>1.0462</td>\n",
              "      <td>0.8275</td>\n",
              "      <td>0.6996</td>\n",
              "      <td>0.6996</td>\n",
              "      <td>0.6936</td>\n",
              "      <td>46</td>\n",
              "    </tr>\n",
              "    <tr>\n",
              "      <th>47</th>\n",
              "      <td>1.0546</td>\n",
              "      <td>1.0546</td>\n",
              "      <td>0.8294</td>\n",
              "      <td>0.6964</td>\n",
              "      <td>0.6964</td>\n",
              "      <td>0.6942</td>\n",
              "      <td>47</td>\n",
              "    </tr>\n",
              "    <tr>\n",
              "      <th>48</th>\n",
              "      <td>1.0634</td>\n",
              "      <td>1.0634</td>\n",
              "      <td>0.8343</td>\n",
              "      <td>0.6928</td>\n",
              "      <td>0.6928</td>\n",
              "      <td>0.6919</td>\n",
              "      <td>48</td>\n",
              "    </tr>\n",
              "    <tr>\n",
              "      <th>49</th>\n",
              "      <td>1.0160</td>\n",
              "      <td>1.0160</td>\n",
              "      <td>0.8135</td>\n",
              "      <td>0.6935</td>\n",
              "      <td>0.6935</td>\n",
              "      <td>0.6909</td>\n",
              "      <td>49</td>\n",
              "    </tr>\n",
              "  </tbody>\n",
              "</table>\n",
              "<p>50 rows × 7 columns</p>\n",
              "</div>"
            ],
            "text/plain": [
              "    val_loss  val_mean_squared_error  ...  mean_absolute_error  epoch\n",
              "0     0.9157                  0.9157  ...               0.7792      0\n",
              "1     0.9032                  0.9032  ...               0.7693      1\n",
              "2     0.9010                  0.9010  ...               0.7675      2\n",
              "3     0.9001                  0.9001  ...               0.7634      3\n",
              "4     0.9013                  0.9013  ...               0.7625      4\n",
              "5     0.8982                  0.8982  ...               0.7602      5\n",
              "6     0.9007                  0.9007  ...               0.7598      6\n",
              "7     0.9017                  0.9017  ...               0.7592      7\n",
              "8     0.9033                  0.9033  ...               0.7570      8\n",
              "9     0.9052                  0.9052  ...               0.7547      9\n",
              "..       ...                     ...  ...                  ...    ...\n",
              "40    1.0192                  1.0192  ...               0.7040     40\n",
              "41    1.0406                  1.0406  ...               0.6982     41\n",
              "42    1.0614                  1.0614  ...               0.7036     42\n",
              "43    1.0295                  1.0295  ...               0.7000     43\n",
              "44    1.0452                  1.0452  ...               0.6955     44\n",
              "45    1.0429                  1.0429  ...               0.6956     45\n",
              "46    1.0462                  1.0462  ...               0.6936     46\n",
              "47    1.0546                  1.0546  ...               0.6942     47\n",
              "48    1.0634                  1.0634  ...               0.6919     48\n",
              "49    1.0160                  1.0160  ...               0.6909     49\n",
              "\n",
              "[50 rows x 7 columns]"
            ]
          },
          "metadata": {
            "tags": []
          },
          "execution_count": 70
        }
      ]
    },
    {
      "cell_type": "code",
      "metadata": {
        "id": "8h5qaxBvfLzH",
        "colab_type": "code",
        "outputId": "da8a7d51-6cbc-4e4d-e872-7f5c78db012c",
        "colab": {
          "base_uri": "https://localhost:8080/",
          "height": 158
        }
      },
      "source": [
        "hist.loc[hist['val_mean_squared_error'].idxmin()]"
      ],
      "execution_count": 0,
      "outputs": [
        {
          "output_type": "execute_result",
          "data": {
            "text/plain": [
              "val_loss                  0.8982\n",
              "val_mean_squared_error    0.8982\n",
              "val_mean_absolute_error   0.7748\n",
              "loss                      0.8637\n",
              "mean_squared_error        0.8637\n",
              "mean_absolute_error       0.7602\n",
              "epoch                     5.0000\n",
              "Name: 5, dtype: float64"
            ]
          },
          "metadata": {
            "tags": []
          },
          "execution_count": 71
        }
      ]
    },
    {
      "cell_type": "code",
      "metadata": {
        "id": "wQ0MO636YrAz",
        "colab_type": "code",
        "outputId": "42a8fbbb-e110-4bab-a375-7ee6991b5f99",
        "colab": {
          "base_uri": "https://localhost:8080/",
          "height": 286
        }
      },
      "source": [
        "initial_nn_plot_MSE = hist.iloc[:, [4,1]].plot.line()\n",
        "initial_nn_plot_MSE"
      ],
      "execution_count": 0,
      "outputs": [
        {
          "output_type": "execute_result",
          "data": {
            "text/plain": [
              "<matplotlib.axes._subplots.AxesSubplot at 0x7f30bfbe92b0>"
            ]
          },
          "metadata": {
            "tags": []
          },
          "execution_count": 72
        },
        {
          "output_type": "display_data",
          "data": {
            "image/png": "[encoded data removed]",
            "text/plain": [
              "<Figure size 432x288 with 1 Axes>"
            ]
          },
          "metadata": {
            "tags": []
          }
        }
      ]
    },
    {
      "cell_type": "code",
      "metadata": {
        "id": "NCTRCAsNbFpc",
        "colab_type": "code",
        "outputId": "1887fde9-bf25-42fd-9d62-52b927275328",
        "colab": {
          "base_uri": "https://localhost:8080/",
          "height": 286
        }
      },
      "source": [
        "initial_nn_plot_MAE = hist.iloc[:, [5,2]].plot.line()\n",
        "initial_nn_plot_MAE"
      ],
      "execution_count": 0,
      "outputs": [
        {
          "output_type": "execute_result",
          "data": {
            "text/plain": [
              "<matplotlib.axes._subplots.AxesSubplot at 0x7f30bfb2c8d0>"
            ]
          },
          "metadata": {
            "tags": []
          },
          "execution_count": 73
        },
        {
          "output_type": "display_data",
          "data": {
            "image/png": "[encoded data removed]",
            "text/plain": [
              "<Figure size 432x288 with 1 Axes>"
            ]
          },
          "metadata": {
            "tags": []
          }
        }
      ]
    },
    {
      "cell_type": "markdown",
      "metadata": {
        "id": "GD5g5Dk1TgkA",
        "colab_type": "text"
      },
      "source": [
        "# Feature Selection with Random Forest\n",
        "\n",
        "All Feature Selection subsections adapted from: https://chrisalbon.com/machine_learning/trees_and_forests/feature_selection_using_random_forest/"
      ]
    },
    {
      "cell_type": "code",
      "metadata": {
        "id": "j_e6boZEPbtb",
        "colab_type": "code",
        "colab": {}
      },
      "source": [
        "from sklearn.ensemble import RandomForestRegressor\n",
        "from sklearn.feature_selection import SelectFromModel\n",
        "from sklearn.metrics import mean_squared_error\n",
        "from sklearn.metrics import median_absolute_error"
      ],
      "execution_count": 0,
      "outputs": []
    },
    {
      "cell_type": "code",
      "metadata": {
        "id": "CRiT35ZJPnd_",
        "colab_type": "code",
        "outputId": "95eb5aa1-de22-4220-f492-d8a88a49ccd9",
        "colab": {
          "base_uri": "https://localhost:8080/",
          "height": 141
        }
      },
      "source": [
        "rfr = RandomForestRegressor(n_estimators=1000, random_state=0, n_jobs=-1)\n",
        "\n",
        "# Train the random forest regressor\n",
        "rfr.fit(Xtrain_norm, Ytrain_norm[:,0])"
      ],
      "execution_count": 0,
      "outputs": [
        {
          "output_type": "execute_result",
          "data": {
            "text/plain": [
              "RandomForestRegressor(bootstrap=True, criterion='mse', max_depth=None,\n",
              "                      max_features='auto', max_leaf_nodes=None,\n",
              "                      min_impurity_decrease=0.0, min_impurity_split=None,\n",
              "                      min_samples_leaf=1, min_samples_split=2,\n",
              "                      min_weight_fraction_leaf=0.0, n_estimators=1000,\n",
              "                      n_jobs=-1, oob_score=False, random_state=0, verbose=0,\n",
              "                      warm_start=False)"
            ]
          },
          "metadata": {
            "tags": []
          },
          "execution_count": 33
        }
      ]
    },
    {
      "cell_type": "code",
      "metadata": {
        "id": "z8bvzgr3QPDz",
        "colab_type": "code",
        "outputId": "6f388e44-e983-417f-eeb2-4a90b946156a",
        "colab": {
          "base_uri": "https://localhost:8080/",
          "height": 656
        }
      },
      "source": [
        "# Print the name and gini importance of each feature\n",
        "for feature in zip(Xtrain.columns, rfr.feature_importances_):\n",
        "    print(feature)"
      ],
      "execution_count": 0,
      "outputs": [
        {
          "output_type": "stream",
          "text": [
            "('Height_Inches', 0.014128901086478943)\n",
            "('Wt', 0.02435644765705676)\n",
            "('40YD', 0.025692274119113914)\n",
            "('Vertical', 0.021557301715920723)\n",
            "('Years_in_League', 0.01854844589716826)\n",
            "('OPP_DEF__Fantasy_Points_Allowed__3_Games', 0.03498069113503314)\n",
            "('OPP_DEF__Fantasy_Points_Allowed__Last_Game', 0.03885272876478954)\n",
            "('OWN_DEF__Fantasy_Points_Allowed__3_Games', 0.03488740489772494)\n",
            "('OWN_DEF__Fantasy_Points_Allowed__Last_Game', 0.036331056835409624)\n",
            "('Total_Yards__3_Games', 0.04631520147390111)\n",
            "('Total_Receptions__3_Games', 0.06487109961726935)\n",
            "('Total_Touchdowns__3_Games', 0.009808593963760983)\n",
            "('Targets__3_Games', 0.1581219014836574)\n",
            "('Avg_Depth_of_Target__3_Games', 0.03318744129448801)\n",
            "('Avg_Score_Differential__3_Games', 0.04440500752352339)\n",
            "('3rd_Down_Targets__3_Games', 0.02342110575312449)\n",
            "('4th_Down_Targets__3_Games', 0.0042886681148468575)\n",
            "('Short_Targets__3_Games', 0.018141918743126508)\n",
            "('Deep_Targets__3_Games', 0.01643571652452778)\n",
            "('YBC__3_Games', 0.028545198068871874)\n",
            "('YAC__3_Games', 0.03432458908972148)\n",
            "('Fantasy_Points_Scored__3_Games', 0.03792134313277459)\n",
            "('Total_Yards__Last_Games', 0.021798162767679482)\n",
            "('Total_Receptions__Last_Game', 0.010348268667026187)\n",
            "('Total_Touchdowns__Last_Game', 0.002969968004593516)\n",
            "('Targets__Last_Game', 0.013303985752489613)\n",
            "('Avg_Depth_of_Target__Last_Game', 0.031038736768262114)\n",
            "('Avg_Score_Differential__Last_Game', 0.03764818920777703)\n",
            "('3rd_Down_Targets__Last_Game', 0.010555127512222227)\n",
            "('4th_Down_Targets__Last_Game', 0.0024881485147503057)\n",
            "('Short_Targets__Last_Game', 0.012114997729794937)\n",
            "('Deep_Targets__Last_Game', 0.008470131291470449)\n",
            "('YBC__Last_Game', 0.024657831899941907)\n",
            "('YAC__Last_Game', 0.02445362390902234)\n",
            "('Fantasy_Points_Scored__Last_Game', 0.026450876654584895)\n",
            "('home_game_flag', 0.004578914428095475)\n"
          ],
          "name": "stdout"
        }
      ]
    },
    {
      "cell_type": "code",
      "metadata": {
        "id": "dReB18K6SW6f",
        "colab_type": "code",
        "outputId": "60a9945f-21c5-42eb-c234-4b0a9de1a726",
        "colab": {
          "base_uri": "https://localhost:8080/",
          "height": 281
        }
      },
      "source": [
        "# Plotting Feature Importances\n",
        "importances = rfr.feature_importances_\n",
        "std = np.std([tree.feature_importances_ for tree in rfr.estimators_],\n",
        "             axis=0)\n",
        "indices = np.argsort(importances)[::-1]\n",
        "\n",
        "# Plot the feature importances of the forest\n",
        "plt.figure()\n",
        "plt.title(\"Feature importances\")\n",
        "plt.bar(range(Xtrain_norm.shape[1]), importances[indices],\n",
        "       color=\"r\", yerr=std[indices], align=\"center\")\n",
        "plt.xticks(range(Xtrain_norm.shape[1]), indices)\n",
        "plt.xlim([-1, Xtrain_norm.shape[1]])\n",
        "plt.show()"
      ],
      "execution_count": 0,
      "outputs": [
        {
          "output_type": "display_data",
          "data": {
            "image/png": "[encoded data removed]",
            "text/plain": [
              "<Figure size 432x288 with 1 Axes>"
            ]
          },
          "metadata": {
            "tags": []
          }
        }
      ]
    },
    {
      "cell_type": "code",
      "metadata": {
        "id": "cTyOQB1BRiw4",
        "colab_type": "code",
        "outputId": "ea7df95c-cb3d-4806-873a-693019b3384f",
        "colab": {
          "base_uri": "https://localhost:8080/",
          "height": 247
        }
      },
      "source": [
        "# Create a selector object that will use the random forest regressor to identify\n",
        "# features that have an importance of more than 0.03\n",
        "sfm = SelectFromModel(rfr, threshold=0.03)\n",
        "\n",
        "# Train the selector\n",
        "sfm.fit(Xtrain_norm, Ytrain_norm[:,0])"
      ],
      "execution_count": 0,
      "outputs": [
        {
          "output_type": "execute_result",
          "data": {
            "text/plain": [
              "SelectFromModel(estimator=RandomForestRegressor(bootstrap=True, criterion='mse',\n",
              "                                                max_depth=None,\n",
              "                                                max_features='auto',\n",
              "                                                max_leaf_nodes=None,\n",
              "                                                min_impurity_decrease=0.0,\n",
              "                                                min_impurity_split=None,\n",
              "                                                min_samples_leaf=1,\n",
              "                                                min_samples_split=2,\n",
              "                                                min_weight_fraction_leaf=0.0,\n",
              "                                                n_estimators=1000, n_jobs=-1,\n",
              "                                                oob_score=False, random_state=0,\n",
              "                                                verbose=0, warm_start=False),\n",
              "                max_features=None, norm_order=1, prefit=False, threshold=0.03)"
            ]
          },
          "metadata": {
            "tags": []
          },
          "execution_count": 36
        }
      ]
    },
    {
      "cell_type": "code",
      "metadata": {
        "id": "Zby9RHnDRv44",
        "colab_type": "code",
        "outputId": "eea49aec-a23d-4a18-c815-17489e44fd6e",
        "colab": {
          "base_uri": "https://localhost:8080/",
          "height": 247
        }
      },
      "source": [
        "# Print the names of the most important features\n",
        "for feature_list_index in sfm.get_support(indices=True):\n",
        "    print(Xtrain.columns[feature_list_index])"
      ],
      "execution_count": 0,
      "outputs": [
        {
          "output_type": "stream",
          "text": [
            "OPP_DEF__Fantasy_Points_Allowed__3_Games\n",
            "OPP_DEF__Fantasy_Points_Allowed__Last_Game\n",
            "OWN_DEF__Fantasy_Points_Allowed__3_Games\n",
            "OWN_DEF__Fantasy_Points_Allowed__Last_Game\n",
            "Total_Yards__3_Games\n",
            "Total_Receptions__3_Games\n",
            "Targets__3_Games\n",
            "Avg_Depth_of_Target__3_Games\n",
            "Avg_Score_Differential__3_Games\n",
            "YAC__3_Games\n",
            "Fantasy_Points_Scored__3_Games\n",
            "Avg_Depth_of_Target__Last_Game\n",
            "Avg_Score_Differential__Last_Game\n"
          ],
          "name": "stdout"
        }
      ]
    },
    {
      "cell_type": "code",
      "metadata": {
        "id": "OKeqa1LSSDna",
        "colab_type": "code",
        "colab": {}
      },
      "source": [
        "# Transform the data to create a new dataset containing only the most important features\n",
        "# Note: We have to apply the transform to both the training X and test X data.\n",
        "X_important_train = sfm.transform(Xtrain_norm)\n",
        "X_important_test = sfm.transform(Xtest_norm)\n",
        "X_important_val = sfm.transform(Xval_norm)"
      ],
      "execution_count": 0,
      "outputs": []
    },
    {
      "cell_type": "code",
      "metadata": {
        "id": "9gOBq5OkVmE-",
        "colab_type": "code",
        "outputId": "9b63dba2-b23b-4656-b871-29517cb22547",
        "colab": {
          "base_uri": "https://localhost:8080/",
          "height": 34
        }
      },
      "source": [
        "X_important_val.shape"
      ],
      "execution_count": 0,
      "outputs": [
        {
          "output_type": "execute_result",
          "data": {
            "text/plain": [
              "(961, 13)"
            ]
          },
          "metadata": {
            "tags": []
          },
          "execution_count": 39
        }
      ]
    },
    {
      "cell_type": "code",
      "metadata": {
        "id": "qlOq3VYaRyPC",
        "colab_type": "code",
        "outputId": "9c6b5ce8-5866-4082-b5ca-ace8fad3900f",
        "colab": {
          "base_uri": "https://localhost:8080/",
          "height": 141
        }
      },
      "source": [
        "# Create a new random forest classifier for the most important features\n",
        "rfr_important = RandomForestRegressor(n_estimators=1000, random_state=0, n_jobs=-1)\n",
        "\n",
        "# Train the new classifier on the new dataset containing the most important features\n",
        "rfr_important.fit(X_important_train, Ytrain_norm[:,0])"
      ],
      "execution_count": 0,
      "outputs": [
        {
          "output_type": "execute_result",
          "data": {
            "text/plain": [
              "RandomForestRegressor(bootstrap=True, criterion='mse', max_depth=None,\n",
              "                      max_features='auto', max_leaf_nodes=None,\n",
              "                      min_impurity_decrease=0.0, min_impurity_split=None,\n",
              "                      min_samples_leaf=1, min_samples_split=2,\n",
              "                      min_weight_fraction_leaf=0.0, n_estimators=1000,\n",
              "                      n_jobs=-1, oob_score=False, random_state=0, verbose=0,\n",
              "                      warm_start=False)"
            ]
          },
          "metadata": {
            "tags": []
          },
          "execution_count": 40
        }
      ]
    },
    {
      "cell_type": "code",
      "metadata": {
        "id": "yYaFmu1XR0T1",
        "colab_type": "code",
        "outputId": "7a1d17f7-8c11-4cb7-d50e-8862cd0f59ba",
        "colab": {
          "base_uri": "https://localhost:8080/",
          "height": 52
        }
      },
      "source": [
        "# Apply The Full Featured Regressor To The Test Data\n",
        "y_pred = rfr.predict(Xtest_norm)\n",
        "\n",
        "# View The MSE Of Our Full Feature (4 Features) Model\n",
        "print(mean_squared_error(Ytest_norm, y_pred))\n",
        "print(median_absolute_error(Ytest_norm, y_pred))"
      ],
      "execution_count": 0,
      "outputs": [
        {
          "output_type": "stream",
          "text": [
            "0.8556813724458473\n",
            "0.6150870700343511\n"
          ],
          "name": "stdout"
        }
      ]
    },
    {
      "cell_type": "code",
      "metadata": {
        "id": "nZX-ugP1Svb4",
        "colab_type": "code",
        "outputId": "741d5dc3-c000-4798-c397-711f91b4e1c0",
        "colab": {
          "base_uri": "https://localhost:8080/",
          "height": 52
        }
      },
      "source": [
        "# Apply The Limited Featured Classifier To The Test Data\n",
        "y_important_pred = rfr_important.predict(X_important_test)\n",
        "\n",
        "# View The MSE Of Our Limited Feature (2 Features) Model\n",
        "print(mean_squared_error(Ytest_norm, y_important_pred))\n",
        "print(median_absolute_error(Ytest_norm, y_important_pred))"
      ],
      "execution_count": 0,
      "outputs": [
        {
          "output_type": "stream",
          "text": [
            "0.8740943581494037\n",
            "0.6005775118470192\n"
          ],
          "name": "stdout"
        }
      ]
    },
    {
      "cell_type": "markdown",
      "metadata": {
        "id": "hKcmOR1nWFnm",
        "colab_type": "text"
      },
      "source": [
        "## Running NN on RF Selected Features"
      ]
    },
    {
      "cell_type": "markdown",
      "metadata": {
        "colab_type": "text",
        "id": "mQDrFRmTWUQB"
      },
      "source": [
        "### Model Structure Hyperparameters"
      ]
    },
    {
      "cell_type": "code",
      "metadata": {
        "colab_type": "code",
        "id": "WloWTZIZWUQC",
        "colab": {}
      },
      "source": [
        "n_inputs = len(X_important_train)\n",
        "n_features = len(X_important_train[0])\n",
        "n_hidden1 = len(X_important_train[0])\n",
        "n_hidden2 = 15\n",
        "n_hidden3 = 10\n",
        "n_outputs = 1\n",
        "\n",
        "n_epochs = 50"
      ],
      "execution_count": 0,
      "outputs": []
    },
    {
      "cell_type": "markdown",
      "metadata": {
        "colab_type": "text",
        "id": "tHYDzHvXWUQD"
      },
      "source": [
        "### Model Structure Function"
      ]
    },
    {
      "cell_type": "code",
      "metadata": {
        "colab_type": "code",
        "id": "TvP2GHT5WUQE",
        "colab": {}
      },
      "source": [
        "# Create function returning a compiled network\n",
        "def create_network():\n",
        "    \n",
        "    # Start neural network\n",
        "    network = models.Sequential()\n",
        "\n",
        "    # Add layer with a ReLU activation function and bias\n",
        "    network.add(layers.Dense(units=n_hidden1, activation='relu', use_bias=True, input_shape=(n_features,)))\n",
        "\n",
        "    # Add layer with a ReLU activation function and bias\n",
        "    network.add(layers.Dense(units=n_hidden2, activation='relu', use_bias=True))\n",
        "\n",
        "    # Add layer with ReLU activation function and bias\n",
        "    network.add(layers.Dense(units=n_hidden3, activation='relu', use_bias=True))\n",
        "\n",
        "    # Add output layer with ReLU activation function\n",
        "    network.add(layers.Dense(units=n_outputs, activation='relu'))\n",
        "\n",
        "    # Compile neural network\n",
        "    network.compile(optimizer='Adam',\n",
        "                    loss='mean_squared_error',\n",
        "                    metrics=['mean_squared_error', 'mean_absolute_error'])\n",
        "    \n",
        "    # Return compiled network\n",
        "    return network"
      ],
      "execution_count": 0,
      "outputs": []
    },
    {
      "cell_type": "markdown",
      "metadata": {
        "colab_type": "text",
        "id": "ZscGGuxtWUQF"
      },
      "source": [
        "## Creating Model"
      ]
    },
    {
      "cell_type": "code",
      "metadata": {
        "colab_type": "code",
        "id": "J-F7WH75WUQF",
        "colab": {}
      },
      "source": [
        "# Set random seed\n",
        "np.random.seed(0)\n",
        "\n",
        "# create model\n",
        "nn = KerasRegressor(build_fn=create_network,  epochs=25)"
      ],
      "execution_count": 0,
      "outputs": []
    },
    {
      "cell_type": "code",
      "metadata": {
        "colab_type": "code",
        "id": "YjAS_2niWUQH",
        "colab": {}
      },
      "source": [
        "history_rf = nn.fit(x = X_important_train, verbose=0, y = Ytrain_norm,\n",
        "       epochs=200\n",
        "       , validation_data = (X_important_val, Yval_norm)\n",
        ")"
      ],
      "execution_count": 0,
      "outputs": []
    },
    {
      "cell_type": "code",
      "metadata": {
        "id": "SeU-z2YWXApT",
        "colab_type": "code",
        "outputId": "b2e1f434-39b6-4e11-cf73-e7b9bc6fee5b",
        "colab": {
          "base_uri": "https://localhost:8080/",
          "height": 706
        }
      },
      "source": [
        "hist_rf = pd.DataFrame(history_rf.history)\n",
        "hist_rf['epoch'] = history_rf.epoch\n",
        "hist_rf"
      ],
      "execution_count": 0,
      "outputs": [
        {
          "output_type": "execute_result",
          "data": {
            "text/html": [
              "<div>\n",
              "<style scoped>\n",
              "    .dataframe tbody tr th:only-of-type {\n",
              "        vertical-align: middle;\n",
              "    }\n",
              "\n",
              "    .dataframe tbody tr th {\n",
              "        vertical-align: top;\n",
              "    }\n",
              "\n",
              "    .dataframe thead th {\n",
              "        text-align: right;\n",
              "    }\n",
              "</style>\n",
              "<table border=\"1\" class=\"dataframe\">\n",
              "  <thead>\n",
              "    <tr style=\"text-align: right;\">\n",
              "      <th></th>\n",
              "      <th>val_loss</th>\n",
              "      <th>val_mean_squared_error</th>\n",
              "      <th>val_mean_absolute_error</th>\n",
              "      <th>loss</th>\n",
              "      <th>mean_squared_error</th>\n",
              "      <th>mean_absolute_error</th>\n",
              "      <th>epoch</th>\n",
              "    </tr>\n",
              "  </thead>\n",
              "  <tbody>\n",
              "    <tr>\n",
              "      <th>0</th>\n",
              "      <td>1.0003</td>\n",
              "      <td>1.0003</td>\n",
              "      <td>0.7900</td>\n",
              "      <td>1.0002</td>\n",
              "      <td>1.0002</td>\n",
              "      <td>0.7800</td>\n",
              "      <td>0</td>\n",
              "    </tr>\n",
              "    <tr>\n",
              "      <th>1</th>\n",
              "      <td>1.0003</td>\n",
              "      <td>1.0003</td>\n",
              "      <td>0.7900</td>\n",
              "      <td>0.9999</td>\n",
              "      <td>0.9999</td>\n",
              "      <td>0.7797</td>\n",
              "      <td>1</td>\n",
              "    </tr>\n",
              "    <tr>\n",
              "      <th>2</th>\n",
              "      <td>0.9949</td>\n",
              "      <td>0.9949</td>\n",
              "      <td>0.7913</td>\n",
              "      <td>0.9992</td>\n",
              "      <td>0.9992</td>\n",
              "      <td>0.7796</td>\n",
              "      <td>2</td>\n",
              "    </tr>\n",
              "    <tr>\n",
              "      <th>3</th>\n",
              "      <td>0.8999</td>\n",
              "      <td>0.8999</td>\n",
              "      <td>0.7730</td>\n",
              "      <td>0.9140</td>\n",
              "      <td>0.9140</td>\n",
              "      <td>0.7751</td>\n",
              "      <td>3</td>\n",
              "    </tr>\n",
              "    <tr>\n",
              "      <th>4</th>\n",
              "      <td>0.8972</td>\n",
              "      <td>0.8972</td>\n",
              "      <td>0.7705</td>\n",
              "      <td>0.8882</td>\n",
              "      <td>0.8882</td>\n",
              "      <td>0.7701</td>\n",
              "      <td>4</td>\n",
              "    </tr>\n",
              "    <tr>\n",
              "      <th>5</th>\n",
              "      <td>0.8967</td>\n",
              "      <td>0.8967</td>\n",
              "      <td>0.7736</td>\n",
              "      <td>0.8829</td>\n",
              "      <td>0.8829</td>\n",
              "      <td>0.7675</td>\n",
              "      <td>5</td>\n",
              "    </tr>\n",
              "    <tr>\n",
              "      <th>6</th>\n",
              "      <td>0.8985</td>\n",
              "      <td>0.8985</td>\n",
              "      <td>0.7765</td>\n",
              "      <td>0.8787</td>\n",
              "      <td>0.8787</td>\n",
              "      <td>0.7666</td>\n",
              "      <td>6</td>\n",
              "    </tr>\n",
              "    <tr>\n",
              "      <th>7</th>\n",
              "      <td>0.8938</td>\n",
              "      <td>0.8938</td>\n",
              "      <td>0.7749</td>\n",
              "      <td>0.8767</td>\n",
              "      <td>0.8767</td>\n",
              "      <td>0.7643</td>\n",
              "      <td>7</td>\n",
              "    </tr>\n",
              "    <tr>\n",
              "      <th>8</th>\n",
              "      <td>0.8954</td>\n",
              "      <td>0.8954</td>\n",
              "      <td>0.7764</td>\n",
              "      <td>0.8722</td>\n",
              "      <td>0.8722</td>\n",
              "      <td>0.7632</td>\n",
              "      <td>8</td>\n",
              "    </tr>\n",
              "    <tr>\n",
              "      <th>9</th>\n",
              "      <td>0.9130</td>\n",
              "      <td>0.9130</td>\n",
              "      <td>0.7907</td>\n",
              "      <td>0.8720</td>\n",
              "      <td>0.8720</td>\n",
              "      <td>0.7630</td>\n",
              "      <td>9</td>\n",
              "    </tr>\n",
              "    <tr>\n",
              "      <th>...</th>\n",
              "      <td>...</td>\n",
              "      <td>...</td>\n",
              "      <td>...</td>\n",
              "      <td>...</td>\n",
              "      <td>...</td>\n",
              "      <td>...</td>\n",
              "      <td>...</td>\n",
              "    </tr>\n",
              "    <tr>\n",
              "      <th>190</th>\n",
              "      <td>1.0402</td>\n",
              "      <td>1.0402</td>\n",
              "      <td>0.8284</td>\n",
              "      <td>0.7305</td>\n",
              "      <td>0.7305</td>\n",
              "      <td>0.7043</td>\n",
              "      <td>190</td>\n",
              "    </tr>\n",
              "    <tr>\n",
              "      <th>191</th>\n",
              "      <td>1.0171</td>\n",
              "      <td>1.0171</td>\n",
              "      <td>0.8266</td>\n",
              "      <td>0.7281</td>\n",
              "      <td>0.7281</td>\n",
              "      <td>0.7029</td>\n",
              "      <td>191</td>\n",
              "    </tr>\n",
              "    <tr>\n",
              "      <th>192</th>\n",
              "      <td>1.0199</td>\n",
              "      <td>1.0199</td>\n",
              "      <td>0.8261</td>\n",
              "      <td>0.7292</td>\n",
              "      <td>0.7292</td>\n",
              "      <td>0.7036</td>\n",
              "      <td>192</td>\n",
              "    </tr>\n",
              "    <tr>\n",
              "      <th>193</th>\n",
              "      <td>1.0363</td>\n",
              "      <td>1.0363</td>\n",
              "      <td>0.8325</td>\n",
              "      <td>0.7283</td>\n",
              "      <td>0.7283</td>\n",
              "      <td>0.7014</td>\n",
              "      <td>193</td>\n",
              "    </tr>\n",
              "    <tr>\n",
              "      <th>194</th>\n",
              "      <td>1.0351</td>\n",
              "      <td>1.0351</td>\n",
              "      <td>0.8287</td>\n",
              "      <td>0.7306</td>\n",
              "      <td>0.7306</td>\n",
              "      <td>0.7041</td>\n",
              "      <td>194</td>\n",
              "    </tr>\n",
              "    <tr>\n",
              "      <th>195</th>\n",
              "      <td>1.0132</td>\n",
              "      <td>1.0132</td>\n",
              "      <td>0.8196</td>\n",
              "      <td>0.7312</td>\n",
              "      <td>0.7312</td>\n",
              "      <td>0.7041</td>\n",
              "      <td>195</td>\n",
              "    </tr>\n",
              "    <tr>\n",
              "      <th>196</th>\n",
              "      <td>1.0292</td>\n",
              "      <td>1.0292</td>\n",
              "      <td>0.8217</td>\n",
              "      <td>0.7257</td>\n",
              "      <td>0.7257</td>\n",
              "      <td>0.7022</td>\n",
              "      <td>196</td>\n",
              "    </tr>\n",
              "    <tr>\n",
              "      <th>197</th>\n",
              "      <td>1.0541</td>\n",
              "      <td>1.0541</td>\n",
              "      <td>0.8379</td>\n",
              "      <td>0.7269</td>\n",
              "      <td>0.7269</td>\n",
              "      <td>0.7022</td>\n",
              "      <td>197</td>\n",
              "    </tr>\n",
              "    <tr>\n",
              "      <th>198</th>\n",
              "      <td>1.0507</td>\n",
              "      <td>1.0507</td>\n",
              "      <td>0.8339</td>\n",
              "      <td>0.7340</td>\n",
              "      <td>0.7340</td>\n",
              "      <td>0.7052</td>\n",
              "      <td>198</td>\n",
              "    </tr>\n",
              "    <tr>\n",
              "      <th>199</th>\n",
              "      <td>1.0269</td>\n",
              "      <td>1.0269</td>\n",
              "      <td>0.8266</td>\n",
              "      <td>0.7307</td>\n",
              "      <td>0.7307</td>\n",
              "      <td>0.7042</td>\n",
              "      <td>199</td>\n",
              "    </tr>\n",
              "  </tbody>\n",
              "</table>\n",
              "<p>200 rows × 7 columns</p>\n",
              "</div>"
            ],
            "text/plain": [
              "     val_loss  val_mean_squared_error  ...  mean_absolute_error  epoch\n",
              "0      1.0003                  1.0003  ...               0.7800      0\n",
              "1      1.0003                  1.0003  ...               0.7797      1\n",
              "2      0.9949                  0.9949  ...               0.7796      2\n",
              "3      0.8999                  0.8999  ...               0.7751      3\n",
              "4      0.8972                  0.8972  ...               0.7701      4\n",
              "5      0.8967                  0.8967  ...               0.7675      5\n",
              "6      0.8985                  0.8985  ...               0.7666      6\n",
              "7      0.8938                  0.8938  ...               0.7643      7\n",
              "8      0.8954                  0.8954  ...               0.7632      8\n",
              "9      0.9130                  0.9130  ...               0.7630      9\n",
              "..        ...                     ...  ...                  ...    ...\n",
              "190    1.0402                  1.0402  ...               0.7043    190\n",
              "191    1.0171                  1.0171  ...               0.7029    191\n",
              "192    1.0199                  1.0199  ...               0.7036    192\n",
              "193    1.0363                  1.0363  ...               0.7014    193\n",
              "194    1.0351                  1.0351  ...               0.7041    194\n",
              "195    1.0132                  1.0132  ...               0.7041    195\n",
              "196    1.0292                  1.0292  ...               0.7022    196\n",
              "197    1.0541                  1.0541  ...               0.7022    197\n",
              "198    1.0507                  1.0507  ...               0.7052    198\n",
              "199    1.0269                  1.0269  ...               0.7042    199\n",
              "\n",
              "[200 rows x 7 columns]"
            ]
          },
          "metadata": {
            "tags": []
          },
          "execution_count": 47
        }
      ]
    },
    {
      "cell_type": "code",
      "metadata": {
        "id": "FtQ_Qoeih4Nt",
        "colab_type": "code",
        "outputId": "5205410e-d2dd-4d8c-86d7-4d625389574e",
        "colab": {
          "base_uri": "https://localhost:8080/",
          "height": 158
        }
      },
      "source": [
        "hist_rf.loc[hist_rf['val_mean_squared_error'].idxmin()]"
      ],
      "execution_count": 0,
      "outputs": [
        {
          "output_type": "execute_result",
          "data": {
            "text/plain": [
              "val_loss                   0.8919\n",
              "val_mean_squared_error     0.8919\n",
              "val_mean_absolute_error    0.7730\n",
              "loss                       0.8643\n",
              "mean_squared_error         0.8643\n",
              "mean_absolute_error        0.7618\n",
              "epoch                     12.0000\n",
              "Name: 12, dtype: float64"
            ]
          },
          "metadata": {
            "tags": []
          },
          "execution_count": 48
        }
      ]
    },
    {
      "cell_type": "code",
      "metadata": {
        "colab_type": "code",
        "outputId": "8e58fe4f-9b97-42ac-bccf-ac7be2663c36",
        "id": "1ANlbGiHWUQJ",
        "colab": {
          "base_uri": "https://localhost:8080/",
          "height": 286
        }
      },
      "source": [
        "rf_nn_plot_MSE = hist_rf.iloc[:, [4,1]].plot.line()\n",
        "rf_nn_plot_MSE"
      ],
      "execution_count": 0,
      "outputs": [
        {
          "output_type": "execute_result",
          "data": {
            "text/plain": [
              "<matplotlib.axes._subplots.AxesSubplot at 0x7f30c0454ef0>"
            ]
          },
          "metadata": {
            "tags": []
          },
          "execution_count": 49
        },
        {
          "output_type": "display_data",
          "data": {
            "image/png": "[encoded data removed]",
            "text/plain": [
              "<Figure size 432x288 with 1 Axes>"
            ]
          },
          "metadata": {
            "tags": []
          }
        }
      ]
    },
    {
      "cell_type": "code",
      "metadata": {
        "colab_type": "code",
        "outputId": "f59720ee-14b0-4fb0-b335-59ec2718d952",
        "id": "EVGgwxo_WUQK",
        "colab": {
          "base_uri": "https://localhost:8080/",
          "height": 286
        }
      },
      "source": [
        "rf_nn_plot_MAE = hist_rf.iloc[:, [5,2]].plot.line()\n",
        "rf_nn_plot_MAE"
      ],
      "execution_count": 0,
      "outputs": [
        {
          "output_type": "execute_result",
          "data": {
            "text/plain": [
              "<matplotlib.axes._subplots.AxesSubplot at 0x7efd704f5c18>"
            ]
          },
          "metadata": {
            "tags": []
          },
          "execution_count": 58
        },
        {
          "output_type": "display_data",
          "data": {
            "image/png": "[encoded data removed]",
            "text/plain": [
              "<Figure size 432x288 with 1 Axes>"
            ]
          },
          "metadata": {
            "tags": []
          }
        }
      ]
    },
    {
      "cell_type": "markdown",
      "metadata": {
        "id": "PbCXCZsqhc-d",
        "colab_type": "text"
      },
      "source": [
        "# Hyperparameter Tuning\n",
        "\n",
        "All hyperparameter tuning subsections adaptaed from: https://machinelearningmastery.com/grid-search-hyperparameters-deep-learning-models-python-keras/"
      ]
    },
    {
      "cell_type": "markdown",
      "metadata": {
        "id": "jWJ3TAvjhu-t",
        "colab_type": "text"
      },
      "source": [
        "## Batch Size and Number of Epochs"
      ]
    },
    {
      "cell_type": "markdown",
      "metadata": {
        "colab_type": "text",
        "id": "Rr0N7PwAiU15"
      },
      "source": [
        "### Model Structure and Hyperparameters"
      ]
    },
    {
      "cell_type": "code",
      "metadata": {
        "id": "MUIHoF3EiIgx",
        "colab_type": "code",
        "colab": {}
      },
      "source": [
        "# Structural Hyperparameters\n",
        "n_inputs = len(Xtrain_norm)\n",
        "n_features = len(Xtrain_norm[0])\n",
        "n_hidden1 = len(Xtrain_norm[0])\n",
        "n_hidden2 = 15\n",
        "n_hidden3 = 10\n",
        "n_outputs = 1\n",
        "\n",
        "\n",
        "# Create function returning a compiled network\n",
        "def create_network():\n",
        "    \n",
        "    # Start neural network\n",
        "    network = models.Sequential()\n",
        "\n",
        "    # Add layer with a ReLU activation function and bias\n",
        "    network.add(layers.Dense(units=n_hidden1, activation='relu', use_bias=True, input_shape=(n_features,)))\n",
        "\n",
        "    # Add layer with a ReLU activation function and bias\n",
        "    network.add(layers.Dense(units=n_hidden2, activation='relu', use_bias=True))\n",
        "\n",
        "    # Add layer with ReLU activation function and bias\n",
        "    network.add(layers.Dense(units=n_hidden3, activation='relu', use_bias=True))\n",
        "\n",
        "    # Add output layer with ReLU activation function\n",
        "    network.add(layers.Dense(units=n_outputs, activation='relu'))\n",
        "\n",
        "    # Compile neural network\n",
        "    network.compile(optimizer='Adam',\n",
        "                    loss='mean_squared_error',\n",
        "                    metrics=['mean_squared_error', 'mean_absolute_error'])\n",
        "    \n",
        "    # Return compiled network\n",
        "    return network\n",
        "\n",
        "# Set random seed\n",
        "np.random.seed(0)\n",
        "\n",
        "# create model\n",
        "nn = KerasRegressor(build_fn=create_network,  verbose=0)"
      ],
      "execution_count": 0,
      "outputs": []
    },
    {
      "cell_type": "markdown",
      "metadata": {
        "id": "I0rWqlbCi4UZ",
        "colab_type": "text"
      },
      "source": [
        " ### Defining Grid Search Parameters"
      ]
    },
    {
      "cell_type": "code",
      "metadata": {
        "colab_type": "code",
        "id": "HufqkjjgiU17",
        "colab": {}
      },
      "source": [
        "# Hyperparameters\n",
        "batch_size = [50, 100, 250]\n",
        "epochs = [10, 25, 50]\n",
        "\n",
        "# Building Grid\n",
        "param_grid = dict(batch_size=batch_size, epochs=epochs)\n",
        "grid = GridSearchCV(estimator=nn, param_grid=param_grid, n_jobs=-1)"
      ],
      "execution_count": 0,
      "outputs": []
    },
    {
      "cell_type": "markdown",
      "metadata": {
        "id": "CzBL5QA3nmLr",
        "colab_type": "text"
      },
      "source": [
        "### Running Grid Search"
      ]
    },
    {
      "cell_type": "code",
      "metadata": {
        "id": "LCZ76sfBiIjY",
        "colab_type": "code",
        "colab": {}
      },
      "source": [
        "# Running Grid Search\n",
        "grid_result = grid.fit(Xtrain_norm, Ytrain_norm)"
      ],
      "execution_count": 0,
      "outputs": []
    },
    {
      "cell_type": "markdown",
      "metadata": {
        "id": "uPScO6z4nqBX",
        "colab_type": "text"
      },
      "source": [
        "### Grid Search Output"
      ]
    },
    {
      "cell_type": "code",
      "metadata": {
        "id": "tA5Gct70iIui",
        "colab_type": "code",
        "outputId": "f861dd78-2d9d-4370-c1b8-3dad3ef19464",
        "colab": {
          "base_uri": "https://localhost:8080/",
          "height": 187
        }
      },
      "source": [
        "# summarize results\n",
        "print(\"Best: %f using %s\" % (grid_result.best_score_, grid_result.best_params_))\n",
        "means = grid_result.cv_results_['mean_test_score']\n",
        "stds = grid_result.cv_results_['std_test_score']\n",
        "params = grid_result.cv_results_['params']\n",
        "for mean, stdev, param in zip(means, stds, params):\n",
        "    print(\"%f (%f) with: %r\" % (mean, stdev, param))"
      ],
      "execution_count": 0,
      "outputs": [
        {
          "output_type": "stream",
          "text": [
            "Best: -0.893508 using {'batch_size': 100, 'epochs': 10}\n",
            "-0.906075 (0.025970) with: {'batch_size': 50, 'epochs': 10}\n",
            "-0.996471 (0.041394) with: {'batch_size': 50, 'epochs': 25}\n",
            "-1.083818 (0.056757) with: {'batch_size': 50, 'epochs': 50}\n",
            "-0.893508 (0.027216) with: {'batch_size': 100, 'epochs': 10}\n",
            "-0.950693 (0.043341) with: {'batch_size': 100, 'epochs': 25}\n",
            "-1.020825 (0.024739) with: {'batch_size': 100, 'epochs': 50}\n",
            "-0.897501 (0.028645) with: {'batch_size': 250, 'epochs': 10}\n",
            "-0.910529 (0.037353) with: {'batch_size': 250, 'epochs': 25}\n",
            "-0.983384 (0.037062) with: {'batch_size': 250, 'epochs': 50}\n"
          ],
          "name": "stdout"
        }
      ]
    },
    {
      "cell_type": "markdown",
      "metadata": {
        "id": "wzP6zXkbnLrS",
        "colab_type": "text"
      },
      "source": [
        "#### Optimal Values\n",
        "\n",
        "##### Batch Size = 100\n",
        "##### Number of Epochs = 10"
      ]
    },
    {
      "cell_type": "markdown",
      "metadata": {
        "colab_type": "text",
        "id": "mD8-uKAloCT1"
      },
      "source": [
        "## Optimization Algorithm"
      ]
    },
    {
      "cell_type": "markdown",
      "metadata": {
        "colab_type": "text",
        "id": "KWEMts-SoCyK"
      },
      "source": [
        "### Model Structure and Hyperparameters"
      ]
    },
    {
      "cell_type": "code",
      "metadata": {
        "colab_type": "code",
        "id": "5uVAxLWtoCyM",
        "colab": {}
      },
      "source": [
        "# Structural Hyperparameters\n",
        "n_inputs = len(Xtrain_norm)\n",
        "n_features = len(Xtrain_norm[0])\n",
        "n_hidden1 = len(Xtrain_norm[0])\n",
        "n_hidden2 = 15\n",
        "n_hidden3 = 10\n",
        "n_outputs = 1\n",
        "\n",
        "\n",
        "# Create function returning a compiled network\n",
        "def create_network(optimizer='adam'):\n",
        "    \n",
        "    # Start neural network\n",
        "    network = models.Sequential()\n",
        "\n",
        "    # Add layer with a ReLU activation function and bias\n",
        "    network.add(layers.Dense(units=n_hidden1, activation='relu', use_bias=True, input_shape=(n_features,)))\n",
        "\n",
        "    # Add layer with a ReLU activation function and bias\n",
        "    network.add(layers.Dense(units=n_hidden2, activation='relu', use_bias=True))\n",
        "\n",
        "    # Add layer with ReLU activation function and bias\n",
        "    network.add(layers.Dense(units=n_hidden3, activation='relu', use_bias=True))\n",
        "\n",
        "    # Add output layer with ReLU activation function\n",
        "    network.add(layers.Dense(units=n_outputs, activation='relu'))\n",
        "\n",
        "    # Compile neural network\n",
        "    network.compile(optimizer=optimizer,\n",
        "                    loss='mean_squared_error',\n",
        "                    metrics=['mean_squared_error', 'mean_absolute_error'])\n",
        "    \n",
        "    # Return compiled network\n",
        "    return network\n",
        "\n",
        "# Set random seed\n",
        "np.random.seed(0)\n",
        "\n",
        "# create model\n",
        "nn = KerasRegressor(build_fn=create_network,  epochs=50, batch_size=100, verbose=0)"
      ],
      "execution_count": 0,
      "outputs": []
    },
    {
      "cell_type": "markdown",
      "metadata": {
        "colab_type": "text",
        "id": "7QznJpQBoCyP"
      },
      "source": [
        " ### Defining Grid Search Parameters"
      ]
    },
    {
      "cell_type": "code",
      "metadata": {
        "colab_type": "code",
        "id": "STlp6KdnoCyQ",
        "colab": {}
      },
      "source": [
        "# Hyperparameters\n",
        "optimizer = ['SGD', 'RMSprop', 'Adagrad', 'Adam', 'Nadam']\n",
        "\n",
        "# Building Grid\n",
        "param_grid = dict(optimizer=optimizer)\n",
        "grid = GridSearchCV(estimator=nn, param_grid=param_grid, n_jobs=-1, cv=3)"
      ],
      "execution_count": 0,
      "outputs": []
    },
    {
      "cell_type": "markdown",
      "metadata": {
        "colab_type": "text",
        "id": "IoWZGJhmoCyT"
      },
      "source": [
        "### Running Grid Search"
      ]
    },
    {
      "cell_type": "code",
      "metadata": {
        "colab_type": "code",
        "id": "PIGfb620oCyU",
        "colab": {}
      },
      "source": [
        "# Running Grid Search\n",
        "grid_result = grid.fit(Xtrain_norm, Ytrain_norm)"
      ],
      "execution_count": 0,
      "outputs": []
    },
    {
      "cell_type": "markdown",
      "metadata": {
        "colab_type": "text",
        "id": "o6sNrj9VoCyX"
      },
      "source": [
        "### Grid Search Output"
      ]
    },
    {
      "cell_type": "code",
      "metadata": {
        "colab_type": "code",
        "outputId": "9d62b6a8-6370-4cac-d148-218da928fa72",
        "id": "G8dABnIdoCyX",
        "colab": {
          "base_uri": "https://localhost:8080/",
          "height": 119
        }
      },
      "source": [
        "# summarize results\n",
        "print(\"Best: %f using %s\" % (grid_result.best_score_, grid_result.best_params_))\n",
        "means = grid_result.cv_results_['mean_test_score']\n",
        "stds = grid_result.cv_results_['std_test_score']\n",
        "params = grid_result.cv_results_['params']\n",
        "for mean, stdev, param in zip(means, stds, params):\n",
        "    print(\"%f (%f) with: %r\" % (mean, stdev, param))"
      ],
      "execution_count": 0,
      "outputs": [
        {
          "output_type": "stream",
          "text": [
            "Best: -0.931406 using {'optimizer': 'Adagrad'}\n",
            "-0.938579 (0.063326) with: {'optimizer': 'SGD'}\n",
            "-1.010800 (0.029448) with: {'optimizer': 'RMSprop'}\n",
            "-0.931406 (0.026119) with: {'optimizer': 'Adagrad'}\n",
            "-1.048644 (0.057657) with: {'optimizer': 'Adam'}\n",
            "-1.053156 (0.054487) with: {'optimizer': 'Nadam'}\n"
          ],
          "name": "stdout"
        }
      ]
    },
    {
      "cell_type": "markdown",
      "metadata": {
        "colab_type": "text",
        "id": "czOYAfLroCya"
      },
      "source": [
        "#### Optimal Values\n",
        "\n",
        "##### Optimizer = SGD"
      ]
    },
    {
      "cell_type": "markdown",
      "metadata": {
        "colab_type": "text",
        "id": "2uILa_Eqs3Pj"
      },
      "source": [
        "## Learning Rate and Momentum"
      ]
    },
    {
      "cell_type": "markdown",
      "metadata": {
        "colab_type": "text",
        "id": "faXYAvdFs3Pn"
      },
      "source": [
        "### Model Structure and Hyperparameters"
      ]
    },
    {
      "cell_type": "code",
      "metadata": {
        "colab_type": "code",
        "id": "lGe-CZmzs3Po",
        "colab": {}
      },
      "source": [
        "# Structural Hyperparameters\n",
        "n_inputs = len(Xtrain_norm)\n",
        "n_features = len(Xtrain_norm[0])\n",
        "n_hidden1 = len(Xtrain_norm[0])\n",
        "n_hidden2 = 15\n",
        "n_hidden3 = 10\n",
        "n_outputs = 1\n",
        "\n",
        "\n",
        "# Create function returning a compiled network\n",
        "def create_network(learn_rate=0.01, momentum=0):\n",
        "    \n",
        "    # Start neural network\n",
        "    network = models.Sequential()\n",
        "\n",
        "    # Add layer with a ReLU activation function and bias\n",
        "    network.add(layers.Dense(units=n_hidden1, activation='relu', use_bias=True, input_shape=(n_features,)))\n",
        "\n",
        "    # Add layer with a ReLU activation function and bias\n",
        "    network.add(layers.Dense(units=n_hidden2, activation='relu', use_bias=True))\n",
        "\n",
        "    # Add layer with ReLU activation function and bias\n",
        "    network.add(layers.Dense(units=n_hidden3, activation='relu', use_bias=True))\n",
        "\n",
        "    # Add output layer with ReLU activation function\n",
        "    network.add(layers.Dense(units=n_outputs, activation='relu'))\n",
        "\n",
        "    # Compile neural network\n",
        "    network.compile(optimizer='Adam',\n",
        "                    loss='mean_squared_error',\n",
        "                    metrics=['mean_squared_error'])\n",
        "    \n",
        "    # Return compiled network\n",
        "    return network\n",
        "\n",
        "# Set random seed\n",
        "np.random.seed(0)\n",
        "\n",
        "# create model\n",
        "nn = KerasRegressor(build_fn=create_network,  epochs=50, batch_size=100, verbose=0)"
      ],
      "execution_count": 0,
      "outputs": []
    },
    {
      "cell_type": "markdown",
      "metadata": {
        "colab_type": "text",
        "id": "4gzHDmg0s3Ps"
      },
      "source": [
        " ### Defining Grid Search Parameters"
      ]
    },
    {
      "cell_type": "code",
      "metadata": {
        "colab_type": "code",
        "id": "h32Vr70Cs3Pt",
        "colab": {}
      },
      "source": [
        "# Hyperparameters\n",
        "learn_rate = [0.001, 0.01, 0.1]\n",
        "momentum = [0.0, 0.1, 0.25]\n",
        "\n",
        "# Building Grid\n",
        "param_grid = dict(learn_rate=learn_rate, momentum=momentum)\n",
        "grid = GridSearchCV(estimator=nn, param_grid=param_grid, n_jobs=1, cv=3)"
      ],
      "execution_count": 0,
      "outputs": []
    },
    {
      "cell_type": "markdown",
      "metadata": {
        "colab_type": "text",
        "id": "ObW7iyXYs3Pv"
      },
      "source": [
        "### Running Grid Search"
      ]
    },
    {
      "cell_type": "code",
      "metadata": {
        "colab_type": "code",
        "id": "PoR2Fo4ps3Pw",
        "colab": {}
      },
      "source": [
        "# Running Grid Search\n",
        "grid_result = grid.fit(Xtrain_norm, Ytrain_norm)"
      ],
      "execution_count": 0,
      "outputs": []
    },
    {
      "cell_type": "markdown",
      "metadata": {
        "colab_type": "text",
        "id": "L4B9Cg3Fs3Pz"
      },
      "source": [
        "### Grid Search Output"
      ]
    },
    {
      "cell_type": "code",
      "metadata": {
        "colab_type": "code",
        "outputId": "86d78884-02e4-4ccf-fcd1-8c9e38709c2b",
        "id": "6Ivgq7dls3P0",
        "colab": {
          "base_uri": "https://localhost:8080/",
          "height": 187
        }
      },
      "source": [
        "# summarize results\n",
        "print(\"Best: %f using %s\" % (grid_result.best_score_, grid_result.best_params_))\n",
        "means = grid_result.cv_results_['mean_test_score']\n",
        "stds = grid_result.cv_results_['std_test_score']\n",
        "params = grid_result.cv_results_['params']\n",
        "for mean, stdev, param in zip(means, stds, params):\n",
        "    print(\"%f (%f) with: %r\" % (mean, stdev, param))"
      ],
      "execution_count": 0,
      "outputs": [
        {
          "output_type": "stream",
          "text": [
            "Best: -1.002819 using {'learn_rate': 0.1, 'momentum': 0.1}\n",
            "-1.046279 (0.042569) with: {'learn_rate': 0.001, 'momentum': 0.0}\n",
            "-1.049379 (0.012329) with: {'learn_rate': 0.001, 'momentum': 0.1}\n",
            "-1.017615 (0.042249) with: {'learn_rate': 0.001, 'momentum': 0.25}\n",
            "-1.021097 (0.020548) with: {'learn_rate': 0.01, 'momentum': 0.0}\n",
            "-1.019444 (0.011505) with: {'learn_rate': 0.01, 'momentum': 0.1}\n",
            "-1.064269 (0.015605) with: {'learn_rate': 0.01, 'momentum': 0.25}\n",
            "-1.020066 (0.041608) with: {'learn_rate': 0.1, 'momentum': 0.0}\n",
            "-1.002819 (0.008608) with: {'learn_rate': 0.1, 'momentum': 0.1}\n",
            "-1.037555 (0.011690) with: {'learn_rate': 0.1, 'momentum': 0.25}\n"
          ],
          "name": "stdout"
        }
      ]
    },
    {
      "cell_type": "markdown",
      "metadata": {
        "colab_type": "text",
        "id": "fUdjbAC3s3P2"
      },
      "source": [
        "#### Optimal Values\n",
        "\n",
        "##### Learning Rate = 0.1\n",
        "##### Momentum = 0.1"
      ]
    },
    {
      "cell_type": "markdown",
      "metadata": {
        "colab_type": "text",
        "id": "pmwfyV3G02-L"
      },
      "source": [
        "## Network Weight Initialization"
      ]
    },
    {
      "cell_type": "markdown",
      "metadata": {
        "colab_type": "text",
        "id": "WU7jlNMX02-U"
      },
      "source": [
        "### Model Structure and Hyperparameters"
      ]
    },
    {
      "cell_type": "code",
      "metadata": {
        "colab_type": "code",
        "id": "5K25-E7d02-W",
        "colab": {}
      },
      "source": [
        "# Structural Hyperparameters\n",
        "n_inputs = len(Xtrain_norm)\n",
        "n_features = len(Xtrain_norm[0])\n",
        "n_hidden1 = len(Xtrain_norm[0])\n",
        "n_hidden2 = 15\n",
        "n_hidden3 = 10\n",
        "n_outputs = 1\n",
        "\n",
        "\n",
        "# Create function returning a compiled network\n",
        "def create_network(init_mode='uniform'):\n",
        "    \n",
        "    # Start neural network\n",
        "    network = models.Sequential()\n",
        "\n",
        "    # Add layer with a ReLU activation function and bias\n",
        "    network.add(layers.Dense(units=n_hidden1, kernel_initializer=init_mode, activation='relu', use_bias=True, input_shape=(n_features,)))\n",
        "\n",
        "    # Add layer with a ReLU activation function and bias\n",
        "    network.add(layers.Dense(units=n_hidden2, kernel_initializer=init_mode, activation='relu', use_bias=True))\n",
        "\n",
        "    # Add layer with ReLU activation function and bias\n",
        "    network.add(layers.Dense(units=n_hidden3, kernel_initializer=init_mode, activation='relu', use_bias=True))\n",
        "\n",
        "    # Add output layer with ReLU activation function\n",
        "    network.add(layers.Dense(units=n_outputs, kernel_initializer=init_mode, activation='relu'))\n",
        "\n",
        "    # Compile neural network\n",
        "    network.compile(optimizer='Adam',\n",
        "                    loss='mean_squared_error',\n",
        "                    metrics=['mean_squared_error'])\n",
        "    \n",
        "    # Return compiled network\n",
        "    return network\n",
        "\n",
        "# Set random seed\n",
        "np.random.seed(0)\n",
        "\n",
        "# create model\n",
        "nn = KerasRegressor(build_fn=create_network,  epochs=50, batch_size=100, verbose=0)"
      ],
      "execution_count": 0,
      "outputs": []
    },
    {
      "cell_type": "markdown",
      "metadata": {
        "colab_type": "text",
        "id": "Vdo8zMlC02-h"
      },
      "source": [
        " ### Defining Grid Search Parameters"
      ]
    },
    {
      "cell_type": "code",
      "metadata": {
        "colab_type": "code",
        "id": "fPBSPxrX02-k",
        "colab": {}
      },
      "source": [
        "# Hyperparameters\n",
        "init_mode = ['uniform', 'lecun_uniform', 'normal', 'zero', 'glorot_normal', 'glorot_uniform', 'he_normal', 'he_uniform']\n",
        "param_grid = dict(init_mode=init_mode)\n",
        "\n",
        "# Building Grid\n",
        "grid = GridSearchCV(estimator=nn, param_grid=param_grid, n_jobs=1, cv=3)"
      ],
      "execution_count": 0,
      "outputs": []
    },
    {
      "cell_type": "markdown",
      "metadata": {
        "colab_type": "text",
        "id": "ScdZAm8T02-t"
      },
      "source": [
        "### Running Grid Search"
      ]
    },
    {
      "cell_type": "code",
      "metadata": {
        "colab_type": "code",
        "id": "UBVKF3n302-v",
        "colab": {}
      },
      "source": [
        "# Running Grid Search\n",
        "grid_result = grid.fit(Xtrain_norm, Ytrain_norm)"
      ],
      "execution_count": 0,
      "outputs": []
    },
    {
      "cell_type": "markdown",
      "metadata": {
        "colab_type": "text",
        "id": "-eYnjZ0-02-6"
      },
      "source": [
        "### Grid Search Output"
      ]
    },
    {
      "cell_type": "code",
      "metadata": {
        "colab_type": "code",
        "outputId": "da74833b-9fe0-4794-d9d2-dba1283843bb",
        "id": "Xb8tsaTA02-9",
        "colab": {
          "base_uri": "https://localhost:8080/",
          "height": 170
        }
      },
      "source": [
        "# summarize results\n",
        "print(\"Best: %f using %s\" % (grid_result.best_score_, grid_result.best_params_))\n",
        "means = grid_result.cv_results_['mean_test_score']\n",
        "stds = grid_result.cv_results_['std_test_score']\n",
        "params = grid_result.cv_results_['params']\n",
        "for mean, stdev, param in zip(means, stds, params):\n",
        "    print(\"%f (%f) with: %r\" % (mean, stdev, param))"
      ],
      "execution_count": 0,
      "outputs": [
        {
          "output_type": "stream",
          "text": [
            "Best: -0.984337 using {'init_mode': 'uniform'}\n",
            "-0.984337 (0.032595) with: {'init_mode': 'uniform'}\n",
            "-1.014629 (0.017543) with: {'init_mode': 'lecun_uniform'}\n",
            "-1.011314 (0.011269) with: {'init_mode': 'normal'}\n",
            "-1.000000 (0.020576) with: {'init_mode': 'zero'}\n",
            "-1.044479 (0.047411) with: {'init_mode': 'glorot_normal'}\n",
            "-1.045773 (0.043035) with: {'init_mode': 'glorot_uniform'}\n",
            "-1.017475 (0.059907) with: {'init_mode': 'he_normal'}\n",
            "-1.002737 (0.043526) with: {'init_mode': 'he_uniform'}\n"
          ],
          "name": "stdout"
        }
      ]
    },
    {
      "cell_type": "markdown",
      "metadata": {
        "colab_type": "text",
        "id": "Luy7TdoO02_G"
      },
      "source": [
        "#### Optimal Values\n",
        "\n",
        "##### Weight Initialization = Uniform"
      ]
    },
    {
      "cell_type": "markdown",
      "metadata": {
        "colab_type": "text",
        "id": "93XXHahQ4f4n"
      },
      "source": [
        "## Neuron Activation Function"
      ]
    },
    {
      "cell_type": "markdown",
      "metadata": {
        "colab_type": "text",
        "id": "cjZb6RJn4f4r"
      },
      "source": [
        "### Model Structure and Hyperparameters"
      ]
    },
    {
      "cell_type": "code",
      "metadata": {
        "colab_type": "code",
        "id": "iWh4og8p4f4t",
        "colab": {}
      },
      "source": [
        "# Structural Hyperparameters\n",
        "n_inputs = len(Xtrain_norm)\n",
        "n_features = len(Xtrain_norm[0])\n",
        "n_hidden1 = len(Xtrain_norm[0])\n",
        "n_hidden2 = 15\n",
        "n_hidden3 = 10\n",
        "n_outputs = 1\n",
        "\n",
        "\n",
        "# Create function returning a compiled network\n",
        "def create_network(activation='relu'):\n",
        "    \n",
        "    # Start neural network\n",
        "    network = models.Sequential()\n",
        "\n",
        "    # Add layer with a ReLU activation function and bias\n",
        "    network.add(layers.Dense(units=n_hidden1, activation=activation, use_bias=True, input_shape=(n_features,)))\n",
        "\n",
        "    # Add layer with a ReLU activation function and bias\n",
        "    network.add(layers.Dense(units=n_hidden2,  activation=activation, use_bias=True))\n",
        "\n",
        "    # Add layer with ReLU activation function and bias\n",
        "    network.add(layers.Dense(units=n_hidden3,  activation=activation, use_bias=True))\n",
        "\n",
        "    # Add output layer with ReLU activation function\n",
        "    network.add(layers.Dense(units=n_outputs, activation=activation))\n",
        "\n",
        "    # Compile neural network\n",
        "    network.compile(optimizer='Adam',\n",
        "                    loss='mean_squared_error',\n",
        "                    metrics=['mean_squared_error'])\n",
        "    \n",
        "    # Return compiled network\n",
        "    return network\n",
        "\n",
        "# Set random seed\n",
        "np.random.seed(0)\n",
        "\n",
        "# create model\n",
        "nn = KerasRegressor(build_fn=create_network,  epochs=50, batch_size=100, verbose=0)"
      ],
      "execution_count": 0,
      "outputs": []
    },
    {
      "cell_type": "markdown",
      "metadata": {
        "colab_type": "text",
        "id": "JlL-g-Yv4f40"
      },
      "source": [
        " ### Defining Grid Search Parameters"
      ]
    },
    {
      "cell_type": "code",
      "metadata": {
        "colab_type": "code",
        "id": "4sS4KaUW4f42",
        "colab": {}
      },
      "source": [
        "# Hyperparameters\n",
        "activation = ['softmax', 'softplus', 'softsign', 'relu', 'tanh', 'sigmoid', 'hard_sigmoid', 'linear']\n",
        "param_grid = dict(activation=activation)\n",
        "\n",
        "# Building Grid\n",
        "grid = GridSearchCV(estimator=nn, param_grid=param_grid, n_jobs=1, cv=3)"
      ],
      "execution_count": 0,
      "outputs": []
    },
    {
      "cell_type": "markdown",
      "metadata": {
        "colab_type": "text",
        "id": "pto1VNZa4f48"
      },
      "source": [
        "### Running Grid Search"
      ]
    },
    {
      "cell_type": "code",
      "metadata": {
        "colab_type": "code",
        "id": "QUA9XjsJ4f4_",
        "outputId": "c9dadb83-6ed0-4b13-9a19-d99e2c4670ce",
        "colab": {
          "base_uri": "https://localhost:8080/",
          "height": 88
        }
      },
      "source": [
        "# Running Grid Search\n",
        "grid_result = grid.fit(Xtrain_norm, Ytrain_norm)"
      ],
      "execution_count": 0,
      "outputs": [
        {
          "output_type": "stream",
          "text": [
            "WARNING:tensorflow:From /usr/local/lib/python3.6/dist-packages/tensorflow/python/ops/math_grad.py:1250: add_dispatch_support.<locals>.wrapper (from tensorflow.python.ops.array_ops) is deprecated and will be removed in a future version.\n",
            "Instructions for updating:\n",
            "Use tf.where in 2.0, which has the same broadcast rule as np.where\n"
          ],
          "name": "stdout"
        }
      ]
    },
    {
      "cell_type": "markdown",
      "metadata": {
        "colab_type": "text",
        "id": "8HhxTj1f4f5G"
      },
      "source": [
        "### Grid Search Output"
      ]
    },
    {
      "cell_type": "code",
      "metadata": {
        "colab_type": "code",
        "outputId": "ee1a9e0f-d19d-4e73-a777-5ff986eaab75",
        "id": "fS_SPTUZ4f5I",
        "colab": {
          "base_uri": "https://localhost:8080/",
          "height": 170
        }
      },
      "source": [
        "# summarize results\n",
        "print(\"Best: %f using %s\" % (grid_result.best_score_, grid_result.best_params_))\n",
        "means = grid_result.cv_results_['mean_test_score']\n",
        "stds = grid_result.cv_results_['std_test_score']\n",
        "params = grid_result.cv_results_['params']\n",
        "for mean, stdev, param in zip(means, stds, params):\n",
        "    print(\"%f (%f) with: %r\" % (mean, stdev, param))"
      ],
      "execution_count": 0,
      "outputs": [
        {
          "output_type": "stream",
          "text": [
            "Best: -0.795941 using {'activation': 'linear'}\n",
            "-2.000000 (0.001212) with: {'activation': 'softmax'}\n",
            "-0.900014 (0.027005) with: {'activation': 'softplus'}\n",
            "-0.877997 (0.048707) with: {'activation': 'softsign'}\n",
            "-1.060909 (0.066199) with: {'activation': 'relu'}\n",
            "-0.893174 (0.037311) with: {'activation': 'tanh'}\n",
            "-0.891389 (0.026936) with: {'activation': 'sigmoid'}\n",
            "-0.882660 (0.027209) with: {'activation': 'hard_sigmoid'}\n",
            "-0.795941 (0.042408) with: {'activation': 'linear'}\n"
          ],
          "name": "stdout"
        }
      ]
    },
    {
      "cell_type": "markdown",
      "metadata": {
        "colab_type": "text",
        "id": "oYp7W_9I4f5P"
      },
      "source": [
        "#### Optimal Values\n",
        "\n",
        "##### Activation Function = Linear"
      ]
    },
    {
      "cell_type": "markdown",
      "metadata": {
        "colab_type": "text",
        "id": "F-a19qSq4WHO"
      },
      "source": [
        "## Dropout Regularization"
      ]
    },
    {
      "cell_type": "markdown",
      "metadata": {
        "colab_type": "text",
        "id": "uJpgdZ3D4WHN"
      },
      "source": [
        "### Model Structure and Hyperparameters"
      ]
    },
    {
      "cell_type": "code",
      "metadata": {
        "colab_type": "code",
        "id": "K6EI7nAD4WHH",
        "colab": {}
      },
      "source": [
        "# Structural Hyperparameters\n",
        "n_inputs = len(Xtrain_norm)\n",
        "n_features = len(Xtrain_norm[0])\n",
        "n_hidden1 = len(Xtrain_norm[0])\n",
        "n_hidden2 = 15\n",
        "n_hidden3 = 10\n",
        "n_outputs = 1\n",
        "\n",
        "\n",
        "# Create function returning a compiled network\n",
        "def create_network(dropout_rate=0.01, weight_constraint=0):\n",
        "    \n",
        "    # Start neural network\n",
        "    network = models.Sequential()\n",
        "\n",
        "    # Add layer with a ReLU activation function and bias\n",
        "    network.add(layers.Dense(units=n_hidden1, activation='relu', \n",
        "                             kernel_constraint=maxnorm(weight_constraint), \n",
        "                             use_bias=True, input_shape=(n_features,)))\n",
        "    network.add(Dropout(dropout_rate))\n",
        "\n",
        "    # Add layer with a ReLU activation function and bias\n",
        "    network.add(layers.Dense(units=n_hidden2, activation='relu', \n",
        "                             kernel_constraint=maxnorm(weight_constraint), \n",
        "                             use_bias=True))\n",
        "    network.add(Dropout(dropout_rate))\n",
        "\n",
        "    # Add layer with ReLU activation function and bias\n",
        "    network.add(layers.Dense(units=n_hidden3, activation='relu', \n",
        "                             kernel_constraint=maxnorm(weight_constraint), \n",
        "                             use_bias=True))\n",
        "    network.add(Dropout(dropout_rate))\n",
        "\n",
        "    # Add output layer with ReLU activation function\n",
        "    network.add(layers.Dense(units=n_outputs, activation='relu'))\n",
        "\n",
        "    # Compile neural network\n",
        "    network.compile(optimizer='Adam',\n",
        "                    loss='mean_squared_error',\n",
        "                    metrics=['mean_squared_error'])\n",
        "    \n",
        "    # Return compiled network\n",
        "    return network\n",
        "\n",
        "# Set random seed\n",
        "np.random.seed(0)\n",
        "\n",
        "# create model\n",
        "nn = KerasRegressor(build_fn=create_network,  epochs=50, batch_size=100, verbose=0)"
      ],
      "execution_count": 0,
      "outputs": []
    },
    {
      "cell_type": "markdown",
      "metadata": {
        "colab_type": "text",
        "id": "iTz6eEXW4WHF"
      },
      "source": [
        " ### Defining Grid Search Parameters"
      ]
    },
    {
      "cell_type": "code",
      "metadata": {
        "colab_type": "code",
        "id": "VFPXErNj4WG6",
        "colab": {}
      },
      "source": [
        "# Hyperparameters\n",
        "weight_constraint = [0, 1, 2]\n",
        "dropout_rate = [0.0, 0.1, 0.2]\n",
        "\n",
        "# Building Grid\n",
        "param_grid = dict(dropout_rate=dropout_rate, weight_constraint=weight_constraint)\n",
        "grid = GridSearchCV(estimator=nn, param_grid=param_grid, n_jobs=1, cv=3)"
      ],
      "execution_count": 0,
      "outputs": []
    },
    {
      "cell_type": "markdown",
      "metadata": {
        "colab_type": "text",
        "id": "eMLYzJ6r4WG3"
      },
      "source": [
        "### Running Grid Search"
      ]
    },
    {
      "cell_type": "code",
      "metadata": {
        "colab_type": "code",
        "id": "5COb5Pys4WGr",
        "outputId": "6438cc2c-fd16-48ee-b645-6f9270f0705f",
        "colab": {
          "base_uri": "https://localhost:8080/",
          "height": 88
        }
      },
      "source": [
        "# Running Grid Search\n",
        "grid_result = grid.fit(Xtrain_norm, Ytrain_norm)"
      ],
      "execution_count": 0,
      "outputs": [
        {
          "output_type": "stream",
          "text": [
            "WARNING:tensorflow:From /usr/local/lib/python3.6/dist-packages/keras/backend/tensorflow_backend.py:3733: calling dropout (from tensorflow.python.ops.nn_ops) with keep_prob is deprecated and will be removed in a future version.\n",
            "Instructions for updating:\n",
            "Please use `rate` instead of `keep_prob`. Rate should be set to `rate = 1 - keep_prob`.\n"
          ],
          "name": "stdout"
        }
      ]
    },
    {
      "cell_type": "markdown",
      "metadata": {
        "colab_type": "text",
        "id": "KUdTCYhR4WGl"
      },
      "source": [
        "### Grid Search Output"
      ]
    },
    {
      "cell_type": "code",
      "metadata": {
        "colab_type": "code",
        "outputId": "6bd96cf4-9656-49be-9552-765c9045bf13",
        "id": "NnBhOXdY4WGK",
        "colab": {
          "base_uri": "https://localhost:8080/",
          "height": 187
        }
      },
      "source": [
        "# summarize results\n",
        "print(\"Best: %f using %s\" % (grid_result.best_score_, grid_result.best_params_))\n",
        "means = grid_result.cv_results_['mean_test_score']\n",
        "stds = grid_result.cv_results_['std_test_score']\n",
        "params = grid_result.cv_results_['params']\n",
        "for mean, stdev, param in zip(means, stds, params):\n",
        "    print(\"%f (%f) with: %r\" % (mean, stdev, param))"
      ],
      "execution_count": 0,
      "outputs": [
        {
          "output_type": "stream",
          "text": [
            "Best: -0.891008 using {'dropout_rate': 0.2, 'weight_constraint': 1}\n",
            "-1.000000 (0.020576) with: {'dropout_rate': 0.0, 'weight_constraint': 0}\n",
            "-0.976401 (0.022123) with: {'dropout_rate': 0.0, 'weight_constraint': 1}\n",
            "-1.033513 (0.047523) with: {'dropout_rate': 0.0, 'weight_constraint': 2}\n",
            "-1.000000 (0.020576) with: {'dropout_rate': 0.1, 'weight_constraint': 0}\n",
            "-0.906816 (0.023351) with: {'dropout_rate': 0.1, 'weight_constraint': 1}\n",
            "-0.909789 (0.030800) with: {'dropout_rate': 0.1, 'weight_constraint': 2}\n",
            "-1.000000 (0.020576) with: {'dropout_rate': 0.2, 'weight_constraint': 0}\n",
            "-0.891008 (0.024368) with: {'dropout_rate': 0.2, 'weight_constraint': 1}\n",
            "-0.896379 (0.023916) with: {'dropout_rate': 0.2, 'weight_constraint': 2}\n"
          ],
          "name": "stdout"
        }
      ]
    },
    {
      "cell_type": "markdown",
      "metadata": {
        "colab_type": "text",
        "id": "oMVal8nx4WF6"
      },
      "source": [
        "#### Optimal Values\n",
        "\n",
        "##### Dropout Rate = 0.2\n",
        "##### Weight Constraint = 1"
      ]
    },
    {
      "cell_type": "markdown",
      "metadata": {
        "colab_type": "text",
        "id": "b1j81R33DtX3"
      },
      "source": [
        "## Hidden Layer Neurons"
      ]
    },
    {
      "cell_type": "markdown",
      "metadata": {
        "colab_type": "text",
        "id": "IRr_G8FCDtYE"
      },
      "source": [
        "### Model Structure and Hyperparameters"
      ]
    },
    {
      "cell_type": "code",
      "metadata": {
        "colab_type": "code",
        "id": "t9z9w8qGDtYH",
        "colab": {}
      },
      "source": [
        "# Structural Hyperparameters\n",
        "n_inputs = len(Xtrain_norm)\n",
        "n_features = len(Xtrain_norm[0])\n",
        "n_hidden1 = len(Xtrain_norm[0])\n",
        "n_hidden2 = 15\n",
        "n_hidden3 = 10\n",
        "n_outputs = 1\n",
        "\n",
        "\n",
        "# Create function returning a compiled network\n",
        "def create_network(hl1=20, hl2=15, hl3=10):\n",
        "    \n",
        "    # Start neural network\n",
        "    network = models.Sequential()\n",
        "\n",
        "    # Add layer with a ReLU activation function and bias\n",
        "    network.add(layers.Dense(units=hl1, activation='relu', use_bias=True, input_shape=(n_features,)))\n",
        "\n",
        "    # Add layer with a ReLU activation function and bias\n",
        "    network.add(layers.Dense(units=hl2, activation='relu', use_bias=True))\n",
        "\n",
        "    # Add layer with ReLU activation function and bias\n",
        "    network.add(layers.Dense(units=hl3, activation='relu', use_bias=True))\n",
        "\n",
        "    # Add output layer with ReLU activation function\n",
        "    network.add(layers.Dense(units=n_outputs, activation='relu'))\n",
        "\n",
        "    # Compile neural network\n",
        "    network.compile(optimizer='Adam',\n",
        "                    loss='mean_squared_error',\n",
        "                    metrics=['mean_squared_error'])\n",
        "    \n",
        "    # Return compiled network\n",
        "    return network\n",
        "\n",
        "# Set random seed\n",
        "np.random.seed(0)\n",
        "\n",
        "# create model\n",
        "nn = KerasRegressor(build_fn=create_network,  epochs=50, batch_size=100, verbose=0)"
      ],
      "execution_count": 0,
      "outputs": []
    },
    {
      "cell_type": "markdown",
      "metadata": {
        "colab_type": "text",
        "id": "sCeL25n1DtYS"
      },
      "source": [
        " ### Defining Grid Search Parameters"
      ]
    },
    {
      "cell_type": "code",
      "metadata": {
        "colab_type": "code",
        "id": "Tx9DLSK2DtYU",
        "colab": {}
      },
      "source": [
        "# Hyperparameters\n",
        "hl1 = [20]\n",
        "hl2 = [20]\n",
        "hl3 = [15, 10 ,5]\n",
        "\n",
        "# Building Grid\n",
        "param_grid = dict(hl1=hl1, hl2=hl2, hl3=hl3)\n",
        "grid = GridSearchCV(estimator=nn, param_grid=param_grid, n_jobs=1, cv=3)"
      ],
      "execution_count": 0,
      "outputs": []
    },
    {
      "cell_type": "markdown",
      "metadata": {
        "colab_type": "text",
        "id": "ukstv-VFDtYb"
      },
      "source": [
        "### Running Grid Search"
      ]
    },
    {
      "cell_type": "code",
      "metadata": {
        "colab_type": "code",
        "id": "aOvYJzbDDtYe",
        "colab": {}
      },
      "source": [
        "# Running Grid Search\n",
        "grid_result = grid.fit(Xtrain_norm, Ytrain_norm)"
      ],
      "execution_count": 0,
      "outputs": []
    },
    {
      "cell_type": "markdown",
      "metadata": {
        "colab_type": "text",
        "id": "c8jvc4l-DtYp"
      },
      "source": [
        "### Grid Search Output"
      ]
    },
    {
      "cell_type": "code",
      "metadata": {
        "colab_type": "code",
        "outputId": "9962258e-e27e-4801-cca4-bca0f97f05e5",
        "id": "64Uh8HE3DtYs",
        "colab": {
          "base_uri": "https://localhost:8080/"
        }
      },
      "source": [
        "# summarize results\n",
        "print(\"Best: %f using %s\" % (grid_result.best_score_, grid_result.best_params_))\n",
        "means = grid_result.cv_results_['mean_test_score']\n",
        "stds = grid_result.cv_results_['std_test_score']\n",
        "params = grid_result.cv_results_['params']\n",
        "for mean, stdev, param in zip(means, stds, params):\n",
        "    print(\"%f (%f) with: %r\" % (mean, stdev, param))"
      ],
      "execution_count": 0,
      "outputs": [
        {
          "output_type": "stream",
          "text": [
            "Best: -0.966048 using {'hl1': 20, 'hl2': 20, 'hl3': 5}\n",
            "-1.020417 (0.032005) with: {'hl1': 20, 'hl2': 20, 'hl3': 15}\n",
            "-0.992446 (0.026780) with: {'hl1': 20, 'hl2': 20, 'hl3': 10}\n",
            "-0.966048 (0.021359) with: {'hl1': 20, 'hl2': 20, 'hl3': 5}\n"
          ],
          "name": "stdout"
        }
      ]
    },
    {
      "cell_type": "markdown",
      "metadata": {
        "colab_type": "text",
        "id": "-CsKKeRpDtY1"
      },
      "source": [
        "#### Optimal Values\n",
        "\n",
        "##### Hidden Layer 1 = 20 neurons\n",
        "##### Hidden Layer 2 = 20 neurons\n",
        "##### Hidden Layer 3 = 5 neurons"
      ]
    },
    {
      "cell_type": "markdown",
      "metadata": {
        "id": "gncyhdEpnw2U",
        "colab_type": "text"
      },
      "source": [
        "# Running Model with Optimized Functions"
      ]
    },
    {
      "cell_type": "markdown",
      "metadata": {
        "colab_type": "text",
        "id": "ocpGyR_-kV-I"
      },
      "source": [
        "## Model Structure and Hyperparameters"
      ]
    },
    {
      "cell_type": "code",
      "metadata": {
        "colab_type": "code",
        "id": "8EwKaRl0kV-K",
        "colab": {}
      },
      "source": [
        "# Structural Hyperparameters\n",
        "n_inputs = len(Xtrain_norm)\n",
        "n_features = len(Xtrain_norm[0])\n",
        "n_hidden1 = 20\n",
        "n_hidden2 = 20\n",
        "n_hidden3 = 5\n",
        "n_outputs = 1\n",
        "optimizer = SGD(lr=0.001, momentum=0.1)\n",
        "\n",
        "\n",
        "# Create function returning a compiled network\n",
        "def create_network():\n",
        "    \n",
        "    # Start neural network\n",
        "    network = models.Sequential()\n",
        "\n",
        "    # Add layer with a ReLU activation function and bias\n",
        "    network.add(layers.Dense(units=n_hidden1, activation='linear', \n",
        "                             kernel_initializer='uniform', use_bias=True,\n",
        "                             kernel_constraint=maxnorm(1), \n",
        "                             input_shape=(n_features,)\n",
        "                             ))\n",
        "    network.add(Dropout(0.2))\n",
        "    \n",
        "    # Add layer with a ReLU activation function and bias\n",
        "    network.add(layers.Dense(units=n_hidden2, activation='linear', \n",
        "                             kernel_initializer='uniform', use_bias=True,\n",
        "                             kernel_constraint=maxnorm(1)\n",
        "                             ))\n",
        "    network.add(Dropout(0.2))\n",
        "\n",
        "    # Add layer with ReLU activation function and bias\n",
        "    network.add(layers.Dense(units=n_hidden3, activation='linear', \n",
        "                             kernel_initializer='uniform', use_bias=True,\n",
        "                             kernel_constraint=maxnorm(1)\n",
        "                             ))\n",
        "    network.add(Dropout(0.2))\n",
        "\n",
        "    # Add output layer with ReLU activation function\n",
        "    network.add(layers.Dense(units=n_outputs, activation='relu'))\n",
        "\n",
        "    # Compile neural network\n",
        "    network.compile(optimizer=optimizer,\n",
        "                    loss='mean_squared_error',\n",
        "                    metrics=['mean_squared_error', 'mean_absolute_error'])\n",
        "    \n",
        "    # Return compiled network\n",
        "    return network\n",
        "\n",
        "# Set random seed\n",
        "np.random.seed(1)\n",
        "\n",
        "# create model\n",
        "nn_final = KerasRegressor(build_fn=create_network,  epochs=400, batch_size=100, verbose=0)"
      ],
      "execution_count": 0,
      "outputs": []
    },
    {
      "cell_type": "code",
      "metadata": {
        "id": "YyodCLAXzf_e",
        "colab_type": "code",
        "outputId": "e1977a8e-ab9a-4e69-88cd-fdbad8b21aa1",
        "colab": {
          "base_uri": "https://localhost:8080/",
          "height": 706
        }
      },
      "source": [
        "history_final = nn_final.fit(x = Xtrain_norm, verbose=0, y = Ytrain_norm\n",
        "       , validation_data = (Xval_norm, Yval_norm)\n",
        ")\n",
        "hist_final = pd.DataFrame(history_final.history)\n",
        "hist_final['epoch'] = history_final.epoch\n",
        "hist_final"
      ],
      "execution_count": 0,
      "outputs": [
        {
          "output_type": "execute_result",
          "data": {
            "text/html": [
              "<div>\n",
              "<style scoped>\n",
              "    .dataframe tbody tr th:only-of-type {\n",
              "        vertical-align: middle;\n",
              "    }\n",
              "\n",
              "    .dataframe tbody tr th {\n",
              "        vertical-align: top;\n",
              "    }\n",
              "\n",
              "    .dataframe thead th {\n",
              "        text-align: right;\n",
              "    }\n",
              "</style>\n",
              "<table border=\"1\" class=\"dataframe\">\n",
              "  <thead>\n",
              "    <tr style=\"text-align: right;\">\n",
              "      <th></th>\n",
              "      <th>val_loss</th>\n",
              "      <th>val_mean_squared_error</th>\n",
              "      <th>val_mean_absolute_error</th>\n",
              "      <th>loss</th>\n",
              "      <th>mean_squared_error</th>\n",
              "      <th>mean_absolute_error</th>\n",
              "      <th>epoch</th>\n",
              "    </tr>\n",
              "  </thead>\n",
              "  <tbody>\n",
              "    <tr>\n",
              "      <th>0</th>\n",
              "      <td>1.0000</td>\n",
              "      <td>1.0000</td>\n",
              "      <td>0.7898</td>\n",
              "      <td>1.0001</td>\n",
              "      <td>1.0001</td>\n",
              "      <td>0.7799</td>\n",
              "      <td>0</td>\n",
              "    </tr>\n",
              "    <tr>\n",
              "      <th>1</th>\n",
              "      <td>1.0000</td>\n",
              "      <td>1.0000</td>\n",
              "      <td>0.7898</td>\n",
              "      <td>1.0000</td>\n",
              "      <td>1.0000</td>\n",
              "      <td>0.7798</td>\n",
              "      <td>1</td>\n",
              "    </tr>\n",
              "    <tr>\n",
              "      <th>2</th>\n",
              "      <td>1.0000</td>\n",
              "      <td>1.0000</td>\n",
              "      <td>0.7898</td>\n",
              "      <td>1.0000</td>\n",
              "      <td>1.0000</td>\n",
              "      <td>0.7798</td>\n",
              "      <td>2</td>\n",
              "    </tr>\n",
              "    <tr>\n",
              "      <th>3</th>\n",
              "      <td>1.0000</td>\n",
              "      <td>1.0000</td>\n",
              "      <td>0.7898</td>\n",
              "      <td>1.0000</td>\n",
              "      <td>1.0000</td>\n",
              "      <td>0.7798</td>\n",
              "      <td>3</td>\n",
              "    </tr>\n",
              "    <tr>\n",
              "      <th>4</th>\n",
              "      <td>1.0000</td>\n",
              "      <td>1.0000</td>\n",
              "      <td>0.7898</td>\n",
              "      <td>0.9999</td>\n",
              "      <td>0.9999</td>\n",
              "      <td>0.7798</td>\n",
              "      <td>4</td>\n",
              "    </tr>\n",
              "    <tr>\n",
              "      <th>5</th>\n",
              "      <td>1.0000</td>\n",
              "      <td>1.0000</td>\n",
              "      <td>0.7898</td>\n",
              "      <td>0.9999</td>\n",
              "      <td>0.9999</td>\n",
              "      <td>0.7798</td>\n",
              "      <td>5</td>\n",
              "    </tr>\n",
              "    <tr>\n",
              "      <th>6</th>\n",
              "      <td>1.0000</td>\n",
              "      <td>1.0000</td>\n",
              "      <td>0.7898</td>\n",
              "      <td>0.9998</td>\n",
              "      <td>0.9998</td>\n",
              "      <td>0.7798</td>\n",
              "      <td>6</td>\n",
              "    </tr>\n",
              "    <tr>\n",
              "      <th>7</th>\n",
              "      <td>1.0000</td>\n",
              "      <td>1.0000</td>\n",
              "      <td>0.7898</td>\n",
              "      <td>0.9998</td>\n",
              "      <td>0.9998</td>\n",
              "      <td>0.7798</td>\n",
              "      <td>7</td>\n",
              "    </tr>\n",
              "    <tr>\n",
              "      <th>8</th>\n",
              "      <td>1.0001</td>\n",
              "      <td>1.0001</td>\n",
              "      <td>0.7899</td>\n",
              "      <td>0.9998</td>\n",
              "      <td>0.9998</td>\n",
              "      <td>0.7798</td>\n",
              "      <td>8</td>\n",
              "    </tr>\n",
              "    <tr>\n",
              "      <th>9</th>\n",
              "      <td>1.0000</td>\n",
              "      <td>1.0000</td>\n",
              "      <td>0.7898</td>\n",
              "      <td>0.9998</td>\n",
              "      <td>0.9998</td>\n",
              "      <td>0.7799</td>\n",
              "      <td>9</td>\n",
              "    </tr>\n",
              "    <tr>\n",
              "      <th>...</th>\n",
              "      <td>...</td>\n",
              "      <td>...</td>\n",
              "      <td>...</td>\n",
              "      <td>...</td>\n",
              "      <td>...</td>\n",
              "      <td>...</td>\n",
              "      <td>...</td>\n",
              "    </tr>\n",
              "    <tr>\n",
              "      <th>390</th>\n",
              "      <td>0.8827</td>\n",
              "      <td>0.8827</td>\n",
              "      <td>0.7680</td>\n",
              "      <td>0.8822</td>\n",
              "      <td>0.8822</td>\n",
              "      <td>0.7648</td>\n",
              "      <td>390</td>\n",
              "    </tr>\n",
              "    <tr>\n",
              "      <th>391</th>\n",
              "      <td>0.8827</td>\n",
              "      <td>0.8827</td>\n",
              "      <td>0.7681</td>\n",
              "      <td>0.8765</td>\n",
              "      <td>0.8765</td>\n",
              "      <td>0.7633</td>\n",
              "      <td>391</td>\n",
              "    </tr>\n",
              "    <tr>\n",
              "      <th>392</th>\n",
              "      <td>0.8827</td>\n",
              "      <td>0.8827</td>\n",
              "      <td>0.7681</td>\n",
              "      <td>0.8843</td>\n",
              "      <td>0.8843</td>\n",
              "      <td>0.7651</td>\n",
              "      <td>392</td>\n",
              "    </tr>\n",
              "    <tr>\n",
              "      <th>393</th>\n",
              "      <td>0.8827</td>\n",
              "      <td>0.8827</td>\n",
              "      <td>0.7681</td>\n",
              "      <td>0.8828</td>\n",
              "      <td>0.8828</td>\n",
              "      <td>0.7668</td>\n",
              "      <td>393</td>\n",
              "    </tr>\n",
              "    <tr>\n",
              "      <th>394</th>\n",
              "      <td>0.8827</td>\n",
              "      <td>0.8827</td>\n",
              "      <td>0.7681</td>\n",
              "      <td>0.8862</td>\n",
              "      <td>0.8862</td>\n",
              "      <td>0.7660</td>\n",
              "      <td>394</td>\n",
              "    </tr>\n",
              "    <tr>\n",
              "      <th>395</th>\n",
              "      <td>0.8827</td>\n",
              "      <td>0.8827</td>\n",
              "      <td>0.7679</td>\n",
              "      <td>0.8915</td>\n",
              "      <td>0.8915</td>\n",
              "      <td>0.7697</td>\n",
              "      <td>395</td>\n",
              "    </tr>\n",
              "    <tr>\n",
              "      <th>396</th>\n",
              "      <td>0.8826</td>\n",
              "      <td>0.8826</td>\n",
              "      <td>0.7681</td>\n",
              "      <td>0.8779</td>\n",
              "      <td>0.8779</td>\n",
              "      <td>0.7638</td>\n",
              "      <td>396</td>\n",
              "    </tr>\n",
              "    <tr>\n",
              "      <th>397</th>\n",
              "      <td>0.8826</td>\n",
              "      <td>0.8826</td>\n",
              "      <td>0.7681</td>\n",
              "      <td>0.8839</td>\n",
              "      <td>0.8839</td>\n",
              "      <td>0.7658</td>\n",
              "      <td>397</td>\n",
              "    </tr>\n",
              "    <tr>\n",
              "      <th>398</th>\n",
              "      <td>0.8826</td>\n",
              "      <td>0.8826</td>\n",
              "      <td>0.7682</td>\n",
              "      <td>0.8808</td>\n",
              "      <td>0.8808</td>\n",
              "      <td>0.7652</td>\n",
              "      <td>398</td>\n",
              "    </tr>\n",
              "    <tr>\n",
              "      <th>399</th>\n",
              "      <td>0.8826</td>\n",
              "      <td>0.8826</td>\n",
              "      <td>0.7681</td>\n",
              "      <td>0.8863</td>\n",
              "      <td>0.8863</td>\n",
              "      <td>0.7679</td>\n",
              "      <td>399</td>\n",
              "    </tr>\n",
              "  </tbody>\n",
              "</table>\n",
              "<p>400 rows × 7 columns</p>\n",
              "</div>"
            ],
            "text/plain": [
              "     val_loss  val_mean_squared_error  ...  mean_absolute_error  epoch\n",
              "0      1.0000                  1.0000  ...               0.7799      0\n",
              "1      1.0000                  1.0000  ...               0.7798      1\n",
              "2      1.0000                  1.0000  ...               0.7798      2\n",
              "3      1.0000                  1.0000  ...               0.7798      3\n",
              "4      1.0000                  1.0000  ...               0.7798      4\n",
              "5      1.0000                  1.0000  ...               0.7798      5\n",
              "6      1.0000                  1.0000  ...               0.7798      6\n",
              "7      1.0000                  1.0000  ...               0.7798      7\n",
              "8      1.0001                  1.0001  ...               0.7798      8\n",
              "9      1.0000                  1.0000  ...               0.7799      9\n",
              "..        ...                     ...  ...                  ...    ...\n",
              "390    0.8827                  0.8827  ...               0.7648    390\n",
              "391    0.8827                  0.8827  ...               0.7633    391\n",
              "392    0.8827                  0.8827  ...               0.7651    392\n",
              "393    0.8827                  0.8827  ...               0.7668    393\n",
              "394    0.8827                  0.8827  ...               0.7660    394\n",
              "395    0.8827                  0.8827  ...               0.7697    395\n",
              "396    0.8826                  0.8826  ...               0.7638    396\n",
              "397    0.8826                  0.8826  ...               0.7658    397\n",
              "398    0.8826                  0.8826  ...               0.7652    398\n",
              "399    0.8826                  0.8826  ...               0.7679    399\n",
              "\n",
              "[400 rows x 7 columns]"
            ]
          },
          "metadata": {
            "tags": []
          },
          "execution_count": 66
        }
      ]
    },
    {
      "cell_type": "code",
      "metadata": {
        "id": "L1aoCYTn18vZ",
        "colab_type": "code",
        "outputId": "760a4a22-d1f1-4cd1-88db-88b5f438515c",
        "colab": {
          "base_uri": "https://localhost:8080/",
          "height": 158
        }
      },
      "source": [
        "hist_final.loc[hist_final['val_mean_squared_error'].idxmin()]"
      ],
      "execution_count": 0,
      "outputs": [
        {
          "output_type": "execute_result",
          "data": {
            "text/plain": [
              "val_loss                    0.8826\n",
              "val_mean_squared_error      0.8826\n",
              "val_mean_absolute_error     0.7682\n",
              "loss                        0.8808\n",
              "mean_squared_error          0.8808\n",
              "mean_absolute_error         0.7652\n",
              "epoch                     398.0000\n",
              "Name: 398, dtype: float64"
            ]
          },
          "metadata": {
            "tags": []
          },
          "execution_count": 67
        }
      ]
    },
    {
      "cell_type": "code",
      "metadata": {
        "id": "PKpNMHqPckTY",
        "colab_type": "code",
        "outputId": "4e29c315-1ea6-40eb-9f1c-fc6f17d8c90c",
        "colab": {
          "base_uri": "https://localhost:8080/",
          "height": 286
        }
      },
      "source": [
        "tuned_nn_plot_MSE = hist_final.iloc[:, [4,1]].plot.line()\n",
        "tuned_nn_plot_MSE"
      ],
      "execution_count": 0,
      "outputs": [
        {
          "output_type": "execute_result",
          "data": {
            "text/plain": [
              "<matplotlib.axes._subplots.AxesSubplot at 0x7f30c0142f28>"
            ]
          },
          "metadata": {
            "tags": []
          },
          "execution_count": 62
        },
        {
          "output_type": "display_data",
          "data": {
            "image/png": "[encoded data removed]",
            "text/plain": [
              "<Figure size 432x288 with 1 Axes>"
            ]
          },
          "metadata": {
            "tags": []
          }
        }
      ]
    },
    {
      "cell_type": "code",
      "metadata": {
        "id": "yb_2Az1Ickd7",
        "colab_type": "code",
        "outputId": "5144252e-0411-4dea-f83f-9e6f5f0f7b68",
        "colab": {
          "base_uri": "https://localhost:8080/",
          "height": 286
        }
      },
      "source": [
        "tuned_nn_plot_MAE = hist_final.iloc[:, [5,2]].plot.line()\n",
        "tuned_nn_plot_MAE"
      ],
      "execution_count": 0,
      "outputs": [
        {
          "output_type": "execute_result",
          "data": {
            "text/plain": [
              "<matplotlib.axes._subplots.AxesSubplot at 0x7f30bfaa54a8>"
            ]
          },
          "metadata": {
            "tags": []
          },
          "execution_count": 75
        },
        {
          "output_type": "display_data",
          "data": {
            "image/png": "[encoded data removed]",
            "text/plain": [
              "<Figure size 432x288 with 1 Axes>"
            ]
          },
          "metadata": {
            "tags": []
          }
        }
      ]
    },
    {
      "cell_type": "markdown",
      "metadata": {
        "id": "qvJLNj8nc-XD",
        "colab_type": "text"
      },
      "source": [
        "## Evaluating Model on Test Data"
      ]
    },
    {
      "cell_type": "code",
      "metadata": {
        "id": "DjF5K-Bc18sE",
        "colab_type": "code",
        "outputId": "12ecca56-92b6-43f9-eb22-8ad494f44e51",
        "colab": {
          "base_uri": "https://localhost:8080/",
          "height": 706
        }
      },
      "source": [
        "test_history = nn_final.fit(x = Xtest_norm, verbose=0, y = Ytest_norm\n",
        "                      \n",
        "                      , validation_data = (Xval_norm, Yval_norm)\n",
        ")\n",
        "test_hist = pd.DataFrame(test_history.history)\n",
        "test_hist['epoch'] = test_history.epoch\n",
        "test_hist"
      ],
      "execution_count": 0,
      "outputs": [
        {
          "output_type": "execute_result",
          "data": {
            "text/html": [
              "<div>\n",
              "<style scoped>\n",
              "    .dataframe tbody tr th:only-of-type {\n",
              "        vertical-align: middle;\n",
              "    }\n",
              "\n",
              "    .dataframe tbody tr th {\n",
              "        vertical-align: top;\n",
              "    }\n",
              "\n",
              "    .dataframe thead th {\n",
              "        text-align: right;\n",
              "    }\n",
              "</style>\n",
              "<table border=\"1\" class=\"dataframe\">\n",
              "  <thead>\n",
              "    <tr style=\"text-align: right;\">\n",
              "      <th></th>\n",
              "      <th>val_loss</th>\n",
              "      <th>val_mean_squared_error</th>\n",
              "      <th>val_mean_absolute_error</th>\n",
              "      <th>loss</th>\n",
              "      <th>mean_squared_error</th>\n",
              "      <th>mean_absolute_error</th>\n",
              "      <th>epoch</th>\n",
              "    </tr>\n",
              "  </thead>\n",
              "  <tbody>\n",
              "    <tr>\n",
              "      <th>0</th>\n",
              "      <td>0.9974</td>\n",
              "      <td>0.9974</td>\n",
              "      <td>0.7895</td>\n",
              "      <td>0.9985</td>\n",
              "      <td>0.9985</td>\n",
              "      <td>0.8051</td>\n",
              "      <td>0</td>\n",
              "    </tr>\n",
              "    <tr>\n",
              "      <th>1</th>\n",
              "      <td>0.9970</td>\n",
              "      <td>0.9970</td>\n",
              "      <td>0.7897</td>\n",
              "      <td>0.9979</td>\n",
              "      <td>0.9979</td>\n",
              "      <td>0.8054</td>\n",
              "      <td>1</td>\n",
              "    </tr>\n",
              "    <tr>\n",
              "      <th>2</th>\n",
              "      <td>0.9968</td>\n",
              "      <td>0.9968</td>\n",
              "      <td>0.7898</td>\n",
              "      <td>0.9974</td>\n",
              "      <td>0.9974</td>\n",
              "      <td>0.8054</td>\n",
              "      <td>2</td>\n",
              "    </tr>\n",
              "    <tr>\n",
              "      <th>3</th>\n",
              "      <td>0.9966</td>\n",
              "      <td>0.9966</td>\n",
              "      <td>0.7901</td>\n",
              "      <td>0.9976</td>\n",
              "      <td>0.9976</td>\n",
              "      <td>0.8057</td>\n",
              "      <td>3</td>\n",
              "    </tr>\n",
              "    <tr>\n",
              "      <th>4</th>\n",
              "      <td>0.9964</td>\n",
              "      <td>0.9964</td>\n",
              "      <td>0.7900</td>\n",
              "      <td>0.9974</td>\n",
              "      <td>0.9974</td>\n",
              "      <td>0.8059</td>\n",
              "      <td>4</td>\n",
              "    </tr>\n",
              "    <tr>\n",
              "      <th>5</th>\n",
              "      <td>0.9963</td>\n",
              "      <td>0.9963</td>\n",
              "      <td>0.7902</td>\n",
              "      <td>0.9969</td>\n",
              "      <td>0.9969</td>\n",
              "      <td>0.8059</td>\n",
              "      <td>5</td>\n",
              "    </tr>\n",
              "    <tr>\n",
              "      <th>6</th>\n",
              "      <td>0.9961</td>\n",
              "      <td>0.9961</td>\n",
              "      <td>0.7902</td>\n",
              "      <td>0.9964</td>\n",
              "      <td>0.9964</td>\n",
              "      <td>0.8058</td>\n",
              "      <td>6</td>\n",
              "    </tr>\n",
              "    <tr>\n",
              "      <th>7</th>\n",
              "      <td>0.9959</td>\n",
              "      <td>0.9959</td>\n",
              "      <td>0.7899</td>\n",
              "      <td>0.9971</td>\n",
              "      <td>0.9971</td>\n",
              "      <td>0.8066</td>\n",
              "      <td>7</td>\n",
              "    </tr>\n",
              "    <tr>\n",
              "      <th>8</th>\n",
              "      <td>0.9957</td>\n",
              "      <td>0.9957</td>\n",
              "      <td>0.7900</td>\n",
              "      <td>0.9972</td>\n",
              "      <td>0.9972</td>\n",
              "      <td>0.8059</td>\n",
              "      <td>8</td>\n",
              "    </tr>\n",
              "    <tr>\n",
              "      <th>9</th>\n",
              "      <td>0.9955</td>\n",
              "      <td>0.9955</td>\n",
              "      <td>0.7900</td>\n",
              "      <td>0.9962</td>\n",
              "      <td>0.9962</td>\n",
              "      <td>0.8058</td>\n",
              "      <td>9</td>\n",
              "    </tr>\n",
              "    <tr>\n",
              "      <th>...</th>\n",
              "      <td>...</td>\n",
              "      <td>...</td>\n",
              "      <td>...</td>\n",
              "      <td>...</td>\n",
              "      <td>...</td>\n",
              "      <td>...</td>\n",
              "      <td>...</td>\n",
              "    </tr>\n",
              "    <tr>\n",
              "      <th>390</th>\n",
              "      <td>0.8939</td>\n",
              "      <td>0.8939</td>\n",
              "      <td>0.7683</td>\n",
              "      <td>0.9089</td>\n",
              "      <td>0.9089</td>\n",
              "      <td>0.7891</td>\n",
              "      <td>390</td>\n",
              "    </tr>\n",
              "    <tr>\n",
              "      <th>391</th>\n",
              "      <td>0.8940</td>\n",
              "      <td>0.8940</td>\n",
              "      <td>0.7683</td>\n",
              "      <td>0.9152</td>\n",
              "      <td>0.9152</td>\n",
              "      <td>0.7908</td>\n",
              "      <td>391</td>\n",
              "    </tr>\n",
              "    <tr>\n",
              "      <th>392</th>\n",
              "      <td>0.8939</td>\n",
              "      <td>0.8939</td>\n",
              "      <td>0.7682</td>\n",
              "      <td>0.9063</td>\n",
              "      <td>0.9063</td>\n",
              "      <td>0.7879</td>\n",
              "      <td>392</td>\n",
              "    </tr>\n",
              "    <tr>\n",
              "      <th>393</th>\n",
              "      <td>0.8938</td>\n",
              "      <td>0.8938</td>\n",
              "      <td>0.7683</td>\n",
              "      <td>0.9012</td>\n",
              "      <td>0.9012</td>\n",
              "      <td>0.7853</td>\n",
              "      <td>393</td>\n",
              "    </tr>\n",
              "    <tr>\n",
              "      <th>394</th>\n",
              "      <td>0.8938</td>\n",
              "      <td>0.8938</td>\n",
              "      <td>0.7683</td>\n",
              "      <td>0.9159</td>\n",
              "      <td>0.9159</td>\n",
              "      <td>0.7926</td>\n",
              "      <td>394</td>\n",
              "    </tr>\n",
              "    <tr>\n",
              "      <th>395</th>\n",
              "      <td>0.8939</td>\n",
              "      <td>0.8939</td>\n",
              "      <td>0.7682</td>\n",
              "      <td>0.9151</td>\n",
              "      <td>0.9151</td>\n",
              "      <td>0.7894</td>\n",
              "      <td>395</td>\n",
              "    </tr>\n",
              "    <tr>\n",
              "      <th>396</th>\n",
              "      <td>0.8938</td>\n",
              "      <td>0.8938</td>\n",
              "      <td>0.7683</td>\n",
              "      <td>0.9114</td>\n",
              "      <td>0.9114</td>\n",
              "      <td>0.7896</td>\n",
              "      <td>396</td>\n",
              "    </tr>\n",
              "    <tr>\n",
              "      <th>397</th>\n",
              "      <td>0.8937</td>\n",
              "      <td>0.8937</td>\n",
              "      <td>0.7683</td>\n",
              "      <td>0.9063</td>\n",
              "      <td>0.9063</td>\n",
              "      <td>0.7863</td>\n",
              "      <td>397</td>\n",
              "    </tr>\n",
              "    <tr>\n",
              "      <th>398</th>\n",
              "      <td>0.8936</td>\n",
              "      <td>0.8936</td>\n",
              "      <td>0.7683</td>\n",
              "      <td>0.9017</td>\n",
              "      <td>0.9017</td>\n",
              "      <td>0.7860</td>\n",
              "      <td>398</td>\n",
              "    </tr>\n",
              "    <tr>\n",
              "      <th>399</th>\n",
              "      <td>0.8937</td>\n",
              "      <td>0.8937</td>\n",
              "      <td>0.7683</td>\n",
              "      <td>0.9200</td>\n",
              "      <td>0.9200</td>\n",
              "      <td>0.7911</td>\n",
              "      <td>399</td>\n",
              "    </tr>\n",
              "  </tbody>\n",
              "</table>\n",
              "<p>400 rows × 7 columns</p>\n",
              "</div>"
            ],
            "text/plain": [
              "     val_loss  val_mean_squared_error  ...  mean_absolute_error  epoch\n",
              "0      0.9974                  0.9974  ...               0.8051      0\n",
              "1      0.9970                  0.9970  ...               0.8054      1\n",
              "2      0.9968                  0.9968  ...               0.8054      2\n",
              "3      0.9966                  0.9966  ...               0.8057      3\n",
              "4      0.9964                  0.9964  ...               0.8059      4\n",
              "5      0.9963                  0.9963  ...               0.8059      5\n",
              "6      0.9961                  0.9961  ...               0.8058      6\n",
              "7      0.9959                  0.9959  ...               0.8066      7\n",
              "8      0.9957                  0.9957  ...               0.8059      8\n",
              "9      0.9955                  0.9955  ...               0.8058      9\n",
              "..        ...                     ...  ...                  ...    ...\n",
              "390    0.8939                  0.8939  ...               0.7891    390\n",
              "391    0.8940                  0.8940  ...               0.7908    391\n",
              "392    0.8939                  0.8939  ...               0.7879    392\n",
              "393    0.8938                  0.8938  ...               0.7853    393\n",
              "394    0.8938                  0.8938  ...               0.7926    394\n",
              "395    0.8939                  0.8939  ...               0.7894    395\n",
              "396    0.8938                  0.8938  ...               0.7896    396\n",
              "397    0.8937                  0.8937  ...               0.7863    397\n",
              "398    0.8936                  0.8936  ...               0.7860    398\n",
              "399    0.8937                  0.8937  ...               0.7911    399\n",
              "\n",
              "[400 rows x 7 columns]"
            ]
          },
          "metadata": {
            "tags": []
          },
          "execution_count": 76
        }
      ]
    },
    {
      "cell_type": "code",
      "metadata": {
        "id": "eYqdtFsSo3zk",
        "colab_type": "code",
        "outputId": "77a016bb-96db-42cb-e1d5-592e75c56a6e",
        "colab": {
          "base_uri": "https://localhost:8080/",
          "height": 158
        }
      },
      "source": [
        "test_hist.loc[test_hist['val_mean_squared_error'].idxmin()]"
      ],
      "execution_count": 0,
      "outputs": [
        {
          "output_type": "execute_result",
          "data": {
            "text/plain": [
              "val_loss                    0.8936\n",
              "val_mean_squared_error      0.8936\n",
              "val_mean_absolute_error     0.7683\n",
              "loss                        0.9017\n",
              "mean_squared_error          0.9017\n",
              "mean_absolute_error         0.7860\n",
              "epoch                     398.0000\n",
              "Name: 398, dtype: float64"
            ]
          },
          "metadata": {
            "tags": []
          },
          "execution_count": 77
        }
      ]
    },
    {
      "cell_type": "code",
      "metadata": {
        "id": "F4DzkDhi18pN",
        "colab_type": "code",
        "outputId": "9185ffab-cd81-488f-a2ba-e33224f61b08",
        "colab": {
          "base_uri": "https://localhost:8080/",
          "height": 286
        }
      },
      "source": [
        "tuned_nn_plot_MSE_test = test_hist.iloc[:, [4,1]].plot.line()\n",
        "tuned_nn_plot_MSE_test"
      ],
      "execution_count": 0,
      "outputs": [
        {
          "output_type": "execute_result",
          "data": {
            "text/plain": [
              "<matplotlib.axes._subplots.AxesSubplot at 0x7f30bf88d160>"
            ]
          },
          "metadata": {
            "tags": []
          },
          "execution_count": 78
        },
        {
          "output_type": "display_data",
          "data": {
            "image/png": "[encoded data removed]",
            "text/plain": [
              "<Figure size 432x288 with 1 Axes>"
            ]
          },
          "metadata": {
            "tags": []
          }
        }
      ]
    },
    {
      "cell_type": "code",
      "metadata": {
        "id": "RdEBgpGk18jx",
        "colab_type": "code",
        "outputId": "d2c1d1f6-44fd-47f6-ea68-f211907eb791",
        "colab": {
          "base_uri": "https://localhost:8080/",
          "height": 286
        }
      },
      "source": [
        "tuned_nn_plot_MAE_test = test_hist.iloc[:, [5,2]].plot.line()\n",
        "tuned_nn_plot_MAE_test"
      ],
      "execution_count": 0,
      "outputs": [
        {
          "output_type": "execute_result",
          "data": {
            "text/plain": [
              "<matplotlib.axes._subplots.AxesSubplot at 0x7f65836f0ef0>"
            ]
          },
          "metadata": {
            "tags": []
          },
          "execution_count": 24
        },
        {
          "output_type": "display_data",
          "data": {
            "image/png": "[encoded data removed]",
            "text/plain": [
              "<Figure size 432x288 with 1 Axes>"
            ]
          },
          "metadata": {
            "tags": []
          }
        }
      ]
    },
    {
      "cell_type": "markdown",
      "metadata": {
        "id": "FoGMV50DefVC",
        "colab_type": "text"
      },
      "source": [
        "# Testing Randomization"
      ]
    },
    {
      "cell_type": "markdown",
      "metadata": {
        "colab_type": "text",
        "id": "l-H4TLNher0i"
      },
      "source": [
        "## Data Segmentation"
      ]
    },
    {
      "cell_type": "code",
      "metadata": {
        "colab_type": "code",
        "id": "huVctpYmer0k",
        "colab": {}
      },
      "source": [
        "# Training - Test (70-15-15%)\n",
        "train, val_and_test = sklearn.model_selection.train_test_split(df, test_size=0.3, random_state=765, shuffle=True)\n",
        "\n",
        "# Need to split val and test (30%) up\n",
        "val, test = sklearn.model_selection.train_test_split(val_and_test, test_size=0.5, random_state=765, shuffle=True)"
      ],
      "execution_count": 0,
      "outputs": []
    },
    {
      "cell_type": "code",
      "metadata": {
        "colab_type": "code",
        "outputId": "78f33904-a326-486c-ad33-f576c7c25455",
        "id": "qhxzevTCer0n",
        "colab": {
          "base_uri": "https://localhost:8080/",
          "height": 726
        }
      },
      "source": [
        "# Neural Network DATA \n",
        "Xtrain = train.iloc[:,7:43].astype(np.float32)\n",
        "Xval = val.iloc[:,7:43].astype(np.float32)\n",
        "Xtest = test.iloc[:,7:43].astype(np.float32)\n",
        "Ytrain = train.iloc[:,-1].astype(np.float32).values.reshape(-1,1)\n",
        "Yval = val.iloc[:,-1].astype(np.float32).values.reshape(-1,1)\n",
        "Ytest = test.iloc[:,-1].astype(np.float32).values.reshape(-1,1)\n",
        "Xtrain"
      ],
      "execution_count": 34,
      "outputs": [
        {
          "output_type": "execute_result",
          "data": {
            "text/html": [
              "<div>\n",
              "<style scoped>\n",
              "    .dataframe tbody tr th:only-of-type {\n",
              "        vertical-align: middle;\n",
              "    }\n",
              "\n",
              "    .dataframe tbody tr th {\n",
              "        vertical-align: top;\n",
              "    }\n",
              "\n",
              "    .dataframe thead th {\n",
              "        text-align: right;\n",
              "    }\n",
              "</style>\n",
              "<table border=\"1\" class=\"dataframe\">\n",
              "  <thead>\n",
              "    <tr style=\"text-align: right;\">\n",
              "      <th></th>\n",
              "      <th>Height_Inches</th>\n",
              "      <th>Wt</th>\n",
              "      <th>40YD</th>\n",
              "      <th>Vertical</th>\n",
              "      <th>Years_in_League</th>\n",
              "      <th>OPP_DEF__Fantasy_Points_Allowed__3_Games</th>\n",
              "      <th>OPP_DEF__Fantasy_Points_Allowed__Last_Game</th>\n",
              "      <th>OWN_DEF__Fantasy_Points_Allowed__3_Games</th>\n",
              "      <th>OWN_DEF__Fantasy_Points_Allowed__Last_Game</th>\n",
              "      <th>Total_Yards__3_Games</th>\n",
              "      <th>Total_Receptions__3_Games</th>\n",
              "      <th>Total_Touchdowns__3_Games</th>\n",
              "      <th>Targets__3_Games</th>\n",
              "      <th>Avg_Depth_of_Target__3_Games</th>\n",
              "      <th>Avg_Score_Differential__3_Games</th>\n",
              "      <th>3rd_Down_Targets__3_Games</th>\n",
              "      <th>4th_Down_Targets__3_Games</th>\n",
              "      <th>Short_Targets__3_Games</th>\n",
              "      <th>Deep_Targets__3_Games</th>\n",
              "      <th>YBC__3_Games</th>\n",
              "      <th>YAC__3_Games</th>\n",
              "      <th>Fantasy_Points_Scored__3_Games</th>\n",
              "      <th>Total_Yards__Last_Games</th>\n",
              "      <th>Total_Receptions__Last_Game</th>\n",
              "      <th>Total_Touchdowns__Last_Game</th>\n",
              "      <th>Targets__Last_Game</th>\n",
              "      <th>Avg_Depth_of_Target__Last_Game</th>\n",
              "      <th>Avg_Score_Differential__Last_Game</th>\n",
              "      <th>3rd_Down_Targets__Last_Game</th>\n",
              "      <th>4th_Down_Targets__Last_Game</th>\n",
              "      <th>Short_Targets__Last_Game</th>\n",
              "      <th>Deep_Targets__Last_Game</th>\n",
              "      <th>YBC__Last_Game</th>\n",
              "      <th>YAC__Last_Game</th>\n",
              "      <th>Fantasy_Points_Scored__Last_Game</th>\n",
              "      <th>home_game_flag</th>\n",
              "    </tr>\n",
              "  </thead>\n",
              "  <tbody>\n",
              "    <tr>\n",
              "      <th>3266</th>\n",
              "      <td>72.0000</td>\n",
              "      <td>204.0000</td>\n",
              "      <td>4.5300</td>\n",
              "      <td>33.0000</td>\n",
              "      <td>1.0000</td>\n",
              "      <td>48.0333</td>\n",
              "      <td>36.1000</td>\n",
              "      <td>40.1667</td>\n",
              "      <td>28.8000</td>\n",
              "      <td>11.3333</td>\n",
              "      <td>1.0000</td>\n",
              "      <td>0.0000</td>\n",
              "      <td>1.6667</td>\n",
              "      <td>6.0000</td>\n",
              "      <td>-3.5556</td>\n",
              "      <td>1.0000</td>\n",
              "      <td>0.0000</td>\n",
              "      <td>1.3333</td>\n",
              "      <td>0.3333</td>\n",
              "      <td>8.6667</td>\n",
              "      <td>2.6667</td>\n",
              "      <td>0.3333</td>\n",
              "      <td>0.0000</td>\n",
              "      <td>0.0000</td>\n",
              "      <td>0.0000</td>\n",
              "      <td>1.0000</td>\n",
              "      <td>8.0000</td>\n",
              "      <td>-11.0000</td>\n",
              "      <td>0.0000</td>\n",
              "      <td>0.0000</td>\n",
              "      <td>1.0000</td>\n",
              "      <td>0.0000</td>\n",
              "      <td>0.0000</td>\n",
              "      <td>0.0000</td>\n",
              "      <td>0.0000</td>\n",
              "      <td>1.0000</td>\n",
              "    </tr>\n",
              "    <tr>\n",
              "      <th>4068</th>\n",
              "      <td>70.0000</td>\n",
              "      <td>179.0000</td>\n",
              "      <td>4.3400</td>\n",
              "      <td>36.5000</td>\n",
              "      <td>3.0000</td>\n",
              "      <td>45.1667</td>\n",
              "      <td>42.5000</td>\n",
              "      <td>56.2667</td>\n",
              "      <td>68.6000</td>\n",
              "      <td>45.3333</td>\n",
              "      <td>2.6667</td>\n",
              "      <td>0.6667</td>\n",
              "      <td>6.0000</td>\n",
              "      <td>14.8333</td>\n",
              "      <td>-3.4524</td>\n",
              "      <td>1.6667</td>\n",
              "      <td>0.3333</td>\n",
              "      <td>4.0000</td>\n",
              "      <td>2.0000</td>\n",
              "      <td>34.6667</td>\n",
              "      <td>10.6667</td>\n",
              "      <td>8.7333</td>\n",
              "      <td>63.0000</td>\n",
              "      <td>3.0000</td>\n",
              "      <td>1.0000</td>\n",
              "      <td>4.0000</td>\n",
              "      <td>10.5000</td>\n",
              "      <td>14.5000</td>\n",
              "      <td>1.0000</td>\n",
              "      <td>1.0000</td>\n",
              "      <td>4.0000</td>\n",
              "      <td>0.0000</td>\n",
              "      <td>38.0000</td>\n",
              "      <td>25.0000</td>\n",
              "      <td>13.8000</td>\n",
              "      <td>0.0000</td>\n",
              "    </tr>\n",
              "    <tr>\n",
              "      <th>3245</th>\n",
              "      <td>72.0000</td>\n",
              "      <td>201.0000</td>\n",
              "      <td>4.5100</td>\n",
              "      <td>33.5000</td>\n",
              "      <td>4.0000</td>\n",
              "      <td>62.0000</td>\n",
              "      <td>64.1000</td>\n",
              "      <td>35.7333</td>\n",
              "      <td>26.8000</td>\n",
              "      <td>65.0000</td>\n",
              "      <td>5.0000</td>\n",
              "      <td>0.0000</td>\n",
              "      <td>7.3333</td>\n",
              "      <td>9.6131</td>\n",
              "      <td>3.9940</td>\n",
              "      <td>2.6667</td>\n",
              "      <td>0.0000</td>\n",
              "      <td>6.0000</td>\n",
              "      <td>1.3333</td>\n",
              "      <td>45.3333</td>\n",
              "      <td>19.6667</td>\n",
              "      <td>8.8667</td>\n",
              "      <td>59.0000</td>\n",
              "      <td>5.0000</td>\n",
              "      <td>0.0000</td>\n",
              "      <td>7.0000</td>\n",
              "      <td>5.4286</td>\n",
              "      <td>9.7143</td>\n",
              "      <td>3.0000</td>\n",
              "      <td>0.0000</td>\n",
              "      <td>7.0000</td>\n",
              "      <td>0.0000</td>\n",
              "      <td>27.0000</td>\n",
              "      <td>32.0000</td>\n",
              "      <td>8.4000</td>\n",
              "      <td>0.0000</td>\n",
              "    </tr>\n",
              "    <tr>\n",
              "      <th>3568</th>\n",
              "      <td>73.0000</td>\n",
              "      <td>214.0000</td>\n",
              "      <td>4.5700</td>\n",
              "      <td>36.0000</td>\n",
              "      <td>0.0000</td>\n",
              "      <td>54.5000</td>\n",
              "      <td>36.2000</td>\n",
              "      <td>42.3667</td>\n",
              "      <td>35.0000</td>\n",
              "      <td>28.0000</td>\n",
              "      <td>2.6667</td>\n",
              "      <td>0.0000</td>\n",
              "      <td>5.6667</td>\n",
              "      <td>9.7652</td>\n",
              "      <td>-6.6061</td>\n",
              "      <td>1.6667</td>\n",
              "      <td>0.3333</td>\n",
              "      <td>4.3333</td>\n",
              "      <td>1.3333</td>\n",
              "      <td>22.6667</td>\n",
              "      <td>5.3333</td>\n",
              "      <td>7.0333</td>\n",
              "      <td>8.0000</td>\n",
              "      <td>1.0000</td>\n",
              "      <td>0.0000</td>\n",
              "      <td>4.0000</td>\n",
              "      <td>11.7500</td>\n",
              "      <td>-7.0000</td>\n",
              "      <td>2.0000</td>\n",
              "      <td>0.0000</td>\n",
              "      <td>3.0000</td>\n",
              "      <td>1.0000</td>\n",
              "      <td>5.0000</td>\n",
              "      <td>3.0000</td>\n",
              "      <td>1.3000</td>\n",
              "      <td>1.0000</td>\n",
              "    </tr>\n",
              "    <tr>\n",
              "      <th>4259</th>\n",
              "      <td>70.0000</td>\n",
              "      <td>189.0000</td>\n",
              "      <td>4.3300</td>\n",
              "      <td>36.0000</td>\n",
              "      <td>1.0000</td>\n",
              "      <td>36.8000</td>\n",
              "      <td>19.4000</td>\n",
              "      <td>50.9333</td>\n",
              "      <td>33.1000</td>\n",
              "      <td>56.0000</td>\n",
              "      <td>5.0000</td>\n",
              "      <td>0.3333</td>\n",
              "      <td>7.6667</td>\n",
              "      <td>10.7917</td>\n",
              "      <td>-3.4083</td>\n",
              "      <td>1.3333</td>\n",
              "      <td>0.3333</td>\n",
              "      <td>6.0000</td>\n",
              "      <td>1.6667</td>\n",
              "      <td>47.3333</td>\n",
              "      <td>14.0000</td>\n",
              "      <td>5.8000</td>\n",
              "      <td>29.0000</td>\n",
              "      <td>3.0000</td>\n",
              "      <td>0.0000</td>\n",
              "      <td>5.0000</td>\n",
              "      <td>9.2000</td>\n",
              "      <td>4.2000</td>\n",
              "      <td>1.0000</td>\n",
              "      <td>0.0000</td>\n",
              "      <td>5.0000</td>\n",
              "      <td>0.0000</td>\n",
              "      <td>29.0000</td>\n",
              "      <td>0.0000</td>\n",
              "      <td>4.4000</td>\n",
              "      <td>1.0000</td>\n",
              "    </tr>\n",
              "    <tr>\n",
              "      <th>1520</th>\n",
              "      <td>70.0000</td>\n",
              "      <td>199.0000</td>\n",
              "      <td>4.4200</td>\n",
              "      <td>35.0000</td>\n",
              "      <td>3.0000</td>\n",
              "      <td>52.6667</td>\n",
              "      <td>44.5000</td>\n",
              "      <td>32.3333</td>\n",
              "      <td>23.9000</td>\n",
              "      <td>67.6667</td>\n",
              "      <td>4.6667</td>\n",
              "      <td>0.6667</td>\n",
              "      <td>7.0000</td>\n",
              "      <td>7.8095</td>\n",
              "      <td>2.2857</td>\n",
              "      <td>2.0000</td>\n",
              "      <td>0.0000</td>\n",
              "      <td>6.3333</td>\n",
              "      <td>0.6667</td>\n",
              "      <td>37.0000</td>\n",
              "      <td>30.6667</td>\n",
              "      <td>11.8000</td>\n",
              "      <td>93.0000</td>\n",
              "      <td>5.0000</td>\n",
              "      <td>2.0000</td>\n",
              "      <td>7.0000</td>\n",
              "      <td>9.5714</td>\n",
              "      <td>-0.2857</td>\n",
              "      <td>3.0000</td>\n",
              "      <td>0.0000</td>\n",
              "      <td>6.0000</td>\n",
              "      <td>1.0000</td>\n",
              "      <td>51.0000</td>\n",
              "      <td>42.0000</td>\n",
              "      <td>23.8000</td>\n",
              "      <td>1.0000</td>\n",
              "    </tr>\n",
              "    <tr>\n",
              "      <th>217</th>\n",
              "      <td>74.0000</td>\n",
              "      <td>215.0000</td>\n",
              "      <td>4.4700</td>\n",
              "      <td>40.5000</td>\n",
              "      <td>9.0000</td>\n",
              "      <td>36.4667</td>\n",
              "      <td>37.0000</td>\n",
              "      <td>44.7667</td>\n",
              "      <td>34.0000</td>\n",
              "      <td>37.3333</td>\n",
              "      <td>2.6667</td>\n",
              "      <td>0.0000</td>\n",
              "      <td>3.3333</td>\n",
              "      <td>12.1111</td>\n",
              "      <td>-0.0000</td>\n",
              "      <td>1.3333</td>\n",
              "      <td>0.3333</td>\n",
              "      <td>2.6667</td>\n",
              "      <td>0.6667</td>\n",
              "      <td>27.0000</td>\n",
              "      <td>15.0000</td>\n",
              "      <td>2.7333</td>\n",
              "      <td>52.0000</td>\n",
              "      <td>4.0000</td>\n",
              "      <td>0.0000</td>\n",
              "      <td>6.0000</td>\n",
              "      <td>8.3333</td>\n",
              "      <td>-6.6667</td>\n",
              "      <td>3.0000</td>\n",
              "      <td>1.0000</td>\n",
              "      <td>6.0000</td>\n",
              "      <td>0.0000</td>\n",
              "      <td>25.0000</td>\n",
              "      <td>27.0000</td>\n",
              "      <td>7.2000</td>\n",
              "      <td>0.0000</td>\n",
              "    </tr>\n",
              "    <tr>\n",
              "      <th>1685</th>\n",
              "      <td>75.0000</td>\n",
              "      <td>220.0000</td>\n",
              "      <td>4.3400</td>\n",
              "      <td>38.5000</td>\n",
              "      <td>3.0000</td>\n",
              "      <td>36.0667</td>\n",
              "      <td>43.6000</td>\n",
              "      <td>56.0333</td>\n",
              "      <td>54.0000</td>\n",
              "      <td>78.6667</td>\n",
              "      <td>6.0000</td>\n",
              "      <td>0.0000</td>\n",
              "      <td>9.3333</td>\n",
              "      <td>7.5455</td>\n",
              "      <td>2.7424</td>\n",
              "      <td>2.3333</td>\n",
              "      <td>0.0000</td>\n",
              "      <td>7.6667</td>\n",
              "      <td>1.6667</td>\n",
              "      <td>36.3333</td>\n",
              "      <td>42.3333</td>\n",
              "      <td>8.1667</td>\n",
              "      <td>59.0000</td>\n",
              "      <td>6.0000</td>\n",
              "      <td>0.0000</td>\n",
              "      <td>11.0000</td>\n",
              "      <td>5.8182</td>\n",
              "      <td>0.5455</td>\n",
              "      <td>1.0000</td>\n",
              "      <td>0.0000</td>\n",
              "      <td>10.0000</td>\n",
              "      <td>1.0000</td>\n",
              "      <td>37.0000</td>\n",
              "      <td>22.0000</td>\n",
              "      <td>8.9000</td>\n",
              "      <td>1.0000</td>\n",
              "    </tr>\n",
              "    <tr>\n",
              "      <th>5875</th>\n",
              "      <td>73.0000</td>\n",
              "      <td>196.0000</td>\n",
              "      <td>4.6400</td>\n",
              "      <td>32.0000</td>\n",
              "      <td>0.0000</td>\n",
              "      <td>38.9333</td>\n",
              "      <td>24.4000</td>\n",
              "      <td>62.6667</td>\n",
              "      <td>72.8000</td>\n",
              "      <td>0.0000</td>\n",
              "      <td>0.3333</td>\n",
              "      <td>0.0000</td>\n",
              "      <td>1.0000</td>\n",
              "      <td>11.6667</td>\n",
              "      <td>-3.3333</td>\n",
              "      <td>0.0000</td>\n",
              "      <td>0.0000</td>\n",
              "      <td>0.6667</td>\n",
              "      <td>0.3333</td>\n",
              "      <td>10.3333</td>\n",
              "      <td>0.0000</td>\n",
              "      <td>0.3333</td>\n",
              "      <td>0.0000</td>\n",
              "      <td>0.0000</td>\n",
              "      <td>0.0000</td>\n",
              "      <td>1.0000</td>\n",
              "      <td>0.0000</td>\n",
              "      <td>-16.0000</td>\n",
              "      <td>0.0000</td>\n",
              "      <td>0.0000</td>\n",
              "      <td>1.0000</td>\n",
              "      <td>0.0000</td>\n",
              "      <td>0.0000</td>\n",
              "      <td>0.0000</td>\n",
              "      <td>0.0000</td>\n",
              "      <td>0.0000</td>\n",
              "    </tr>\n",
              "    <tr>\n",
              "      <th>6361</th>\n",
              "      <td>71.0000</td>\n",
              "      <td>200.0000</td>\n",
              "      <td>4.4100</td>\n",
              "      <td>34.0000</td>\n",
              "      <td>0.0000</td>\n",
              "      <td>72.5333</td>\n",
              "      <td>68.7000</td>\n",
              "      <td>57.1667</td>\n",
              "      <td>38.8000</td>\n",
              "      <td>29.0000</td>\n",
              "      <td>4.0000</td>\n",
              "      <td>0.3333</td>\n",
              "      <td>7.6667</td>\n",
              "      <td>13.3492</td>\n",
              "      <td>-5.2250</td>\n",
              "      <td>2.0000</td>\n",
              "      <td>0.0000</td>\n",
              "      <td>4.3333</td>\n",
              "      <td>2.6667</td>\n",
              "      <td>22.3333</td>\n",
              "      <td>21.3333</td>\n",
              "      <td>10.4667</td>\n",
              "      <td>11.0000</td>\n",
              "      <td>3.0000</td>\n",
              "      <td>0.0000</td>\n",
              "      <td>8.0000</td>\n",
              "      <td>13.7143</td>\n",
              "      <td>-15.8750</td>\n",
              "      <td>3.0000</td>\n",
              "      <td>0.0000</td>\n",
              "      <td>4.0000</td>\n",
              "      <td>3.0000</td>\n",
              "      <td>5.0000</td>\n",
              "      <td>4.0000</td>\n",
              "      <td>2.6000</td>\n",
              "      <td>0.0000</td>\n",
              "    </tr>\n",
              "    <tr>\n",
              "      <th>...</th>\n",
              "      <td>...</td>\n",
              "      <td>...</td>\n",
              "      <td>...</td>\n",
              "      <td>...</td>\n",
              "      <td>...</td>\n",
              "      <td>...</td>\n",
              "      <td>...</td>\n",
              "      <td>...</td>\n",
              "      <td>...</td>\n",
              "      <td>...</td>\n",
              "      <td>...</td>\n",
              "      <td>...</td>\n",
              "      <td>...</td>\n",
              "      <td>...</td>\n",
              "      <td>...</td>\n",
              "      <td>...</td>\n",
              "      <td>...</td>\n",
              "      <td>...</td>\n",
              "      <td>...</td>\n",
              "      <td>...</td>\n",
              "      <td>...</td>\n",
              "      <td>...</td>\n",
              "      <td>...</td>\n",
              "      <td>...</td>\n",
              "      <td>...</td>\n",
              "      <td>...</td>\n",
              "      <td>...</td>\n",
              "      <td>...</td>\n",
              "      <td>...</td>\n",
              "      <td>...</td>\n",
              "      <td>...</td>\n",
              "      <td>...</td>\n",
              "      <td>...</td>\n",
              "      <td>...</td>\n",
              "      <td>...</td>\n",
              "      <td>...</td>\n",
              "    </tr>\n",
              "    <tr>\n",
              "      <th>6023</th>\n",
              "      <td>72.0000</td>\n",
              "      <td>186.0000</td>\n",
              "      <td>4.3200</td>\n",
              "      <td>33.5000</td>\n",
              "      <td>2.0000</td>\n",
              "      <td>44.6333</td>\n",
              "      <td>45.7000</td>\n",
              "      <td>42.7333</td>\n",
              "      <td>59.2000</td>\n",
              "      <td>23.6667</td>\n",
              "      <td>3.0000</td>\n",
              "      <td>0.0000</td>\n",
              "      <td>4.0000</td>\n",
              "      <td>5.2667</td>\n",
              "      <td>-14.4000</td>\n",
              "      <td>1.3333</td>\n",
              "      <td>0.3333</td>\n",
              "      <td>4.0000</td>\n",
              "      <td>0.0000</td>\n",
              "      <td>16.6667</td>\n",
              "      <td>7.3333</td>\n",
              "      <td>5.5000</td>\n",
              "      <td>17.0000</td>\n",
              "      <td>2.0000</td>\n",
              "      <td>0.0000</td>\n",
              "      <td>2.0000</td>\n",
              "      <td>7.0000</td>\n",
              "      <td>0.0000</td>\n",
              "      <td>1.0000</td>\n",
              "      <td>0.0000</td>\n",
              "      <td>2.0000</td>\n",
              "      <td>0.0000</td>\n",
              "      <td>14.0000</td>\n",
              "      <td>3.0000</td>\n",
              "      <td>2.7000</td>\n",
              "      <td>0.0000</td>\n",
              "    </tr>\n",
              "    <tr>\n",
              "      <th>1424</th>\n",
              "      <td>75.0000</td>\n",
              "      <td>222.0000</td>\n",
              "      <td>4.5300</td>\n",
              "      <td>33.0000</td>\n",
              "      <td>5.0000</td>\n",
              "      <td>50.3667</td>\n",
              "      <td>50.1000</td>\n",
              "      <td>55.7667</td>\n",
              "      <td>57.2000</td>\n",
              "      <td>34.6667</td>\n",
              "      <td>2.0000</td>\n",
              "      <td>0.3333</td>\n",
              "      <td>4.3333</td>\n",
              "      <td>13.9861</td>\n",
              "      <td>-6.7639</td>\n",
              "      <td>1.3333</td>\n",
              "      <td>0.6667</td>\n",
              "      <td>2.6667</td>\n",
              "      <td>1.6667</td>\n",
              "      <td>30.0000</td>\n",
              "      <td>8.6667</td>\n",
              "      <td>1.7333</td>\n",
              "      <td>32.0000</td>\n",
              "      <td>4.0000</td>\n",
              "      <td>0.0000</td>\n",
              "      <td>8.0000</td>\n",
              "      <td>14.1250</td>\n",
              "      <td>2.3750</td>\n",
              "      <td>1.0000</td>\n",
              "      <td>2.0000</td>\n",
              "      <td>5.0000</td>\n",
              "      <td>3.0000</td>\n",
              "      <td>38.0000</td>\n",
              "      <td>6.0000</td>\n",
              "      <td>5.2000</td>\n",
              "      <td>1.0000</td>\n",
              "    </tr>\n",
              "    <tr>\n",
              "      <th>961</th>\n",
              "      <td>72.0000</td>\n",
              "      <td>199.0000</td>\n",
              "      <td>4.3300</td>\n",
              "      <td>40.0000</td>\n",
              "      <td>8.0000</td>\n",
              "      <td>32.8333</td>\n",
              "      <td>34.5000</td>\n",
              "      <td>33.5333</td>\n",
              "      <td>29.6000</td>\n",
              "      <td>72.6667</td>\n",
              "      <td>4.0000</td>\n",
              "      <td>0.3333</td>\n",
              "      <td>6.0000</td>\n",
              "      <td>18.1778</td>\n",
              "      <td>-3.8556</td>\n",
              "      <td>0.6667</td>\n",
              "      <td>0.0000</td>\n",
              "      <td>4.3333</td>\n",
              "      <td>1.6667</td>\n",
              "      <td>61.0000</td>\n",
              "      <td>11.6667</td>\n",
              "      <td>11.1667</td>\n",
              "      <td>30.0000</td>\n",
              "      <td>3.0000</td>\n",
              "      <td>0.0000</td>\n",
              "      <td>5.0000</td>\n",
              "      <td>5.8000</td>\n",
              "      <td>-5.6000</td>\n",
              "      <td>0.0000</td>\n",
              "      <td>0.0000</td>\n",
              "      <td>5.0000</td>\n",
              "      <td>0.0000</td>\n",
              "      <td>15.0000</td>\n",
              "      <td>15.0000</td>\n",
              "      <td>4.5000</td>\n",
              "      <td>0.0000</td>\n",
              "    </tr>\n",
              "    <tr>\n",
              "      <th>914</th>\n",
              "      <td>72.0000</td>\n",
              "      <td>199.0000</td>\n",
              "      <td>4.3300</td>\n",
              "      <td>40.0000</td>\n",
              "      <td>5.0000</td>\n",
              "      <td>36.2667</td>\n",
              "      <td>29.7000</td>\n",
              "      <td>48.8000</td>\n",
              "      <td>35.7000</td>\n",
              "      <td>49.3333</td>\n",
              "      <td>4.3333</td>\n",
              "      <td>1.0000</td>\n",
              "      <td>7.0000</td>\n",
              "      <td>8.2870</td>\n",
              "      <td>3.7037</td>\n",
              "      <td>0.3333</td>\n",
              "      <td>0.0000</td>\n",
              "      <td>5.3333</td>\n",
              "      <td>1.6667</td>\n",
              "      <td>31.0000</td>\n",
              "      <td>18.3333</td>\n",
              "      <td>11.7000</td>\n",
              "      <td>46.0000</td>\n",
              "      <td>5.0000</td>\n",
              "      <td>1.0000</td>\n",
              "      <td>8.0000</td>\n",
              "      <td>9.2500</td>\n",
              "      <td>11.2500</td>\n",
              "      <td>0.0000</td>\n",
              "      <td>0.0000</td>\n",
              "      <td>7.0000</td>\n",
              "      <td>1.0000</td>\n",
              "      <td>41.0000</td>\n",
              "      <td>5.0000</td>\n",
              "      <td>13.1000</td>\n",
              "      <td>0.0000</td>\n",
              "    </tr>\n",
              "    <tr>\n",
              "      <th>5798</th>\n",
              "      <td>74.0000</td>\n",
              "      <td>194.0000</td>\n",
              "      <td>4.5500</td>\n",
              "      <td>33.5000</td>\n",
              "      <td>2.0000</td>\n",
              "      <td>42.1667</td>\n",
              "      <td>49.9000</td>\n",
              "      <td>35.8000</td>\n",
              "      <td>33.6000</td>\n",
              "      <td>19.0000</td>\n",
              "      <td>1.6667</td>\n",
              "      <td>0.0000</td>\n",
              "      <td>3.6667</td>\n",
              "      <td>6.6944</td>\n",
              "      <td>1.8333</td>\n",
              "      <td>1.0000</td>\n",
              "      <td>0.0000</td>\n",
              "      <td>2.6667</td>\n",
              "      <td>1.0000</td>\n",
              "      <td>16.0000</td>\n",
              "      <td>8.3333</td>\n",
              "      <td>4.7667</td>\n",
              "      <td>6.0000</td>\n",
              "      <td>1.0000</td>\n",
              "      <td>0.0000</td>\n",
              "      <td>1.0000</td>\n",
              "      <td>-4.0000</td>\n",
              "      <td>0.0000</td>\n",
              "      <td>0.0000</td>\n",
              "      <td>0.0000</td>\n",
              "      <td>1.0000</td>\n",
              "      <td>0.0000</td>\n",
              "      <td>-4.0000</td>\n",
              "      <td>10.0000</td>\n",
              "      <td>1.1000</td>\n",
              "      <td>1.0000</td>\n",
              "    </tr>\n",
              "    <tr>\n",
              "      <th>3584</th>\n",
              "      <td>73.0000</td>\n",
              "      <td>214.0000</td>\n",
              "      <td>4.5700</td>\n",
              "      <td>36.0000</td>\n",
              "      <td>1.0000</td>\n",
              "      <td>40.3000</td>\n",
              "      <td>52.8000</td>\n",
              "      <td>55.4333</td>\n",
              "      <td>47.8000</td>\n",
              "      <td>78.0000</td>\n",
              "      <td>5.6667</td>\n",
              "      <td>0.3333</td>\n",
              "      <td>9.3333</td>\n",
              "      <td>12.8674</td>\n",
              "      <td>-3.3481</td>\n",
              "      <td>3.0000</td>\n",
              "      <td>0.3333</td>\n",
              "      <td>6.3333</td>\n",
              "      <td>3.0000</td>\n",
              "      <td>56.0000</td>\n",
              "      <td>32.6667</td>\n",
              "      <td>16.1333</td>\n",
              "      <td>39.0000</td>\n",
              "      <td>5.0000</td>\n",
              "      <td>0.0000</td>\n",
              "      <td>9.0000</td>\n",
              "      <td>12.0000</td>\n",
              "      <td>-8.5556</td>\n",
              "      <td>3.0000</td>\n",
              "      <td>0.0000</td>\n",
              "      <td>6.0000</td>\n",
              "      <td>3.0000</td>\n",
              "      <td>29.0000</td>\n",
              "      <td>10.0000</td>\n",
              "      <td>6.4000</td>\n",
              "      <td>1.0000</td>\n",
              "    </tr>\n",
              "    <tr>\n",
              "      <th>6204</th>\n",
              "      <td>74.0000</td>\n",
              "      <td>204.0000</td>\n",
              "      <td>4.6200</td>\n",
              "      <td>31.0000</td>\n",
              "      <td>1.0000</td>\n",
              "      <td>41.2667</td>\n",
              "      <td>41.5000</td>\n",
              "      <td>47.6667</td>\n",
              "      <td>71.1000</td>\n",
              "      <td>59.6667</td>\n",
              "      <td>4.0000</td>\n",
              "      <td>0.6667</td>\n",
              "      <td>5.3333</td>\n",
              "      <td>7.4444</td>\n",
              "      <td>-2.5926</td>\n",
              "      <td>1.0000</td>\n",
              "      <td>0.0000</td>\n",
              "      <td>3.6667</td>\n",
              "      <td>1.6667</td>\n",
              "      <td>40.6667</td>\n",
              "      <td>35.0000</td>\n",
              "      <td>18.1333</td>\n",
              "      <td>89.0000</td>\n",
              "      <td>5.0000</td>\n",
              "      <td>1.0000</td>\n",
              "      <td>6.0000</td>\n",
              "      <td>8.3333</td>\n",
              "      <td>-8.6667</td>\n",
              "      <td>2.0000</td>\n",
              "      <td>0.0000</td>\n",
              "      <td>5.0000</td>\n",
              "      <td>1.0000</td>\n",
              "      <td>39.0000</td>\n",
              "      <td>50.0000</td>\n",
              "      <td>17.4000</td>\n",
              "      <td>1.0000</td>\n",
              "    </tr>\n",
              "    <tr>\n",
              "      <th>1350</th>\n",
              "      <td>71.0000</td>\n",
              "      <td>195.0000</td>\n",
              "      <td>4.4000</td>\n",
              "      <td>36.0000</td>\n",
              "      <td>4.0000</td>\n",
              "      <td>43.8333</td>\n",
              "      <td>21.4000</td>\n",
              "      <td>45.3000</td>\n",
              "      <td>42.1000</td>\n",
              "      <td>15.3333</td>\n",
              "      <td>2.0000</td>\n",
              "      <td>0.0000</td>\n",
              "      <td>3.6667</td>\n",
              "      <td>10.8000</td>\n",
              "      <td>-5.9333</td>\n",
              "      <td>2.0000</td>\n",
              "      <td>0.0000</td>\n",
              "      <td>3.0000</td>\n",
              "      <td>0.6667</td>\n",
              "      <td>14.3333</td>\n",
              "      <td>3.6667</td>\n",
              "      <td>2.6000</td>\n",
              "      <td>7.0000</td>\n",
              "      <td>1.0000</td>\n",
              "      <td>0.0000</td>\n",
              "      <td>4.0000</td>\n",
              "      <td>13.0000</td>\n",
              "      <td>-3.5000</td>\n",
              "      <td>4.0000</td>\n",
              "      <td>0.0000</td>\n",
              "      <td>3.0000</td>\n",
              "      <td>1.0000</td>\n",
              "      <td>7.0000</td>\n",
              "      <td>0.0000</td>\n",
              "      <td>1.2000</td>\n",
              "      <td>0.0000</td>\n",
              "    </tr>\n",
              "    <tr>\n",
              "      <th>4079</th>\n",
              "      <td>70.0000</td>\n",
              "      <td>179.0000</td>\n",
              "      <td>4.3400</td>\n",
              "      <td>36.5000</td>\n",
              "      <td>4.0000</td>\n",
              "      <td>34.1333</td>\n",
              "      <td>13.9000</td>\n",
              "      <td>43.1333</td>\n",
              "      <td>51.9000</td>\n",
              "      <td>86.6667</td>\n",
              "      <td>4.0000</td>\n",
              "      <td>0.3333</td>\n",
              "      <td>10.0000</td>\n",
              "      <td>22.2143</td>\n",
              "      <td>1.9524</td>\n",
              "      <td>3.0000</td>\n",
              "      <td>0.0000</td>\n",
              "      <td>4.3333</td>\n",
              "      <td>5.6667</td>\n",
              "      <td>65.3333</td>\n",
              "      <td>21.3333</td>\n",
              "      <td>10.0000</td>\n",
              "      <td>58.0000</td>\n",
              "      <td>4.0000</td>\n",
              "      <td>0.0000</td>\n",
              "      <td>14.0000</td>\n",
              "      <td>16.3571</td>\n",
              "      <td>-0.8571</td>\n",
              "      <td>4.0000</td>\n",
              "      <td>0.0000</td>\n",
              "      <td>7.0000</td>\n",
              "      <td>7.0000</td>\n",
              "      <td>39.0000</td>\n",
              "      <td>19.0000</td>\n",
              "      <td>7.8000</td>\n",
              "      <td>0.0000</td>\n",
              "    </tr>\n",
              "    <tr>\n",
              "      <th>3101</th>\n",
              "      <td>72.0000</td>\n",
              "      <td>194.0000</td>\n",
              "      <td>4.3800</td>\n",
              "      <td>33.5000</td>\n",
              "      <td>2.0000</td>\n",
              "      <td>40.7667</td>\n",
              "      <td>37.6000</td>\n",
              "      <td>53.6333</td>\n",
              "      <td>60.3000</td>\n",
              "      <td>44.0000</td>\n",
              "      <td>2.3333</td>\n",
              "      <td>0.0000</td>\n",
              "      <td>5.3333</td>\n",
              "      <td>19.1810</td>\n",
              "      <td>-14.0143</td>\n",
              "      <td>0.3333</td>\n",
              "      <td>0.0000</td>\n",
              "      <td>1.3333</td>\n",
              "      <td>4.0000</td>\n",
              "      <td>42.0000</td>\n",
              "      <td>8.3333</td>\n",
              "      <td>5.2000</td>\n",
              "      <td>0.0000</td>\n",
              "      <td>0.0000</td>\n",
              "      <td>0.0000</td>\n",
              "      <td>4.0000</td>\n",
              "      <td>19.0000</td>\n",
              "      <td>-4.5000</td>\n",
              "      <td>1.0000</td>\n",
              "      <td>0.0000</td>\n",
              "      <td>2.0000</td>\n",
              "      <td>2.0000</td>\n",
              "      <td>0.0000</td>\n",
              "      <td>0.0000</td>\n",
              "      <td>0.0000</td>\n",
              "      <td>1.0000</td>\n",
              "    </tr>\n",
              "  </tbody>\n",
              "</table>\n",
              "<p>4483 rows × 36 columns</p>\n",
              "</div>"
            ],
            "text/plain": [
              "      Height_Inches       Wt  ...  Fantasy_Points_Scored__Last_Game  home_game_flag\n",
              "3266        72.0000 204.0000  ...                            0.0000          1.0000\n",
              "4068        70.0000 179.0000  ...                           13.8000          0.0000\n",
              "3245        72.0000 201.0000  ...                            8.4000          0.0000\n",
              "3568        73.0000 214.0000  ...                            1.3000          1.0000\n",
              "4259        70.0000 189.0000  ...                            4.4000          1.0000\n",
              "1520        70.0000 199.0000  ...                           23.8000          1.0000\n",
              "217         74.0000 215.0000  ...                            7.2000          0.0000\n",
              "1685        75.0000 220.0000  ...                            8.9000          1.0000\n",
              "5875        73.0000 196.0000  ...                            0.0000          0.0000\n",
              "6361        71.0000 200.0000  ...                            2.6000          0.0000\n",
              "...             ...      ...  ...                               ...             ...\n",
              "6023        72.0000 186.0000  ...                            2.7000          0.0000\n",
              "1424        75.0000 222.0000  ...                            5.2000          1.0000\n",
              "961         72.0000 199.0000  ...                            4.5000          0.0000\n",
              "914         72.0000 199.0000  ...                           13.1000          0.0000\n",
              "5798        74.0000 194.0000  ...                            1.1000          1.0000\n",
              "3584        73.0000 214.0000  ...                            6.4000          1.0000\n",
              "6204        74.0000 204.0000  ...                           17.4000          1.0000\n",
              "1350        71.0000 195.0000  ...                            1.2000          0.0000\n",
              "4079        70.0000 179.0000  ...                            7.8000          0.0000\n",
              "3101        72.0000 194.0000  ...                            0.0000          1.0000\n",
              "\n",
              "[4483 rows x 36 columns]"
            ]
          },
          "metadata": {
            "tags": []
          },
          "execution_count": 34
        }
      ]
    },
    {
      "cell_type": "markdown",
      "metadata": {
        "colab_type": "text",
        "id": "8EOnOdAje4OU"
      },
      "source": [
        "## Data Normalization - Standard Scaler"
      ]
    },
    {
      "cell_type": "code",
      "metadata": {
        "colab_type": "code",
        "outputId": "01f772c9-e6cc-4751-eceb-fe785b9b9cc7",
        "id": "NIbcBdMDe4OW",
        "colab": {
          "base_uri": "https://localhost:8080/",
          "height": 34
        }
      },
      "source": [
        "# Getting Summary Statistics for Rescaling Outputs\n",
        "train_mean = np.mean(Ytrain)\n",
        "train_mdn = np.median(Ytrain)\n",
        "train_stdev = np.std(Ytrain)\n",
        "val_mean = np.mean(Yval)\n",
        "val_mdn = np.median(Yval)\n",
        "val_stdev = np.std(Yval)\n",
        "test_mean = np.mean(Ytest)\n",
        "test_mdn = np.median(Ytest)\n",
        "test_stdev = np.std(Ytest)\n",
        "train_mean"
      ],
      "execution_count": 36,
      "outputs": [
        {
          "output_type": "execute_result",
          "data": {
            "text/plain": [
              "7.8633056"
            ]
          },
          "metadata": {
            "tags": []
          },
          "execution_count": 36
        }
      ]
    },
    {
      "cell_type": "code",
      "metadata": {
        "colab_type": "code",
        "id": "aHj-Nqdwe4OZ",
        "colab": {}
      },
      "source": [
        "# Normalizing data using Standard Scaler\n",
        "scaler = preprocessing.StandardScaler()\n",
        "#scaler = preprocessing.RobustScaler()\n",
        "\n",
        "# Normalizing training, validation, and test data individually\n",
        "Xtrain_norm = scaler.fit_transform(Xtrain)\n",
        "Xval_norm = scaler.fit_transform(Xval)\n",
        "Xtest_norm = scaler.fit_transform(Xtest)\n",
        "Ytrain_norm = scaler.fit_transform(Ytrain)\n",
        "Yval_norm = scaler.fit_transform(Yval)\n",
        "Ytest_norm = scaler.fit_transform(Ytest)"
      ],
      "execution_count": 0,
      "outputs": []
    },
    {
      "cell_type": "markdown",
      "metadata": {
        "colab_type": "text",
        "id": "sABem_5JfCBr"
      },
      "source": [
        "## Running Model with Optimized Functions"
      ]
    },
    {
      "cell_type": "markdown",
      "metadata": {
        "colab_type": "text",
        "id": "PJIFvc5yfCB1"
      },
      "source": [
        "### Model Structure and Hyperparameters"
      ]
    },
    {
      "cell_type": "code",
      "metadata": {
        "colab_type": "code",
        "id": "x41DSVvxfCB2",
        "colab": {}
      },
      "source": [
        "# Structural Hyperparameters\n",
        "n_inputs = len(Xtrain_norm)\n",
        "n_features = len(Xtrain_norm[0])\n",
        "n_hidden1 = 20\n",
        "n_hidden2 = 20\n",
        "n_hidden3 = 5\n",
        "n_outputs = 1\n",
        "optimizer = optimizers.SGD(lr=0.01, momentum=0.1)\n",
        "#optimizer = optimizers.Adam(lr=0.001)\n",
        "\n",
        "# Create function returning a compiled network\n",
        "def create_network():\n",
        "    \n",
        "    # Start neural network\n",
        "    network = models.Sequential()\n",
        "\n",
        "    # Add layer with a ReLU activation function and bias\n",
        "    network.add(layers.Dense(units=n_hidden1, activation='linear', \n",
        "                             kernel_initializer='uniform', use_bias=True,\n",
        "                             kernel_constraint=maxnorm(1), \n",
        "                             input_shape=(n_features,)\n",
        "                             ))\n",
        "    network.add(Dropout(0.2))\n",
        "    \n",
        "    # Add layer with a ReLU activation function and bias\n",
        "    network.add(layers.Dense(units=n_hidden2, activation='linear', \n",
        "                             kernel_initializer='uniform', use_bias=True,\n",
        "                             kernel_constraint=maxnorm(1)\n",
        "                             ))\n",
        "    network.add(Dropout(0.2))\n",
        "\n",
        "    # Add layer with ReLU activation function and bias\n",
        "    network.add(layers.Dense(units=n_hidden3, activation='linear', \n",
        "                             kernel_initializer='uniform', use_bias=True,\n",
        "                             kernel_constraint=maxnorm(1)\n",
        "                             ))\n",
        "    network.add(Dropout(0.2))\n",
        "\n",
        "    # Add output layer with ReLU activation function\n",
        "    network.add(layers.Dense(units=n_outputs, activation='relu'))\n",
        "\n",
        "    # Compile neural network\n",
        "    network.compile(optimizer=optimizer,\n",
        "                    loss='mean_squared_error',\n",
        "                    metrics=['mean_squared_error', 'mean_absolute_error'])\n",
        "    \n",
        "    # Return compiled network\n",
        "    return network\n",
        "\n",
        "# Set random seed\n",
        "np.random.seed(0)\n",
        "\n",
        "# create model\n",
        "nn_final = KerasRegressor(build_fn=create_network,  epochs=300, batch_size=100, verbose=0)"
      ],
      "execution_count": 0,
      "outputs": []
    },
    {
      "cell_type": "markdown",
      "metadata": {
        "colab_type": "text",
        "id": "OT3CJRrdfCCG"
      },
      "source": [
        "### Evaluating Model on Test Data"
      ]
    },
    {
      "cell_type": "code",
      "metadata": {
        "colab_type": "code",
        "outputId": "7fc690d2-63c3-4e56-ef4b-35dd475d331a",
        "id": "1dIZf80WfCCG",
        "colab": {
          "base_uri": "https://localhost:8080/",
          "height": 706
        }
      },
      "source": [
        "test_history3 = nn_final.fit(x = Xtest_norm, verbose=0, y = Ytest_norm\n",
        "                      \n",
        "                      , validation_data = (Xval_norm, Yval_norm)\n",
        ")\n",
        "test_hist3 = pd.DataFrame(test_history3.history)\n",
        "test_hist3['epoch'] = test_history3.epoch\n",
        "test_hist3"
      ],
      "execution_count": 39,
      "outputs": [
        {
          "output_type": "execute_result",
          "data": {
            "text/html": [
              "<div>\n",
              "<style scoped>\n",
              "    .dataframe tbody tr th:only-of-type {\n",
              "        vertical-align: middle;\n",
              "    }\n",
              "\n",
              "    .dataframe tbody tr th {\n",
              "        vertical-align: top;\n",
              "    }\n",
              "\n",
              "    .dataframe thead th {\n",
              "        text-align: right;\n",
              "    }\n",
              "</style>\n",
              "<table border=\"1\" class=\"dataframe\">\n",
              "  <thead>\n",
              "    <tr style=\"text-align: right;\">\n",
              "      <th></th>\n",
              "      <th>val_loss</th>\n",
              "      <th>val_mean_squared_error</th>\n",
              "      <th>val_mean_absolute_error</th>\n",
              "      <th>loss</th>\n",
              "      <th>mean_squared_error</th>\n",
              "      <th>mean_absolute_error</th>\n",
              "      <th>epoch</th>\n",
              "    </tr>\n",
              "  </thead>\n",
              "  <tbody>\n",
              "    <tr>\n",
              "      <th>0</th>\n",
              "      <td>0.9985</td>\n",
              "      <td>0.9985</td>\n",
              "      <td>0.8020</td>\n",
              "      <td>0.9991</td>\n",
              "      <td>0.9991</td>\n",
              "      <td>0.7821</td>\n",
              "      <td>0</td>\n",
              "    </tr>\n",
              "    <tr>\n",
              "      <th>1</th>\n",
              "      <td>0.9986</td>\n",
              "      <td>0.9986</td>\n",
              "      <td>0.8010</td>\n",
              "      <td>0.9990</td>\n",
              "      <td>0.9990</td>\n",
              "      <td>0.7834</td>\n",
              "      <td>1</td>\n",
              "    </tr>\n",
              "    <tr>\n",
              "      <th>2</th>\n",
              "      <td>0.9968</td>\n",
              "      <td>0.9968</td>\n",
              "      <td>0.8034</td>\n",
              "      <td>0.9974</td>\n",
              "      <td>0.9974</td>\n",
              "      <td>0.7816</td>\n",
              "      <td>2</td>\n",
              "    </tr>\n",
              "    <tr>\n",
              "      <th>3</th>\n",
              "      <td>0.9955</td>\n",
              "      <td>0.9955</td>\n",
              "      <td>0.8009</td>\n",
              "      <td>0.9976</td>\n",
              "      <td>0.9976</td>\n",
              "      <td>0.7841</td>\n",
              "      <td>3</td>\n",
              "    </tr>\n",
              "    <tr>\n",
              "      <th>4</th>\n",
              "      <td>0.9941</td>\n",
              "      <td>0.9941</td>\n",
              "      <td>0.8025</td>\n",
              "      <td>0.9950</td>\n",
              "      <td>0.9950</td>\n",
              "      <td>0.7832</td>\n",
              "      <td>4</td>\n",
              "    </tr>\n",
              "    <tr>\n",
              "      <th>5</th>\n",
              "      <td>0.9928</td>\n",
              "      <td>0.9928</td>\n",
              "      <td>0.8033</td>\n",
              "      <td>0.9941</td>\n",
              "      <td>0.9941</td>\n",
              "      <td>0.7826</td>\n",
              "      <td>5</td>\n",
              "    </tr>\n",
              "    <tr>\n",
              "      <th>6</th>\n",
              "      <td>0.9902</td>\n",
              "      <td>0.9902</td>\n",
              "      <td>0.8009</td>\n",
              "      <td>0.9928</td>\n",
              "      <td>0.9928</td>\n",
              "      <td>0.7837</td>\n",
              "      <td>6</td>\n",
              "    </tr>\n",
              "    <tr>\n",
              "      <th>7</th>\n",
              "      <td>0.9890</td>\n",
              "      <td>0.9890</td>\n",
              "      <td>0.8040</td>\n",
              "      <td>0.9884</td>\n",
              "      <td>0.9884</td>\n",
              "      <td>0.7804</td>\n",
              "      <td>7</td>\n",
              "    </tr>\n",
              "    <tr>\n",
              "      <th>8</th>\n",
              "      <td>0.9849</td>\n",
              "      <td>0.9849</td>\n",
              "      <td>0.7989</td>\n",
              "      <td>0.9871</td>\n",
              "      <td>0.9871</td>\n",
              "      <td>0.7838</td>\n",
              "      <td>8</td>\n",
              "    </tr>\n",
              "    <tr>\n",
              "      <th>9</th>\n",
              "      <td>0.9818</td>\n",
              "      <td>0.9818</td>\n",
              "      <td>0.8007</td>\n",
              "      <td>0.9835</td>\n",
              "      <td>0.9835</td>\n",
              "      <td>0.7803</td>\n",
              "      <td>9</td>\n",
              "    </tr>\n",
              "    <tr>\n",
              "      <th>...</th>\n",
              "      <td>...</td>\n",
              "      <td>...</td>\n",
              "      <td>...</td>\n",
              "      <td>...</td>\n",
              "      <td>...</td>\n",
              "      <td>...</td>\n",
              "      <td>...</td>\n",
              "    </tr>\n",
              "    <tr>\n",
              "      <th>290</th>\n",
              "      <td>0.9188</td>\n",
              "      <td>0.9188</td>\n",
              "      <td>0.7941</td>\n",
              "      <td>0.8521</td>\n",
              "      <td>0.8521</td>\n",
              "      <td>0.7550</td>\n",
              "      <td>290</td>\n",
              "    </tr>\n",
              "    <tr>\n",
              "      <th>291</th>\n",
              "      <td>0.9153</td>\n",
              "      <td>0.9153</td>\n",
              "      <td>0.7910</td>\n",
              "      <td>0.8760</td>\n",
              "      <td>0.8760</td>\n",
              "      <td>0.7601</td>\n",
              "      <td>291</td>\n",
              "    </tr>\n",
              "    <tr>\n",
              "      <th>292</th>\n",
              "      <td>0.9156</td>\n",
              "      <td>0.9156</td>\n",
              "      <td>0.7915</td>\n",
              "      <td>0.8528</td>\n",
              "      <td>0.8528</td>\n",
              "      <td>0.7545</td>\n",
              "      <td>292</td>\n",
              "    </tr>\n",
              "    <tr>\n",
              "      <th>293</th>\n",
              "      <td>0.9154</td>\n",
              "      <td>0.9154</td>\n",
              "      <td>0.7911</td>\n",
              "      <td>0.8585</td>\n",
              "      <td>0.8585</td>\n",
              "      <td>0.7537</td>\n",
              "      <td>293</td>\n",
              "    </tr>\n",
              "    <tr>\n",
              "      <th>294</th>\n",
              "      <td>0.9157</td>\n",
              "      <td>0.9157</td>\n",
              "      <td>0.7915</td>\n",
              "      <td>0.8562</td>\n",
              "      <td>0.8562</td>\n",
              "      <td>0.7545</td>\n",
              "      <td>294</td>\n",
              "    </tr>\n",
              "    <tr>\n",
              "      <th>295</th>\n",
              "      <td>0.9165</td>\n",
              "      <td>0.9165</td>\n",
              "      <td>0.7926</td>\n",
              "      <td>0.8675</td>\n",
              "      <td>0.8675</td>\n",
              "      <td>0.7551</td>\n",
              "      <td>295</td>\n",
              "    </tr>\n",
              "    <tr>\n",
              "      <th>296</th>\n",
              "      <td>0.9161</td>\n",
              "      <td>0.9161</td>\n",
              "      <td>0.7920</td>\n",
              "      <td>0.8571</td>\n",
              "      <td>0.8571</td>\n",
              "      <td>0.7532</td>\n",
              "      <td>296</td>\n",
              "    </tr>\n",
              "    <tr>\n",
              "      <th>297</th>\n",
              "      <td>0.9183</td>\n",
              "      <td>0.9183</td>\n",
              "      <td>0.7943</td>\n",
              "      <td>0.8563</td>\n",
              "      <td>0.8563</td>\n",
              "      <td>0.7533</td>\n",
              "      <td>297</td>\n",
              "    </tr>\n",
              "    <tr>\n",
              "      <th>298</th>\n",
              "      <td>0.9178</td>\n",
              "      <td>0.9178</td>\n",
              "      <td>0.7937</td>\n",
              "      <td>0.8540</td>\n",
              "      <td>0.8540</td>\n",
              "      <td>0.7534</td>\n",
              "      <td>298</td>\n",
              "    </tr>\n",
              "    <tr>\n",
              "      <th>299</th>\n",
              "      <td>0.9173</td>\n",
              "      <td>0.9173</td>\n",
              "      <td>0.7931</td>\n",
              "      <td>0.8510</td>\n",
              "      <td>0.8510</td>\n",
              "      <td>0.7560</td>\n",
              "      <td>299</td>\n",
              "    </tr>\n",
              "  </tbody>\n",
              "</table>\n",
              "<p>300 rows × 7 columns</p>\n",
              "</div>"
            ],
            "text/plain": [
              "     val_loss  val_mean_squared_error  ...  mean_absolute_error  epoch\n",
              "0      0.9985                  0.9985  ...               0.7821      0\n",
              "1      0.9986                  0.9986  ...               0.7834      1\n",
              "2      0.9968                  0.9968  ...               0.7816      2\n",
              "3      0.9955                  0.9955  ...               0.7841      3\n",
              "4      0.9941                  0.9941  ...               0.7832      4\n",
              "5      0.9928                  0.9928  ...               0.7826      5\n",
              "6      0.9902                  0.9902  ...               0.7837      6\n",
              "7      0.9890                  0.9890  ...               0.7804      7\n",
              "8      0.9849                  0.9849  ...               0.7838      8\n",
              "9      0.9818                  0.9818  ...               0.7803      9\n",
              "..        ...                     ...  ...                  ...    ...\n",
              "290    0.9188                  0.9188  ...               0.7550    290\n",
              "291    0.9153                  0.9153  ...               0.7601    291\n",
              "292    0.9156                  0.9156  ...               0.7545    292\n",
              "293    0.9154                  0.9154  ...               0.7537    293\n",
              "294    0.9157                  0.9157  ...               0.7545    294\n",
              "295    0.9165                  0.9165  ...               0.7551    295\n",
              "296    0.9161                  0.9161  ...               0.7532    296\n",
              "297    0.9183                  0.9183  ...               0.7533    297\n",
              "298    0.9178                  0.9178  ...               0.7534    298\n",
              "299    0.9173                  0.9173  ...               0.7560    299\n",
              "\n",
              "[300 rows x 7 columns]"
            ]
          },
          "metadata": {
            "tags": []
          },
          "execution_count": 39
        }
      ]
    },
    {
      "cell_type": "code",
      "metadata": {
        "id": "dhMoKjbJwNlu",
        "colab_type": "code",
        "colab": {
          "base_uri": "https://localhost:8080/",
          "height": 158
        },
        "outputId": "89cff362-7fb7-423a-9fb6-e7d7a93a8ace"
      },
      "source": [
        "test_hist1.loc[test_hist['val_mean_squared_error'].idxmin()]"
      ],
      "execution_count": 23,
      "outputs": [
        {
          "output_type": "execute_result",
          "data": {
            "text/plain": [
              "val_loss                   0.8741\n",
              "val_mean_squared_error     0.8741\n",
              "val_mean_absolute_error    0.7611\n",
              "loss                       0.8564\n",
              "mean_squared_error         0.8564\n",
              "mean_absolute_error        0.7651\n",
              "epoch                     72.0000\n",
              "Name: 72, dtype: float64"
            ]
          },
          "metadata": {
            "tags": []
          },
          "execution_count": 23
        }
      ]
    },
    {
      "cell_type": "code",
      "metadata": {
        "id": "iZbXIvcKwigV",
        "colab_type": "code",
        "colab": {
          "base_uri": "https://localhost:8080/",
          "height": 158
        },
        "outputId": "dbfa31ab-13d3-4a5b-f9fe-8bc3363e2988"
      },
      "source": [
        "test_hist2.loc[test_hist['val_mean_squared_error'].idxmin()]"
      ],
      "execution_count": 32,
      "outputs": [
        {
          "output_type": "execute_result",
          "data": {
            "text/plain": [
              "val_loss                   0.9065\n",
              "val_mean_squared_error     0.9065\n",
              "val_mean_absolute_error    0.7733\n",
              "loss                       0.8932\n",
              "mean_squared_error         0.8932\n",
              "mean_absolute_error        0.7725\n",
              "epoch                     72.0000\n",
              "Name: 72, dtype: float64"
            ]
          },
          "metadata": {
            "tags": []
          },
          "execution_count": 32
        }
      ]
    },
    {
      "cell_type": "code",
      "metadata": {
        "id": "wk9CKr6Zwirw",
        "colab_type": "code",
        "colab": {
          "base_uri": "https://localhost:8080/",
          "height": 158
        },
        "outputId": "d47503d6-c7fb-45d9-85f6-68f8724a8233"
      },
      "source": [
        "test_hist3.loc[test_hist['val_mean_squared_error'].idxmin()]"
      ],
      "execution_count": 40,
      "outputs": [
        {
          "output_type": "execute_result",
          "data": {
            "text/plain": [
              "val_loss                   0.8868\n",
              "val_mean_squared_error     0.8868\n",
              "val_mean_absolute_error    0.7785\n",
              "loss                       0.8819\n",
              "mean_squared_error         0.8819\n",
              "mean_absolute_error        0.7654\n",
              "epoch                     72.0000\n",
              "Name: 72, dtype: float64"
            ]
          },
          "metadata": {
            "tags": []
          },
          "execution_count": 40
        }
      ]
    },
    {
      "cell_type": "code",
      "metadata": {
        "id": "zCzpPMXSxguQ",
        "colab_type": "code",
        "colab": {}
      },
      "source": [
        ""
      ],
      "execution_count": 0,
      "outputs": []
    },
    {
      "cell_type": "code",
      "metadata": {
        "colab_type": "code",
        "outputId": "1a6943e5-e341-47da-ad3a-3254b8f164a7",
        "id": "JJOKzoWjfCCJ",
        "colab": {
          "base_uri": "https://localhost:8080/",
          "height": 286
        }
      },
      "source": [
        "tuned_nn_plot_MSE_test = test_hist.iloc[:, [4,1]].plot.line()\n",
        "tuned_nn_plot_MSE_test"
      ],
      "execution_count": 0,
      "outputs": [
        {
          "output_type": "execute_result",
          "data": {
            "text/plain": [
              "<matplotlib.axes._subplots.AxesSubplot at 0x7f8ac23f9cf8>"
            ]
          },
          "metadata": {
            "tags": []
          },
          "execution_count": 31
        },
        {
          "output_type": "display_data",
          "data": {
            "image/png": "[encoded data removed]",
            "text/plain": [
              "<Figure size 432x288 with 1 Axes>"
            ]
          },
          "metadata": {
            "tags": []
          }
        }
      ]
    },
    {
      "cell_type": "code",
      "metadata": {
        "colab_type": "code",
        "outputId": "5094d199-b623-4d28-c636-00aa2f312942",
        "id": "di23lowZfCCL",
        "colab": {
          "base_uri": "https://localhost:8080/",
          "height": 286
        }
      },
      "source": [
        "tuned_nn_plot_MAE_test = test_hist.iloc[:, [5,2]].plot.line()\n",
        "tuned_nn_plot_MAE_test"
      ],
      "execution_count": 0,
      "outputs": [
        {
          "output_type": "execute_result",
          "data": {
            "text/plain": [
              "<matplotlib.axes._subplots.AxesSubplot at 0x7f8ac23c6d68>"
            ]
          },
          "metadata": {
            "tags": []
          },
          "execution_count": 32
        },
        {
          "output_type": "display_data",
          "data": {
            "image/png": "[encoded data removed]",
            "text/plain": [
              "<Figure size 432x288 with 1 Axes>"
            ]
          },
          "metadata": {
            "tags": []
          }
        }
      ]
    },
    {
      "cell_type": "code",
      "metadata": {
        "id": "i1PHrHz8eqrR",
        "colab_type": "code",
        "colab": {}
      },
      "source": [
        ""
      ],
      "execution_count": 0,
      "outputs": []
    },
    {
      "cell_type": "code",
      "metadata": {
        "id": "ttAyZLwtfJHN",
        "colab_type": "code",
        "colab": {}
      },
      "source": [
        ""
      ],
      "execution_count": 0,
      "outputs": []
    },
    {
      "cell_type": "code",
      "metadata": {
        "id": "g_LTZHomfJJ6",
        "colab_type": "code",
        "colab": {}
      },
      "source": [
        ""
      ],
      "execution_count": 0,
      "outputs": []
    },
    {
      "cell_type": "code",
      "metadata": {
        "id": "6csATsakfJMZ",
        "colab_type": "code",
        "colab": {}
      },
      "source": [
        ""
      ],
      "execution_count": 0,
      "outputs": []
    },
    {
      "cell_type": "code",
      "metadata": {
        "id": "-ydamGFxfJPA",
        "colab_type": "code",
        "colab": {}
      },
      "source": [
        ""
      ],
      "execution_count": 0,
      "outputs": []
    }
  ]
}